{
 "cells": [
  {
   "cell_type": "markdown",
   "metadata": {},
   "source": [
    "# import"
   ]
  },
  {
   "cell_type": "code",
   "execution_count": 1,
   "metadata": {},
   "outputs": [],
   "source": [
    "import sys\n",
    "import os\n",
    "import os.path as osp\n",
    "import torch\n",
    "import cv2\n",
    "from tqdm import tqdm\n",
    "import matplotlib.pyplot as plt\n",
    "import pandas as pd\n",
    "import pickle\n",
    "import numpy as np"
   ]
  },
  {
   "cell_type": "code",
   "execution_count": 2,
   "metadata": {},
   "outputs": [],
   "source": [
    "base_dir = '/workspace/CenterTrack/'\n",
    "centertrack_path = osp.join(base_dir, 'src', 'lib')\n",
    "sys.path.insert(0, centertrack_path)"
   ]
  },
  {
   "cell_type": "code",
   "execution_count": 3,
   "metadata": {},
   "outputs": [
    {
     "name": "stderr",
     "output_type": "stream",
     "text": [
      "/home/ubuntu/.local/lib/python3.6/site-packages/sklearn/utils/linear_assignment_.py:22: FutureWarning: The linear_assignment_ module is deprecated in 0.21 and will be removed from 0.23. Use scipy.optimize.linear_sum_assignment instead.\n",
      "  FutureWarning)\n"
     ]
    }
   ],
   "source": [
    "from detector import Detector\n",
    "from opts import opts"
   ]
  },
  {
   "cell_type": "markdown",
   "metadata": {},
   "source": [
    "# constant"
   ]
  },
  {
   "cell_type": "code",
   "execution_count": 4,
   "metadata": {},
   "outputs": [],
   "source": [
    "TASK = 'tracking' # or 'tracking,multi_pose' for pose tracking and 'tracking,ddd' for monocular 3d tracking\n",
    "MODEL_PATH = osp.join(base_dir, 'models', 'coco_tracking.pth')\n",
    "# MODEL_PATH = osp.join(base_dir, 'models', 'mot17_fulltrain.pth')"
   ]
  },
  {
   "cell_type": "code",
   "execution_count": 5,
   "metadata": {},
   "outputs": [
    {
     "name": "stdout",
     "output_type": "stream",
     "text": [
      "Running tracking\n",
      "Using tracking threshold for out threshold! 0.3\n",
      "Fix size testing.\n",
      "training chunk_sizes: [32]\n",
      "input h w: 512 512\n",
      "heads {'hm': 80, 'reg': 2, 'wh': 2, 'tracking': 2}\n",
      "weights {'hm': 1, 'reg': 1, 'wh': 0.1, 'tracking': 1}\n",
      "head conv {'hm': [256], 'reg': [256], 'wh': [256], 'tracking': [256]}\n"
     ]
    }
   ],
   "source": [
    "opt = opts().init('{} --load_model {}'.format(TASK, MODEL_PATH).split(' '))"
   ]
  },
  {
   "cell_type": "code",
   "execution_count": 11,
   "metadata": {},
   "outputs": [],
   "source": [
    "opt.vis_thresh = 0.1"
   ]
  },
  {
   "cell_type": "markdown",
   "metadata": {},
   "source": [
    "# path"
   ]
  },
  {
   "cell_type": "code",
   "execution_count": 6,
   "metadata": {},
   "outputs": [],
   "source": [
    "data_dir = '../input/player/'"
   ]
  },
  {
   "cell_type": "code",
   "execution_count": 7,
   "metadata": {},
   "outputs": [],
   "source": [
    "data_name = 'player'\n",
    "data_dir = osp.join('../input', data_name)\n",
    "save_dir = osp.join('../output', data_name, 'tracking')\n",
    "\n",
    "# image_save_dir = osp.join('../output', data_name, 'image', 'person')\n",
    "# label_save_dir = osp.join('../output', data_name, 'label')"
   ]
  },
  {
   "cell_type": "markdown",
   "metadata": {},
   "source": [
    "# function"
   ]
  },
  {
   "cell_type": "code",
   "execution_count": 8,
   "metadata": {},
   "outputs": [],
   "source": [
    "def listdirs(dir_path, name_condition=None):\n",
    "    dir_names = os.listdir(dir_path)\n",
    "    if name_condition is not None:\n",
    "        dir_names = [dir_name for dir_name in dir_names if dir_name.startswith(name_condition)]\n",
    "    dir_names.sort()\n",
    "    return dir_names"
   ]
  },
  {
   "cell_type": "code",
   "execution_count": 9,
   "metadata": {},
   "outputs": [],
   "source": [
    "def save_pickle(data, path):\n",
    "    with open(path, 'wb') as f:\n",
    "        pickle.dump(data, f)\n",
    "\n",
    "\n",
    "def load_pickle(path):\n",
    "    with open(path, 'rb') as f:\n",
    "        data = pickle.load(f)\n",
    "    return data"
   ]
  },
  {
   "cell_type": "markdown",
   "metadata": {},
   "source": [
    "# main"
   ]
  },
  {
   "cell_type": "code",
   "execution_count": 10,
   "metadata": {},
   "outputs": [],
   "source": [
    "person_class_id = 1"
   ]
  },
  {
   "cell_type": "code",
   "execution_count": 13,
   "metadata": {},
   "outputs": [
    {
     "name": "stdout",
     "output_type": "stream",
     "text": [
      "Creating model...\n",
      "Using node type: (<class 'model.networks.dla.DeformConv'>, <class 'model.networks.dla.DeformConv'>)\n",
      "Warning: No ImageNet pretrain!!\n",
      "loaded /workspace/CenterTrack/models/coco_tracking.pth, epoch 70\n",
      "Drop parameter base.pre_hm_layer.0.weight.\n",
      "Drop parameter base.pre_hm_layer.1.weight.\n",
      "Drop parameter base.pre_hm_layer.1.bias.\n",
      "Drop parameter base.pre_hm_layer.1.running_mean.\n",
      "Drop parameter base.pre_hm_layer.1.running_var.\n",
      "Drop parameter base.pre_hm_layer.1.num_batches_tracked.\n"
     ]
    },
    {
     "name": "stderr",
     "output_type": "stream",
     "text": [
      "\n",
      "\n",
      "  0%|          | 0/13 [00:00<?, ?it/s]\u001b[A\u001b[A"
     ]
    },
    {
     "name": "stdout",
     "output_type": "stream",
     "text": [
      "game1\n",
      "Creating model...\n",
      "Using node type: (<class 'model.networks.dla.DeformConv'>, <class 'model.networks.dla.DeformConv'>)\n",
      "Warning: No ImageNet pretrain!!\n",
      "loaded /workspace/CenterTrack/models/coco_tracking.pth, epoch 70\n",
      "Drop parameter base.pre_hm_layer.0.weight.\n",
      "Drop parameter base.pre_hm_layer.1.weight.\n",
      "Drop parameter base.pre_hm_layer.1.bias.\n",
      "Drop parameter base.pre_hm_layer.1.running_mean.\n",
      "Drop parameter base.pre_hm_layer.1.running_var.\n",
      "Drop parameter base.pre_hm_layer.1.num_batches_tracked.\n",
      "Initialize tracking!\n"
     ]
    },
    {
     "name": "stderr",
     "output_type": "stream",
     "text": [
      "\n",
      "\n",
      "  8%|▊         | 1/13 [00:15<03:07, 15.61s/it]\u001b[A\u001b[A"
     ]
    },
    {
     "name": "stdout",
     "output_type": "stream",
     "text": [
      "Creating model...\n",
      "Using node type: (<class 'model.networks.dla.DeformConv'>, <class 'model.networks.dla.DeformConv'>)\n",
      "Warning: No ImageNet pretrain!!\n",
      "loaded /workspace/CenterTrack/models/coco_tracking.pth, epoch 70\n",
      "Drop parameter base.pre_hm_layer.0.weight.\n",
      "Drop parameter base.pre_hm_layer.1.weight.\n",
      "Drop parameter base.pre_hm_layer.1.bias.\n",
      "Drop parameter base.pre_hm_layer.1.running_mean.\n",
      "Drop parameter base.pre_hm_layer.1.running_var.\n",
      "Drop parameter base.pre_hm_layer.1.num_batches_tracked.\n",
      "Initialize tracking!\n"
     ]
    },
    {
     "name": "stderr",
     "output_type": "stream",
     "text": [
      "\n",
      "\n",
      " 15%|█▌        | 2/13 [00:23<02:27, 13.41s/it]\u001b[A\u001b[A"
     ]
    },
    {
     "name": "stdout",
     "output_type": "stream",
     "text": [
      "Creating model...\n",
      "Using node type: (<class 'model.networks.dla.DeformConv'>, <class 'model.networks.dla.DeformConv'>)\n",
      "Warning: No ImageNet pretrain!!\n",
      "loaded /workspace/CenterTrack/models/coco_tracking.pth, epoch 70\n",
      "Drop parameter base.pre_hm_layer.0.weight.\n",
      "Drop parameter base.pre_hm_layer.1.weight.\n",
      "Drop parameter base.pre_hm_layer.1.bias.\n",
      "Drop parameter base.pre_hm_layer.1.running_mean.\n",
      "Drop parameter base.pre_hm_layer.1.running_var.\n",
      "Drop parameter base.pre_hm_layer.1.num_batches_tracked.\n",
      "Initialize tracking!\n"
     ]
    },
    {
     "name": "stderr",
     "output_type": "stream",
     "text": [
      "\n",
      "\n",
      " 23%|██▎       | 3/13 [00:33<02:01, 12.18s/it]\u001b[A\u001b[A"
     ]
    },
    {
     "name": "stdout",
     "output_type": "stream",
     "text": [
      "Creating model...\n",
      "Using node type: (<class 'model.networks.dla.DeformConv'>, <class 'model.networks.dla.DeformConv'>)\n",
      "Warning: No ImageNet pretrain!!\n",
      "loaded /workspace/CenterTrack/models/coco_tracking.pth, epoch 70\n",
      "Drop parameter base.pre_hm_layer.0.weight.\n",
      "Drop parameter base.pre_hm_layer.1.weight.\n",
      "Drop parameter base.pre_hm_layer.1.bias.\n",
      "Drop parameter base.pre_hm_layer.1.running_mean.\n",
      "Drop parameter base.pre_hm_layer.1.running_var.\n",
      "Drop parameter base.pre_hm_layer.1.num_batches_tracked.\n",
      "Initialize tracking!\n"
     ]
    },
    {
     "name": "stderr",
     "output_type": "stream",
     "text": [
      "\n",
      "\n",
      " 31%|███       | 4/13 [00:42<01:40, 11.22s/it]\u001b[A\u001b[A"
     ]
    },
    {
     "name": "stdout",
     "output_type": "stream",
     "text": [
      "Creating model...\n",
      "Using node type: (<class 'model.networks.dla.DeformConv'>, <class 'model.networks.dla.DeformConv'>)\n",
      "Warning: No ImageNet pretrain!!\n",
      "loaded /workspace/CenterTrack/models/coco_tracking.pth, epoch 70\n",
      "Drop parameter base.pre_hm_layer.0.weight.\n",
      "Drop parameter base.pre_hm_layer.1.weight.\n",
      "Drop parameter base.pre_hm_layer.1.bias.\n",
      "Drop parameter base.pre_hm_layer.1.running_mean.\n",
      "Drop parameter base.pre_hm_layer.1.running_var.\n",
      "Drop parameter base.pre_hm_layer.1.num_batches_tracked.\n",
      "Initialize tracking!\n"
     ]
    },
    {
     "name": "stderr",
     "output_type": "stream",
     "text": [
      "\n",
      "\n",
      " 38%|███▊      | 5/13 [01:00<01:46, 13.30s/it]\u001b[A\u001b[A"
     ]
    },
    {
     "name": "stdout",
     "output_type": "stream",
     "text": [
      "Creating model...\n",
      "Using node type: (<class 'model.networks.dla.DeformConv'>, <class 'model.networks.dla.DeformConv'>)\n",
      "Warning: No ImageNet pretrain!!\n",
      "loaded /workspace/CenterTrack/models/coco_tracking.pth, epoch 70\n",
      "Drop parameter base.pre_hm_layer.0.weight.\n",
      "Drop parameter base.pre_hm_layer.1.weight.\n",
      "Drop parameter base.pre_hm_layer.1.bias.\n",
      "Drop parameter base.pre_hm_layer.1.running_mean.\n",
      "Drop parameter base.pre_hm_layer.1.running_var.\n",
      "Drop parameter base.pre_hm_layer.1.num_batches_tracked.\n",
      "Initialize tracking!\n"
     ]
    },
    {
     "name": "stderr",
     "output_type": "stream",
     "text": [
      "\n",
      "\n",
      " 46%|████▌     | 6/13 [01:09<01:24, 12.12s/it]\u001b[A\u001b[A"
     ]
    },
    {
     "name": "stdout",
     "output_type": "stream",
     "text": [
      "Creating model...\n",
      "Using node type: (<class 'model.networks.dla.DeformConv'>, <class 'model.networks.dla.DeformConv'>)\n",
      "Warning: No ImageNet pretrain!!\n",
      "loaded /workspace/CenterTrack/models/coco_tracking.pth, epoch 70\n",
      "Drop parameter base.pre_hm_layer.0.weight.\n",
      "Drop parameter base.pre_hm_layer.1.weight.\n",
      "Drop parameter base.pre_hm_layer.1.bias.\n",
      "Drop parameter base.pre_hm_layer.1.running_mean.\n",
      "Drop parameter base.pre_hm_layer.1.running_var.\n",
      "Drop parameter base.pre_hm_layer.1.num_batches_tracked.\n",
      "Initialize tracking!\n"
     ]
    },
    {
     "name": "stderr",
     "output_type": "stream",
     "text": [
      "\n",
      "\n",
      " 54%|█████▍    | 7/13 [01:14<00:59,  9.89s/it]\u001b[A\u001b[A"
     ]
    },
    {
     "name": "stdout",
     "output_type": "stream",
     "text": [
      "Creating model...\n",
      "Using node type: (<class 'model.networks.dla.DeformConv'>, <class 'model.networks.dla.DeformConv'>)\n",
      "Warning: No ImageNet pretrain!!\n",
      "loaded /workspace/CenterTrack/models/coco_tracking.pth, epoch 70\n",
      "Drop parameter base.pre_hm_layer.0.weight.\n",
      "Drop parameter base.pre_hm_layer.1.weight.\n",
      "Drop parameter base.pre_hm_layer.1.bias.\n",
      "Drop parameter base.pre_hm_layer.1.running_mean.\n",
      "Drop parameter base.pre_hm_layer.1.running_var.\n",
      "Drop parameter base.pre_hm_layer.1.num_batches_tracked.\n",
      "Initialize tracking!\n"
     ]
    },
    {
     "name": "stderr",
     "output_type": "stream",
     "text": [
      "\n",
      "\n",
      " 62%|██████▏   | 8/13 [01:22<00:46,  9.27s/it]\u001b[A\u001b[A"
     ]
    },
    {
     "name": "stdout",
     "output_type": "stream",
     "text": [
      "Creating model...\n",
      "Using node type: (<class 'model.networks.dla.DeformConv'>, <class 'model.networks.dla.DeformConv'>)\n",
      "Warning: No ImageNet pretrain!!\n",
      "loaded /workspace/CenterTrack/models/coco_tracking.pth, epoch 70\n",
      "Drop parameter base.pre_hm_layer.0.weight.\n",
      "Drop parameter base.pre_hm_layer.1.weight.\n",
      "Drop parameter base.pre_hm_layer.1.bias.\n",
      "Drop parameter base.pre_hm_layer.1.running_mean.\n",
      "Drop parameter base.pre_hm_layer.1.running_var.\n",
      "Drop parameter base.pre_hm_layer.1.num_batches_tracked.\n",
      "Initialize tracking!\n"
     ]
    },
    {
     "name": "stderr",
     "output_type": "stream",
     "text": [
      "\n",
      "\n",
      " 69%|██████▉   | 9/13 [01:33<00:40, 10.02s/it]\u001b[A\u001b[A"
     ]
    },
    {
     "name": "stdout",
     "output_type": "stream",
     "text": [
      "Creating model...\n",
      "Using node type: (<class 'model.networks.dla.DeformConv'>, <class 'model.networks.dla.DeformConv'>)\n",
      "Warning: No ImageNet pretrain!!\n",
      "loaded /workspace/CenterTrack/models/coco_tracking.pth, epoch 70\n",
      "Drop parameter base.pre_hm_layer.0.weight.\n",
      "Drop parameter base.pre_hm_layer.1.weight.\n",
      "Drop parameter base.pre_hm_layer.1.bias.\n",
      "Drop parameter base.pre_hm_layer.1.running_mean.\n",
      "Drop parameter base.pre_hm_layer.1.running_var.\n",
      "Drop parameter base.pre_hm_layer.1.num_batches_tracked.\n",
      "Initialize tracking!\n"
     ]
    },
    {
     "name": "stderr",
     "output_type": "stream",
     "text": [
      "\n",
      "\n",
      " 77%|███████▋  | 10/13 [01:39<00:26,  8.79s/it]\u001b[A\u001b[A"
     ]
    },
    {
     "name": "stdout",
     "output_type": "stream",
     "text": [
      "Creating model...\n",
      "Using node type: (<class 'model.networks.dla.DeformConv'>, <class 'model.networks.dla.DeformConv'>)\n",
      "Warning: No ImageNet pretrain!!\n",
      "loaded /workspace/CenterTrack/models/coco_tracking.pth, epoch 70\n",
      "Drop parameter base.pre_hm_layer.0.weight.\n",
      "Drop parameter base.pre_hm_layer.1.weight.\n",
      "Drop parameter base.pre_hm_layer.1.bias.\n",
      "Drop parameter base.pre_hm_layer.1.running_mean.\n",
      "Drop parameter base.pre_hm_layer.1.running_var.\n",
      "Drop parameter base.pre_hm_layer.1.num_batches_tracked.\n",
      "Initialize tracking!\n"
     ]
    },
    {
     "name": "stderr",
     "output_type": "stream",
     "text": [
      "\n",
      "\n",
      " 85%|████████▍ | 11/13 [02:11<00:30, 15.49s/it]\u001b[A\u001b[A"
     ]
    },
    {
     "name": "stdout",
     "output_type": "stream",
     "text": [
      "Creating model...\n",
      "Using node type: (<class 'model.networks.dla.DeformConv'>, <class 'model.networks.dla.DeformConv'>)\n",
      "Warning: No ImageNet pretrain!!\n",
      "loaded /workspace/CenterTrack/models/coco_tracking.pth, epoch 70\n",
      "Drop parameter base.pre_hm_layer.0.weight.\n",
      "Drop parameter base.pre_hm_layer.1.weight.\n",
      "Drop parameter base.pre_hm_layer.1.bias.\n",
      "Drop parameter base.pre_hm_layer.1.running_mean.\n",
      "Drop parameter base.pre_hm_layer.1.running_var.\n",
      "Drop parameter base.pre_hm_layer.1.num_batches_tracked.\n",
      "Initialize tracking!\n"
     ]
    },
    {
     "name": "stderr",
     "output_type": "stream",
     "text": [
      "\n",
      "\n",
      " 92%|█████████▏| 12/13 [02:14<00:11, 11.88s/it]\u001b[A\u001b[A"
     ]
    },
    {
     "name": "stdout",
     "output_type": "stream",
     "text": [
      "Creating model...\n",
      "Using node type: (<class 'model.networks.dla.DeformConv'>, <class 'model.networks.dla.DeformConv'>)\n",
      "Warning: No ImageNet pretrain!!\n",
      "loaded /workspace/CenterTrack/models/coco_tracking.pth, epoch 70\n",
      "Drop parameter base.pre_hm_layer.0.weight.\n",
      "Drop parameter base.pre_hm_layer.1.weight.\n",
      "Drop parameter base.pre_hm_layer.1.bias.\n",
      "Drop parameter base.pre_hm_layer.1.running_mean.\n",
      "Drop parameter base.pre_hm_layer.1.running_var.\n",
      "Drop parameter base.pre_hm_layer.1.num_batches_tracked.\n",
      "Initialize tracking!\n"
     ]
    },
    {
     "name": "stderr",
     "output_type": "stream",
     "text": [
      "\n",
      "\n",
      "100%|██████████| 13/13 [02:22<00:00, 10.98s/it]\u001b[A\u001b[A\n",
      "\n",
      "\n",
      "  0%|          | 0/12 [00:00<?, ?it/s]\u001b[A\u001b[A"
     ]
    },
    {
     "name": "stdout",
     "output_type": "stream",
     "text": [
      "game10\n",
      "Creating model...\n",
      "Using node type: (<class 'model.networks.dla.DeformConv'>, <class 'model.networks.dla.DeformConv'>)\n",
      "Warning: No ImageNet pretrain!!\n",
      "loaded /workspace/CenterTrack/models/coco_tracking.pth, epoch 70\n",
      "Drop parameter base.pre_hm_layer.0.weight.\n",
      "Drop parameter base.pre_hm_layer.1.weight.\n",
      "Drop parameter base.pre_hm_layer.1.bias.\n",
      "Drop parameter base.pre_hm_layer.1.running_mean.\n",
      "Drop parameter base.pre_hm_layer.1.running_var.\n",
      "Drop parameter base.pre_hm_layer.1.num_batches_tracked.\n",
      "Initialize tracking!\n"
     ]
    },
    {
     "name": "stderr",
     "output_type": "stream",
     "text": [
      "\n",
      "\n",
      "  8%|▊         | 1/12 [00:20<03:47, 20.65s/it]\u001b[A\u001b[A"
     ]
    },
    {
     "name": "stdout",
     "output_type": "stream",
     "text": [
      "Creating model...\n",
      "Using node type: (<class 'model.networks.dla.DeformConv'>, <class 'model.networks.dla.DeformConv'>)\n",
      "Warning: No ImageNet pretrain!!\n",
      "loaded /workspace/CenterTrack/models/coco_tracking.pth, epoch 70\n",
      "Drop parameter base.pre_hm_layer.0.weight.\n",
      "Drop parameter base.pre_hm_layer.1.weight.\n",
      "Drop parameter base.pre_hm_layer.1.bias.\n",
      "Drop parameter base.pre_hm_layer.1.running_mean.\n",
      "Drop parameter base.pre_hm_layer.1.running_var.\n",
      "Drop parameter base.pre_hm_layer.1.num_batches_tracked.\n",
      "Initialize tracking!\n"
     ]
    },
    {
     "name": "stderr",
     "output_type": "stream",
     "text": [
      "\n",
      "\n",
      " 17%|█▋        | 2/12 [00:31<02:57, 17.73s/it]\u001b[A\u001b[A"
     ]
    },
    {
     "name": "stdout",
     "output_type": "stream",
     "text": [
      "Creating model...\n",
      "Using node type: (<class 'model.networks.dla.DeformConv'>, <class 'model.networks.dla.DeformConv'>)\n",
      "Warning: No ImageNet pretrain!!\n",
      "loaded /workspace/CenterTrack/models/coco_tracking.pth, epoch 70\n",
      "Drop parameter base.pre_hm_layer.0.weight.\n",
      "Drop parameter base.pre_hm_layer.1.weight.\n",
      "Drop parameter base.pre_hm_layer.1.bias.\n",
      "Drop parameter base.pre_hm_layer.1.running_mean.\n",
      "Drop parameter base.pre_hm_layer.1.running_var.\n",
      "Drop parameter base.pre_hm_layer.1.num_batches_tracked.\n",
      "Initialize tracking!\n"
     ]
    },
    {
     "name": "stderr",
     "output_type": "stream",
     "text": [
      "\n",
      "\n",
      " 25%|██▌       | 3/12 [00:36<02:06, 14.03s/it]\u001b[A\u001b[A"
     ]
    },
    {
     "name": "stdout",
     "output_type": "stream",
     "text": [
      "Creating model...\n",
      "Using node type: (<class 'model.networks.dla.DeformConv'>, <class 'model.networks.dla.DeformConv'>)\n",
      "Warning: No ImageNet pretrain!!\n",
      "loaded /workspace/CenterTrack/models/coco_tracking.pth, epoch 70\n",
      "Drop parameter base.pre_hm_layer.0.weight.\n",
      "Drop parameter base.pre_hm_layer.1.weight.\n",
      "Drop parameter base.pre_hm_layer.1.bias.\n",
      "Drop parameter base.pre_hm_layer.1.running_mean.\n",
      "Drop parameter base.pre_hm_layer.1.running_var.\n",
      "Drop parameter base.pre_hm_layer.1.num_batches_tracked.\n",
      "Initialize tracking!\n"
     ]
    },
    {
     "name": "stderr",
     "output_type": "stream",
     "text": [
      "\n",
      "\n",
      " 33%|███▎      | 4/12 [01:15<02:50, 21.33s/it]\u001b[A\u001b[A"
     ]
    },
    {
     "name": "stdout",
     "output_type": "stream",
     "text": [
      "Creating model...\n",
      "Using node type: (<class 'model.networks.dla.DeformConv'>, <class 'model.networks.dla.DeformConv'>)\n",
      "Warning: No ImageNet pretrain!!\n",
      "loaded /workspace/CenterTrack/models/coco_tracking.pth, epoch 70\n",
      "Drop parameter base.pre_hm_layer.0.weight.\n",
      "Drop parameter base.pre_hm_layer.1.weight.\n",
      "Drop parameter base.pre_hm_layer.1.bias.\n",
      "Drop parameter base.pre_hm_layer.1.running_mean.\n",
      "Drop parameter base.pre_hm_layer.1.running_var.\n",
      "Drop parameter base.pre_hm_layer.1.num_batches_tracked.\n",
      "Initialize tracking!\n"
     ]
    },
    {
     "name": "stderr",
     "output_type": "stream",
     "text": [
      "\n",
      "\n",
      " 42%|████▏     | 5/12 [01:24<02:03, 17.58s/it]\u001b[A\u001b[A"
     ]
    },
    {
     "name": "stdout",
     "output_type": "stream",
     "text": [
      "Creating model...\n",
      "Using node type: (<class 'model.networks.dla.DeformConv'>, <class 'model.networks.dla.DeformConv'>)\n",
      "Warning: No ImageNet pretrain!!\n",
      "loaded /workspace/CenterTrack/models/coco_tracking.pth, epoch 70\n",
      "Drop parameter base.pre_hm_layer.0.weight.\n",
      "Drop parameter base.pre_hm_layer.1.weight.\n",
      "Drop parameter base.pre_hm_layer.1.bias.\n",
      "Drop parameter base.pre_hm_layer.1.running_mean.\n",
      "Drop parameter base.pre_hm_layer.1.running_var.\n",
      "Drop parameter base.pre_hm_layer.1.num_batches_tracked.\n",
      "Initialize tracking!\n"
     ]
    },
    {
     "name": "stderr",
     "output_type": "stream",
     "text": [
      "\n",
      "\n",
      " 50%|█████     | 6/12 [01:36<01:36, 16.12s/it]\u001b[A\u001b[A"
     ]
    },
    {
     "name": "stdout",
     "output_type": "stream",
     "text": [
      "Creating model...\n",
      "Using node type: (<class 'model.networks.dla.DeformConv'>, <class 'model.networks.dla.DeformConv'>)\n",
      "Warning: No ImageNet pretrain!!\n",
      "loaded /workspace/CenterTrack/models/coco_tracking.pth, epoch 70\n",
      "Drop parameter base.pre_hm_layer.0.weight.\n",
      "Drop parameter base.pre_hm_layer.1.weight.\n",
      "Drop parameter base.pre_hm_layer.1.bias.\n",
      "Drop parameter base.pre_hm_layer.1.running_mean.\n",
      "Drop parameter base.pre_hm_layer.1.running_var.\n",
      "Drop parameter base.pre_hm_layer.1.num_batches_tracked.\n",
      "Initialize tracking!\n"
     ]
    },
    {
     "name": "stderr",
     "output_type": "stream",
     "text": [
      "\n",
      "\n",
      " 58%|█████▊    | 7/12 [01:40<01:01, 12.28s/it]\u001b[A\u001b[A"
     ]
    },
    {
     "name": "stdout",
     "output_type": "stream",
     "text": [
      "Creating model...\n",
      "Using node type: (<class 'model.networks.dla.DeformConv'>, <class 'model.networks.dla.DeformConv'>)\n",
      "Warning: No ImageNet pretrain!!\n",
      "loaded /workspace/CenterTrack/models/coco_tracking.pth, epoch 70\n",
      "Drop parameter base.pre_hm_layer.0.weight.\n",
      "Drop parameter base.pre_hm_layer.1.weight.\n",
      "Drop parameter base.pre_hm_layer.1.bias.\n",
      "Drop parameter base.pre_hm_layer.1.running_mean.\n",
      "Drop parameter base.pre_hm_layer.1.running_var.\n",
      "Drop parameter base.pre_hm_layer.1.num_batches_tracked.\n",
      "Initialize tracking!\n"
     ]
    },
    {
     "name": "stderr",
     "output_type": "stream",
     "text": [
      "\n",
      "\n",
      " 67%|██████▋   | 8/12 [01:44<00:39,  9.95s/it]\u001b[A\u001b[A"
     ]
    },
    {
     "name": "stdout",
     "output_type": "stream",
     "text": [
      "Creating model...\n",
      "Using node type: (<class 'model.networks.dla.DeformConv'>, <class 'model.networks.dla.DeformConv'>)\n",
      "Warning: No ImageNet pretrain!!\n",
      "loaded /workspace/CenterTrack/models/coco_tracking.pth, epoch 70\n",
      "Drop parameter base.pre_hm_layer.0.weight.\n",
      "Drop parameter base.pre_hm_layer.1.weight.\n",
      "Drop parameter base.pre_hm_layer.1.bias.\n",
      "Drop parameter base.pre_hm_layer.1.running_mean.\n",
      "Drop parameter base.pre_hm_layer.1.running_var.\n",
      "Drop parameter base.pre_hm_layer.1.num_batches_tracked.\n",
      "Initialize tracking!\n"
     ]
    },
    {
     "name": "stderr",
     "output_type": "stream",
     "text": [
      "\n",
      "\n",
      " 75%|███████▌  | 9/12 [02:04<00:38, 12.78s/it]\u001b[A\u001b[A"
     ]
    },
    {
     "name": "stdout",
     "output_type": "stream",
     "text": [
      "Creating model...\n",
      "Using node type: (<class 'model.networks.dla.DeformConv'>, <class 'model.networks.dla.DeformConv'>)\n",
      "Warning: No ImageNet pretrain!!\n",
      "loaded /workspace/CenterTrack/models/coco_tracking.pth, epoch 70\n",
      "Drop parameter base.pre_hm_layer.0.weight.\n",
      "Drop parameter base.pre_hm_layer.1.weight.\n",
      "Drop parameter base.pre_hm_layer.1.bias.\n",
      "Drop parameter base.pre_hm_layer.1.running_mean.\n",
      "Drop parameter base.pre_hm_layer.1.running_var.\n",
      "Drop parameter base.pre_hm_layer.1.num_batches_tracked.\n",
      "Initialize tracking!\n"
     ]
    },
    {
     "name": "stderr",
     "output_type": "stream",
     "text": [
      "\n",
      "\n",
      " 83%|████████▎ | 10/12 [02:13<00:23, 11.79s/it]\u001b[A\u001b[A"
     ]
    },
    {
     "name": "stdout",
     "output_type": "stream",
     "text": [
      "Creating model...\n",
      "Using node type: (<class 'model.networks.dla.DeformConv'>, <class 'model.networks.dla.DeformConv'>)\n",
      "Warning: No ImageNet pretrain!!\n",
      "loaded /workspace/CenterTrack/models/coco_tracking.pth, epoch 70\n",
      "Drop parameter base.pre_hm_layer.0.weight.\n",
      "Drop parameter base.pre_hm_layer.1.weight.\n",
      "Drop parameter base.pre_hm_layer.1.bias.\n",
      "Drop parameter base.pre_hm_layer.1.running_mean.\n",
      "Drop parameter base.pre_hm_layer.1.running_var.\n",
      "Drop parameter base.pre_hm_layer.1.num_batches_tracked.\n",
      "Initialize tracking!\n"
     ]
    },
    {
     "name": "stderr",
     "output_type": "stream",
     "text": [
      "\n",
      "\n",
      " 92%|█████████▏| 11/12 [02:19<00:09,  9.91s/it]\u001b[A\u001b[A"
     ]
    },
    {
     "name": "stdout",
     "output_type": "stream",
     "text": [
      "Creating model...\n",
      "Using node type: (<class 'model.networks.dla.DeformConv'>, <class 'model.networks.dla.DeformConv'>)\n",
      "Warning: No ImageNet pretrain!!\n",
      "loaded /workspace/CenterTrack/models/coco_tracking.pth, epoch 70\n",
      "Drop parameter base.pre_hm_layer.0.weight.\n",
      "Drop parameter base.pre_hm_layer.1.weight.\n",
      "Drop parameter base.pre_hm_layer.1.bias.\n",
      "Drop parameter base.pre_hm_layer.1.running_mean.\n",
      "Drop parameter base.pre_hm_layer.1.running_var.\n",
      "Drop parameter base.pre_hm_layer.1.num_batches_tracked.\n",
      "Initialize tracking!\n"
     ]
    },
    {
     "name": "stderr",
     "output_type": "stream",
     "text": [
      "\n",
      "\n",
      "100%|██████████| 12/12 [02:22<00:00, 11.88s/it]\u001b[A\u001b[A\n",
      "\n",
      "\n",
      "  0%|          | 0/8 [00:00<?, ?it/s]\u001b[A\u001b[A"
     ]
    },
    {
     "name": "stdout",
     "output_type": "stream",
     "text": [
      "game2\n",
      "Creating model...\n",
      "Using node type: (<class 'model.networks.dla.DeformConv'>, <class 'model.networks.dla.DeformConv'>)\n",
      "Warning: No ImageNet pretrain!!\n",
      "loaded /workspace/CenterTrack/models/coco_tracking.pth, epoch 70\n",
      "Drop parameter base.pre_hm_layer.0.weight.\n",
      "Drop parameter base.pre_hm_layer.1.weight.\n",
      "Drop parameter base.pre_hm_layer.1.bias.\n",
      "Drop parameter base.pre_hm_layer.1.running_mean.\n",
      "Drop parameter base.pre_hm_layer.1.running_var.\n",
      "Drop parameter base.pre_hm_layer.1.num_batches_tracked.\n",
      "Initialize tracking!\n"
     ]
    },
    {
     "name": "stderr",
     "output_type": "stream",
     "text": [
      "\n",
      "\n",
      " 12%|█▎        | 1/8 [00:24<02:51, 24.50s/it]\u001b[A\u001b[A"
     ]
    },
    {
     "name": "stdout",
     "output_type": "stream",
     "text": [
      "Creating model...\n",
      "Using node type: (<class 'model.networks.dla.DeformConv'>, <class 'model.networks.dla.DeformConv'>)\n",
      "Warning: No ImageNet pretrain!!\n",
      "loaded /workspace/CenterTrack/models/coco_tracking.pth, epoch 70\n",
      "Drop parameter base.pre_hm_layer.0.weight.\n",
      "Drop parameter base.pre_hm_layer.1.weight.\n",
      "Drop parameter base.pre_hm_layer.1.bias.\n",
      "Drop parameter base.pre_hm_layer.1.running_mean.\n",
      "Drop parameter base.pre_hm_layer.1.running_var.\n",
      "Drop parameter base.pre_hm_layer.1.num_batches_tracked.\n",
      "Initialize tracking!\n"
     ]
    },
    {
     "name": "stderr",
     "output_type": "stream",
     "text": [
      "\n",
      "\n",
      " 25%|██▌       | 2/8 [00:39<02:09, 21.57s/it]\u001b[A\u001b[A"
     ]
    },
    {
     "name": "stdout",
     "output_type": "stream",
     "text": [
      "Creating model...\n",
      "Using node type: (<class 'model.networks.dla.DeformConv'>, <class 'model.networks.dla.DeformConv'>)\n",
      "Warning: No ImageNet pretrain!!\n",
      "loaded /workspace/CenterTrack/models/coco_tracking.pth, epoch 70\n",
      "Drop parameter base.pre_hm_layer.0.weight.\n",
      "Drop parameter base.pre_hm_layer.1.weight.\n",
      "Drop parameter base.pre_hm_layer.1.bias.\n",
      "Drop parameter base.pre_hm_layer.1.running_mean.\n",
      "Drop parameter base.pre_hm_layer.1.running_var.\n",
      "Drop parameter base.pre_hm_layer.1.num_batches_tracked.\n",
      "Initialize tracking!\n"
     ]
    },
    {
     "name": "stderr",
     "output_type": "stream",
     "text": [
      "\n",
      "\n",
      " 38%|███▊      | 3/8 [00:42<01:19, 15.97s/it]\u001b[A\u001b[A"
     ]
    },
    {
     "name": "stdout",
     "output_type": "stream",
     "text": [
      "Creating model...\n",
      "Using node type: (<class 'model.networks.dla.DeformConv'>, <class 'model.networks.dla.DeformConv'>)\n",
      "Warning: No ImageNet pretrain!!\n",
      "loaded /workspace/CenterTrack/models/coco_tracking.pth, epoch 70\n",
      "Drop parameter base.pre_hm_layer.0.weight.\n",
      "Drop parameter base.pre_hm_layer.1.weight.\n",
      "Drop parameter base.pre_hm_layer.1.bias.\n",
      "Drop parameter base.pre_hm_layer.1.running_mean.\n",
      "Drop parameter base.pre_hm_layer.1.running_var.\n",
      "Drop parameter base.pre_hm_layer.1.num_batches_tracked.\n",
      "Initialize tracking!\n"
     ]
    },
    {
     "name": "stderr",
     "output_type": "stream",
     "text": [
      "\n",
      "\n",
      " 50%|█████     | 4/8 [00:45<00:48, 12.21s/it]\u001b[A\u001b[A"
     ]
    },
    {
     "name": "stdout",
     "output_type": "stream",
     "text": [
      "Creating model...\n",
      "Using node type: (<class 'model.networks.dla.DeformConv'>, <class 'model.networks.dla.DeformConv'>)\n",
      "Warning: No ImageNet pretrain!!\n",
      "loaded /workspace/CenterTrack/models/coco_tracking.pth, epoch 70\n",
      "Drop parameter base.pre_hm_layer.0.weight.\n",
      "Drop parameter base.pre_hm_layer.1.weight.\n",
      "Drop parameter base.pre_hm_layer.1.bias.\n",
      "Drop parameter base.pre_hm_layer.1.running_mean.\n",
      "Drop parameter base.pre_hm_layer.1.running_var.\n",
      "Drop parameter base.pre_hm_layer.1.num_batches_tracked.\n",
      "Initialize tracking!\n"
     ]
    },
    {
     "name": "stderr",
     "output_type": "stream",
     "text": [
      "\n",
      "\n",
      " 62%|██████▎   | 5/8 [00:59<00:38, 12.76s/it]\u001b[A\u001b[A"
     ]
    },
    {
     "name": "stdout",
     "output_type": "stream",
     "text": [
      "Creating model...\n",
      "Using node type: (<class 'model.networks.dla.DeformConv'>, <class 'model.networks.dla.DeformConv'>)\n",
      "Warning: No ImageNet pretrain!!\n",
      "loaded /workspace/CenterTrack/models/coco_tracking.pth, epoch 70\n",
      "Drop parameter base.pre_hm_layer.0.weight.\n",
      "Drop parameter base.pre_hm_layer.1.weight.\n",
      "Drop parameter base.pre_hm_layer.1.bias.\n",
      "Drop parameter base.pre_hm_layer.1.running_mean.\n",
      "Drop parameter base.pre_hm_layer.1.running_var.\n",
      "Drop parameter base.pre_hm_layer.1.num_batches_tracked.\n",
      "Initialize tracking!\n"
     ]
    },
    {
     "name": "stderr",
     "output_type": "stream",
     "text": [
      "\n",
      "\n",
      " 75%|███████▌  | 6/8 [01:38<00:41, 20.64s/it]\u001b[A\u001b[A"
     ]
    },
    {
     "name": "stdout",
     "output_type": "stream",
     "text": [
      "Creating model...\n",
      "Using node type: (<class 'model.networks.dla.DeformConv'>, <class 'model.networks.dla.DeformConv'>)\n",
      "Warning: No ImageNet pretrain!!\n",
      "loaded /workspace/CenterTrack/models/coco_tracking.pth, epoch 70\n",
      "Drop parameter base.pre_hm_layer.0.weight.\n",
      "Drop parameter base.pre_hm_layer.1.weight.\n",
      "Drop parameter base.pre_hm_layer.1.bias.\n",
      "Drop parameter base.pre_hm_layer.1.running_mean.\n",
      "Drop parameter base.pre_hm_layer.1.running_var.\n",
      "Drop parameter base.pre_hm_layer.1.num_batches_tracked.\n",
      "Initialize tracking!\n"
     ]
    },
    {
     "name": "stderr",
     "output_type": "stream",
     "text": [
      "\n",
      "\n",
      " 88%|████████▊ | 7/8 [01:51<00:18, 18.27s/it]\u001b[A\u001b[A"
     ]
    },
    {
     "name": "stdout",
     "output_type": "stream",
     "text": [
      "Creating model...\n",
      "Using node type: (<class 'model.networks.dla.DeformConv'>, <class 'model.networks.dla.DeformConv'>)\n",
      "Warning: No ImageNet pretrain!!\n",
      "loaded /workspace/CenterTrack/models/coco_tracking.pth, epoch 70\n",
      "Drop parameter base.pre_hm_layer.0.weight.\n",
      "Drop parameter base.pre_hm_layer.1.weight.\n",
      "Drop parameter base.pre_hm_layer.1.bias.\n",
      "Drop parameter base.pre_hm_layer.1.running_mean.\n",
      "Drop parameter base.pre_hm_layer.1.running_var.\n",
      "Drop parameter base.pre_hm_layer.1.num_batches_tracked.\n",
      "Initialize tracking!\n"
     ]
    },
    {
     "name": "stderr",
     "output_type": "stream",
     "text": [
      "\n",
      "\n",
      "100%|██████████| 8/8 [02:34<00:00, 19.32s/it]\u001b[A\u001b[A\n",
      "\n",
      "\n",
      "  0%|          | 0/9 [00:00<?, ?it/s]\u001b[A\u001b[A"
     ]
    },
    {
     "name": "stdout",
     "output_type": "stream",
     "text": [
      "game3\n",
      "Creating model...\n",
      "Using node type: (<class 'model.networks.dla.DeformConv'>, <class 'model.networks.dla.DeformConv'>)\n",
      "Warning: No ImageNet pretrain!!\n",
      "loaded /workspace/CenterTrack/models/coco_tracking.pth, epoch 70\n",
      "Drop parameter base.pre_hm_layer.0.weight.\n",
      "Drop parameter base.pre_hm_layer.1.weight.\n",
      "Drop parameter base.pre_hm_layer.1.bias.\n",
      "Drop parameter base.pre_hm_layer.1.running_mean.\n",
      "Drop parameter base.pre_hm_layer.1.running_var.\n",
      "Drop parameter base.pre_hm_layer.1.num_batches_tracked.\n",
      "Initialize tracking!\n"
     ]
    },
    {
     "name": "stderr",
     "output_type": "stream",
     "text": [
      "\n",
      "\n",
      " 11%|█         | 1/9 [00:12<01:43, 12.89s/it]\u001b[A\u001b[A"
     ]
    },
    {
     "name": "stdout",
     "output_type": "stream",
     "text": [
      "Creating model...\n",
      "Using node type: (<class 'model.networks.dla.DeformConv'>, <class 'model.networks.dla.DeformConv'>)\n",
      "Warning: No ImageNet pretrain!!\n",
      "loaded /workspace/CenterTrack/models/coco_tracking.pth, epoch 70\n",
      "Drop parameter base.pre_hm_layer.0.weight.\n",
      "Drop parameter base.pre_hm_layer.1.weight.\n",
      "Drop parameter base.pre_hm_layer.1.bias.\n",
      "Drop parameter base.pre_hm_layer.1.running_mean.\n",
      "Drop parameter base.pre_hm_layer.1.running_var.\n",
      "Drop parameter base.pre_hm_layer.1.num_batches_tracked.\n",
      "Initialize tracking!\n"
     ]
    },
    {
     "name": "stderr",
     "output_type": "stream",
     "text": [
      "\n",
      "\n",
      " 22%|██▏       | 2/9 [00:15<01:07,  9.71s/it]\u001b[A\u001b[A"
     ]
    },
    {
     "name": "stdout",
     "output_type": "stream",
     "text": [
      "Creating model...\n",
      "Using node type: (<class 'model.networks.dla.DeformConv'>, <class 'model.networks.dla.DeformConv'>)\n",
      "Warning: No ImageNet pretrain!!\n",
      "loaded /workspace/CenterTrack/models/coco_tracking.pth, epoch 70\n",
      "Drop parameter base.pre_hm_layer.0.weight.\n",
      "Drop parameter base.pre_hm_layer.1.weight.\n",
      "Drop parameter base.pre_hm_layer.1.bias.\n",
      "Drop parameter base.pre_hm_layer.1.running_mean.\n",
      "Drop parameter base.pre_hm_layer.1.running_var.\n",
      "Drop parameter base.pre_hm_layer.1.num_batches_tracked.\n",
      "Initialize tracking!\n"
     ]
    },
    {
     "name": "stderr",
     "output_type": "stream",
     "text": [
      "\n",
      "\n",
      " 33%|███▎      | 3/9 [00:43<01:31, 15.31s/it]\u001b[A\u001b[A"
     ]
    },
    {
     "name": "stdout",
     "output_type": "stream",
     "text": [
      "Creating model...\n",
      "Using node type: (<class 'model.networks.dla.DeformConv'>, <class 'model.networks.dla.DeformConv'>)\n",
      "Warning: No ImageNet pretrain!!\n",
      "loaded /workspace/CenterTrack/models/coco_tracking.pth, epoch 70\n",
      "Drop parameter base.pre_hm_layer.0.weight.\n",
      "Drop parameter base.pre_hm_layer.1.weight.\n",
      "Drop parameter base.pre_hm_layer.1.bias.\n",
      "Drop parameter base.pre_hm_layer.1.running_mean.\n",
      "Drop parameter base.pre_hm_layer.1.running_var.\n",
      "Drop parameter base.pre_hm_layer.1.num_batches_tracked.\n",
      "Initialize tracking!\n"
     ]
    },
    {
     "name": "stderr",
     "output_type": "stream",
     "text": [
      "\n",
      "\n",
      " 44%|████▍     | 4/9 [01:13<01:38, 19.79s/it]\u001b[A\u001b[A"
     ]
    },
    {
     "name": "stdout",
     "output_type": "stream",
     "text": [
      "Creating model...\n",
      "Using node type: (<class 'model.networks.dla.DeformConv'>, <class 'model.networks.dla.DeformConv'>)\n",
      "Warning: No ImageNet pretrain!!\n",
      "loaded /workspace/CenterTrack/models/coco_tracking.pth, epoch 70\n",
      "Drop parameter base.pre_hm_layer.0.weight.\n",
      "Drop parameter base.pre_hm_layer.1.weight.\n",
      "Drop parameter base.pre_hm_layer.1.bias.\n",
      "Drop parameter base.pre_hm_layer.1.running_mean.\n",
      "Drop parameter base.pre_hm_layer.1.running_var.\n",
      "Drop parameter base.pre_hm_layer.1.num_batches_tracked.\n",
      "Initialize tracking!\n"
     ]
    },
    {
     "name": "stderr",
     "output_type": "stream",
     "text": [
      "\n",
      "\n",
      " 56%|█████▌    | 5/9 [01:23<01:06, 16.73s/it]\u001b[A\u001b[A"
     ]
    },
    {
     "name": "stdout",
     "output_type": "stream",
     "text": [
      "Creating model...\n",
      "Using node type: (<class 'model.networks.dla.DeformConv'>, <class 'model.networks.dla.DeformConv'>)\n",
      "Warning: No ImageNet pretrain!!\n",
      "loaded /workspace/CenterTrack/models/coco_tracking.pth, epoch 70\n",
      "Drop parameter base.pre_hm_layer.0.weight.\n",
      "Drop parameter base.pre_hm_layer.1.weight.\n",
      "Drop parameter base.pre_hm_layer.1.bias.\n",
      "Drop parameter base.pre_hm_layer.1.running_mean.\n",
      "Drop parameter base.pre_hm_layer.1.running_var.\n",
      "Drop parameter base.pre_hm_layer.1.num_batches_tracked.\n",
      "Initialize tracking!\n"
     ]
    },
    {
     "name": "stderr",
     "output_type": "stream",
     "text": [
      "\n",
      "\n",
      " 67%|██████▋   | 6/9 [01:40<00:50, 16.96s/it]\u001b[A\u001b[A"
     ]
    },
    {
     "name": "stdout",
     "output_type": "stream",
     "text": [
      "Creating model...\n",
      "Using node type: (<class 'model.networks.dla.DeformConv'>, <class 'model.networks.dla.DeformConv'>)\n",
      "Warning: No ImageNet pretrain!!\n",
      "loaded /workspace/CenterTrack/models/coco_tracking.pth, epoch 70\n",
      "Drop parameter base.pre_hm_layer.0.weight.\n",
      "Drop parameter base.pre_hm_layer.1.weight.\n",
      "Drop parameter base.pre_hm_layer.1.bias.\n",
      "Drop parameter base.pre_hm_layer.1.running_mean.\n",
      "Drop parameter base.pre_hm_layer.1.running_var.\n",
      "Drop parameter base.pre_hm_layer.1.num_batches_tracked.\n",
      "Initialize tracking!\n"
     ]
    },
    {
     "name": "stderr",
     "output_type": "stream",
     "text": [
      "\n",
      "\n",
      " 78%|███████▊  | 7/9 [02:03<00:37, 18.60s/it]\u001b[A\u001b[A"
     ]
    },
    {
     "name": "stdout",
     "output_type": "stream",
     "text": [
      "Creating model...\n",
      "Using node type: (<class 'model.networks.dla.DeformConv'>, <class 'model.networks.dla.DeformConv'>)\n",
      "Warning: No ImageNet pretrain!!\n",
      "loaded /workspace/CenterTrack/models/coco_tracking.pth, epoch 70\n",
      "Drop parameter base.pre_hm_layer.0.weight.\n",
      "Drop parameter base.pre_hm_layer.1.weight.\n",
      "Drop parameter base.pre_hm_layer.1.bias.\n",
      "Drop parameter base.pre_hm_layer.1.running_mean.\n",
      "Drop parameter base.pre_hm_layer.1.running_var.\n",
      "Drop parameter base.pre_hm_layer.1.num_batches_tracked.\n",
      "Initialize tracking!\n"
     ]
    },
    {
     "name": "stderr",
     "output_type": "stream",
     "text": [
      "\n",
      "\n",
      " 89%|████████▉ | 8/9 [02:06<00:14, 14.05s/it]\u001b[A\u001b[A"
     ]
    },
    {
     "name": "stdout",
     "output_type": "stream",
     "text": [
      "Creating model...\n",
      "Using node type: (<class 'model.networks.dla.DeformConv'>, <class 'model.networks.dla.DeformConv'>)\n",
      "Warning: No ImageNet pretrain!!\n",
      "loaded /workspace/CenterTrack/models/coco_tracking.pth, epoch 70\n",
      "Drop parameter base.pre_hm_layer.0.weight.\n",
      "Drop parameter base.pre_hm_layer.1.weight.\n",
      "Drop parameter base.pre_hm_layer.1.bias.\n",
      "Drop parameter base.pre_hm_layer.1.running_mean.\n",
      "Drop parameter base.pre_hm_layer.1.running_var.\n",
      "Drop parameter base.pre_hm_layer.1.num_batches_tracked.\n",
      "Initialize tracking!\n"
     ]
    },
    {
     "name": "stderr",
     "output_type": "stream",
     "text": [
      "\n",
      "\n",
      "100%|██████████| 9/9 [02:16<00:00, 15.18s/it]\u001b[A\u001b[A\n",
      "\n",
      "\n",
      "  0%|          | 0/7 [00:00<?, ?it/s]\u001b[A\u001b[A"
     ]
    },
    {
     "name": "stdout",
     "output_type": "stream",
     "text": [
      "game4\n",
      "Creating model...\n",
      "Using node type: (<class 'model.networks.dla.DeformConv'>, <class 'model.networks.dla.DeformConv'>)\n",
      "Warning: No ImageNet pretrain!!\n",
      "loaded /workspace/CenterTrack/models/coco_tracking.pth, epoch 70\n",
      "Drop parameter base.pre_hm_layer.0.weight.\n",
      "Drop parameter base.pre_hm_layer.1.weight.\n",
      "Drop parameter base.pre_hm_layer.1.bias.\n",
      "Drop parameter base.pre_hm_layer.1.running_mean.\n",
      "Drop parameter base.pre_hm_layer.1.running_var.\n",
      "Drop parameter base.pre_hm_layer.1.num_batches_tracked.\n",
      "Initialize tracking!\n"
     ]
    },
    {
     "name": "stderr",
     "output_type": "stream",
     "text": [
      "\n",
      "\n",
      " 14%|█▍        | 1/7 [00:40<04:03, 40.59s/it]\u001b[A\u001b[A"
     ]
    },
    {
     "name": "stdout",
     "output_type": "stream",
     "text": [
      "Creating model...\n",
      "Using node type: (<class 'model.networks.dla.DeformConv'>, <class 'model.networks.dla.DeformConv'>)\n",
      "Warning: No ImageNet pretrain!!\n",
      "loaded /workspace/CenterTrack/models/coco_tracking.pth, epoch 70\n",
      "Drop parameter base.pre_hm_layer.0.weight.\n",
      "Drop parameter base.pre_hm_layer.1.weight.\n",
      "Drop parameter base.pre_hm_layer.1.bias.\n",
      "Drop parameter base.pre_hm_layer.1.running_mean.\n",
      "Drop parameter base.pre_hm_layer.1.running_var.\n",
      "Drop parameter base.pre_hm_layer.1.num_batches_tracked.\n",
      "Initialize tracking!\n"
     ]
    },
    {
     "name": "stderr",
     "output_type": "stream",
     "text": [
      "\n",
      "\n",
      " 29%|██▊       | 2/7 [01:14<03:13, 38.71s/it]\u001b[A\u001b[A"
     ]
    },
    {
     "name": "stdout",
     "output_type": "stream",
     "text": [
      "Creating model...\n",
      "Using node type: (<class 'model.networks.dla.DeformConv'>, <class 'model.networks.dla.DeformConv'>)\n",
      "Warning: No ImageNet pretrain!!\n",
      "loaded /workspace/CenterTrack/models/coco_tracking.pth, epoch 70\n",
      "Drop parameter base.pre_hm_layer.0.weight.\n",
      "Drop parameter base.pre_hm_layer.1.weight.\n",
      "Drop parameter base.pre_hm_layer.1.bias.\n",
      "Drop parameter base.pre_hm_layer.1.running_mean.\n",
      "Drop parameter base.pre_hm_layer.1.running_var.\n",
      "Drop parameter base.pre_hm_layer.1.num_batches_tracked.\n",
      "Initialize tracking!\n"
     ]
    },
    {
     "name": "stderr",
     "output_type": "stream",
     "text": [
      "\n",
      "\n",
      " 43%|████▎     | 3/7 [01:22<01:57, 29.44s/it]\u001b[A\u001b[A"
     ]
    },
    {
     "name": "stdout",
     "output_type": "stream",
     "text": [
      "Creating model...\n",
      "Using node type: (<class 'model.networks.dla.DeformConv'>, <class 'model.networks.dla.DeformConv'>)\n",
      "Warning: No ImageNet pretrain!!\n",
      "loaded /workspace/CenterTrack/models/coco_tracking.pth, epoch 70\n",
      "Drop parameter base.pre_hm_layer.0.weight.\n",
      "Drop parameter base.pre_hm_layer.1.weight.\n",
      "Drop parameter base.pre_hm_layer.1.bias.\n",
      "Drop parameter base.pre_hm_layer.1.running_mean.\n",
      "Drop parameter base.pre_hm_layer.1.running_var.\n",
      "Drop parameter base.pre_hm_layer.1.num_batches_tracked.\n",
      "Initialize tracking!\n"
     ]
    },
    {
     "name": "stderr",
     "output_type": "stream",
     "text": [
      "\n",
      "\n",
      " 57%|█████▋    | 4/7 [01:29<01:08, 22.77s/it]\u001b[A\u001b[A"
     ]
    },
    {
     "name": "stdout",
     "output_type": "stream",
     "text": [
      "Creating model...\n",
      "Using node type: (<class 'model.networks.dla.DeformConv'>, <class 'model.networks.dla.DeformConv'>)\n",
      "Warning: No ImageNet pretrain!!\n",
      "loaded /workspace/CenterTrack/models/coco_tracking.pth, epoch 70\n",
      "Drop parameter base.pre_hm_layer.0.weight.\n",
      "Drop parameter base.pre_hm_layer.1.weight.\n",
      "Drop parameter base.pre_hm_layer.1.bias.\n",
      "Drop parameter base.pre_hm_layer.1.running_mean.\n",
      "Drop parameter base.pre_hm_layer.1.running_var.\n",
      "Drop parameter base.pre_hm_layer.1.num_batches_tracked.\n",
      "Initialize tracking!\n"
     ]
    },
    {
     "name": "stderr",
     "output_type": "stream",
     "text": [
      "\n",
      "\n",
      " 71%|███████▏  | 5/7 [01:45<00:41, 20.67s/it]\u001b[A\u001b[A"
     ]
    },
    {
     "name": "stdout",
     "output_type": "stream",
     "text": [
      "Creating model...\n",
      "Using node type: (<class 'model.networks.dla.DeformConv'>, <class 'model.networks.dla.DeformConv'>)\n",
      "Warning: No ImageNet pretrain!!\n",
      "loaded /workspace/CenterTrack/models/coco_tracking.pth, epoch 70\n",
      "Drop parameter base.pre_hm_layer.0.weight.\n",
      "Drop parameter base.pre_hm_layer.1.weight.\n",
      "Drop parameter base.pre_hm_layer.1.bias.\n",
      "Drop parameter base.pre_hm_layer.1.running_mean.\n",
      "Drop parameter base.pre_hm_layer.1.running_var.\n",
      "Drop parameter base.pre_hm_layer.1.num_batches_tracked.\n",
      "Initialize tracking!\n"
     ]
    },
    {
     "name": "stderr",
     "output_type": "stream",
     "text": [
      "\n",
      "\n",
      " 86%|████████▌ | 6/7 [02:05<00:20, 20.35s/it]\u001b[A\u001b[A"
     ]
    },
    {
     "name": "stdout",
     "output_type": "stream",
     "text": [
      "Creating model...\n",
      "Using node type: (<class 'model.networks.dla.DeformConv'>, <class 'model.networks.dla.DeformConv'>)\n",
      "Warning: No ImageNet pretrain!!\n",
      "loaded /workspace/CenterTrack/models/coco_tracking.pth, epoch 70\n",
      "Drop parameter base.pre_hm_layer.0.weight.\n",
      "Drop parameter base.pre_hm_layer.1.weight.\n",
      "Drop parameter base.pre_hm_layer.1.bias.\n",
      "Drop parameter base.pre_hm_layer.1.running_mean.\n",
      "Drop parameter base.pre_hm_layer.1.running_var.\n",
      "Drop parameter base.pre_hm_layer.1.num_batches_tracked.\n",
      "Initialize tracking!\n"
     ]
    },
    {
     "name": "stderr",
     "output_type": "stream",
     "text": [
      "\n",
      "\n",
      "100%|██████████| 7/7 [02:39<00:00, 22.77s/it]\u001b[A\u001b[A\n",
      "\n",
      "\n",
      "  0%|          | 0/15 [00:00<?, ?it/s]\u001b[A\u001b[A"
     ]
    },
    {
     "name": "stdout",
     "output_type": "stream",
     "text": [
      "game5\n",
      "Creating model...\n",
      "Using node type: (<class 'model.networks.dla.DeformConv'>, <class 'model.networks.dla.DeformConv'>)\n",
      "Warning: No ImageNet pretrain!!\n",
      "loaded /workspace/CenterTrack/models/coco_tracking.pth, epoch 70\n",
      "Drop parameter base.pre_hm_layer.0.weight.\n",
      "Drop parameter base.pre_hm_layer.1.weight.\n",
      "Drop parameter base.pre_hm_layer.1.bias.\n",
      "Drop parameter base.pre_hm_layer.1.running_mean.\n",
      "Drop parameter base.pre_hm_layer.1.running_var.\n",
      "Drop parameter base.pre_hm_layer.1.num_batches_tracked.\n",
      "Initialize tracking!\n"
     ]
    },
    {
     "name": "stderr",
     "output_type": "stream",
     "text": [
      "\n",
      "\n",
      "  7%|▋         | 1/15 [00:13<03:10, 13.60s/it]\u001b[A\u001b[A"
     ]
    },
    {
     "name": "stdout",
     "output_type": "stream",
     "text": [
      "Creating model...\n",
      "Using node type: (<class 'model.networks.dla.DeformConv'>, <class 'model.networks.dla.DeformConv'>)\n",
      "Warning: No ImageNet pretrain!!\n",
      "loaded /workspace/CenterTrack/models/coco_tracking.pth, epoch 70\n",
      "Drop parameter base.pre_hm_layer.0.weight.\n",
      "Drop parameter base.pre_hm_layer.1.weight.\n",
      "Drop parameter base.pre_hm_layer.1.bias.\n",
      "Drop parameter base.pre_hm_layer.1.running_mean.\n",
      "Drop parameter base.pre_hm_layer.1.running_var.\n",
      "Drop parameter base.pre_hm_layer.1.num_batches_tracked.\n",
      "Initialize tracking!\n"
     ]
    },
    {
     "name": "stderr",
     "output_type": "stream",
     "text": [
      "\n",
      "\n",
      " 13%|█▎        | 2/15 [00:21<02:34, 11.88s/it]\u001b[A\u001b[A"
     ]
    },
    {
     "name": "stdout",
     "output_type": "stream",
     "text": [
      "Creating model...\n",
      "Using node type: (<class 'model.networks.dla.DeformConv'>, <class 'model.networks.dla.DeformConv'>)\n",
      "Warning: No ImageNet pretrain!!\n",
      "loaded /workspace/CenterTrack/models/coco_tracking.pth, epoch 70\n",
      "Drop parameter base.pre_hm_layer.0.weight.\n",
      "Drop parameter base.pre_hm_layer.1.weight.\n",
      "Drop parameter base.pre_hm_layer.1.bias.\n",
      "Drop parameter base.pre_hm_layer.1.running_mean.\n",
      "Drop parameter base.pre_hm_layer.1.running_var.\n",
      "Drop parameter base.pre_hm_layer.1.num_batches_tracked.\n",
      "Initialize tracking!\n"
     ]
    },
    {
     "name": "stderr",
     "output_type": "stream",
     "text": [
      "\n",
      "\n",
      " 20%|██        | 3/15 [00:24<01:49,  9.14s/it]\u001b[A\u001b[A"
     ]
    },
    {
     "name": "stdout",
     "output_type": "stream",
     "text": [
      "Creating model...\n",
      "Using node type: (<class 'model.networks.dla.DeformConv'>, <class 'model.networks.dla.DeformConv'>)\n",
      "Warning: No ImageNet pretrain!!\n",
      "loaded /workspace/CenterTrack/models/coco_tracking.pth, epoch 70\n",
      "Drop parameter base.pre_hm_layer.0.weight.\n",
      "Drop parameter base.pre_hm_layer.1.weight.\n",
      "Drop parameter base.pre_hm_layer.1.bias.\n",
      "Drop parameter base.pre_hm_layer.1.running_mean.\n",
      "Drop parameter base.pre_hm_layer.1.running_var.\n",
      "Drop parameter base.pre_hm_layer.1.num_batches_tracked.\n",
      "Initialize tracking!\n"
     ]
    },
    {
     "name": "stderr",
     "output_type": "stream",
     "text": [
      "\n",
      "\n",
      " 27%|██▋       | 4/15 [00:36<01:50, 10.03s/it]\u001b[A\u001b[A"
     ]
    },
    {
     "name": "stdout",
     "output_type": "stream",
     "text": [
      "Creating model...\n",
      "Using node type: (<class 'model.networks.dla.DeformConv'>, <class 'model.networks.dla.DeformConv'>)\n",
      "Warning: No ImageNet pretrain!!\n",
      "loaded /workspace/CenterTrack/models/coco_tracking.pth, epoch 70\n",
      "Drop parameter base.pre_hm_layer.0.weight.\n",
      "Drop parameter base.pre_hm_layer.1.weight.\n",
      "Drop parameter base.pre_hm_layer.1.bias.\n",
      "Drop parameter base.pre_hm_layer.1.running_mean.\n",
      "Drop parameter base.pre_hm_layer.1.running_var.\n",
      "Drop parameter base.pre_hm_layer.1.num_batches_tracked.\n",
      "Initialize tracking!\n"
     ]
    },
    {
     "name": "stderr",
     "output_type": "stream",
     "text": [
      "\n",
      "\n",
      " 33%|███▎      | 5/15 [00:39<01:20,  8.05s/it]\u001b[A\u001b[A"
     ]
    },
    {
     "name": "stdout",
     "output_type": "stream",
     "text": [
      "Creating model...\n",
      "Using node type: (<class 'model.networks.dla.DeformConv'>, <class 'model.networks.dla.DeformConv'>)\n",
      "Warning: No ImageNet pretrain!!\n",
      "loaded /workspace/CenterTrack/models/coco_tracking.pth, epoch 70\n",
      "Drop parameter base.pre_hm_layer.0.weight.\n",
      "Drop parameter base.pre_hm_layer.1.weight.\n",
      "Drop parameter base.pre_hm_layer.1.bias.\n",
      "Drop parameter base.pre_hm_layer.1.running_mean.\n",
      "Drop parameter base.pre_hm_layer.1.running_var.\n",
      "Drop parameter base.pre_hm_layer.1.num_batches_tracked.\n",
      "Initialize tracking!\n"
     ]
    },
    {
     "name": "stderr",
     "output_type": "stream",
     "text": [
      "\n",
      "\n",
      " 40%|████      | 6/15 [00:42<00:59,  6.57s/it]\u001b[A\u001b[A"
     ]
    },
    {
     "name": "stdout",
     "output_type": "stream",
     "text": [
      "Creating model...\n",
      "Using node type: (<class 'model.networks.dla.DeformConv'>, <class 'model.networks.dla.DeformConv'>)\n",
      "Warning: No ImageNet pretrain!!\n",
      "loaded /workspace/CenterTrack/models/coco_tracking.pth, epoch 70\n",
      "Drop parameter base.pre_hm_layer.0.weight.\n",
      "Drop parameter base.pre_hm_layer.1.weight.\n",
      "Drop parameter base.pre_hm_layer.1.bias.\n",
      "Drop parameter base.pre_hm_layer.1.running_mean.\n",
      "Drop parameter base.pre_hm_layer.1.running_var.\n",
      "Drop parameter base.pre_hm_layer.1.num_batches_tracked.\n",
      "Initialize tracking!\n"
     ]
    },
    {
     "name": "stderr",
     "output_type": "stream",
     "text": [
      "\n",
      "\n",
      " 47%|████▋     | 7/15 [00:55<01:05,  8.25s/it]\u001b[A\u001b[A"
     ]
    },
    {
     "name": "stdout",
     "output_type": "stream",
     "text": [
      "Creating model...\n",
      "Using node type: (<class 'model.networks.dla.DeformConv'>, <class 'model.networks.dla.DeformConv'>)\n",
      "Warning: No ImageNet pretrain!!\n",
      "loaded /workspace/CenterTrack/models/coco_tracking.pth, epoch 70\n",
      "Drop parameter base.pre_hm_layer.0.weight.\n",
      "Drop parameter base.pre_hm_layer.1.weight.\n",
      "Drop parameter base.pre_hm_layer.1.bias.\n",
      "Drop parameter base.pre_hm_layer.1.running_mean.\n",
      "Drop parameter base.pre_hm_layer.1.running_var.\n",
      "Drop parameter base.pre_hm_layer.1.num_batches_tracked.\n",
      "Initialize tracking!\n"
     ]
    },
    {
     "name": "stderr",
     "output_type": "stream",
     "text": [
      "\n",
      "\n",
      " 53%|█████▎    | 8/15 [01:00<00:51,  7.36s/it]\u001b[A\u001b[A"
     ]
    },
    {
     "name": "stdout",
     "output_type": "stream",
     "text": [
      "Creating model...\n",
      "Using node type: (<class 'model.networks.dla.DeformConv'>, <class 'model.networks.dla.DeformConv'>)\n",
      "Warning: No ImageNet pretrain!!\n",
      "loaded /workspace/CenterTrack/models/coco_tracking.pth, epoch 70\n",
      "Drop parameter base.pre_hm_layer.0.weight.\n",
      "Drop parameter base.pre_hm_layer.1.weight.\n",
      "Drop parameter base.pre_hm_layer.1.bias.\n",
      "Drop parameter base.pre_hm_layer.1.running_mean.\n",
      "Drop parameter base.pre_hm_layer.1.running_var.\n",
      "Drop parameter base.pre_hm_layer.1.num_batches_tracked.\n",
      "Initialize tracking!\n"
     ]
    },
    {
     "name": "stderr",
     "output_type": "stream",
     "text": [
      "\n",
      "\n",
      " 60%|██████    | 9/15 [01:09<00:48,  8.04s/it]\u001b[A\u001b[A"
     ]
    },
    {
     "name": "stdout",
     "output_type": "stream",
     "text": [
      "Creating model...\n",
      "Using node type: (<class 'model.networks.dla.DeformConv'>, <class 'model.networks.dla.DeformConv'>)\n",
      "Warning: No ImageNet pretrain!!\n",
      "loaded /workspace/CenterTrack/models/coco_tracking.pth, epoch 70\n",
      "Drop parameter base.pre_hm_layer.0.weight.\n",
      "Drop parameter base.pre_hm_layer.1.weight.\n",
      "Drop parameter base.pre_hm_layer.1.bias.\n",
      "Drop parameter base.pre_hm_layer.1.running_mean.\n",
      "Drop parameter base.pre_hm_layer.1.running_var.\n",
      "Drop parameter base.pre_hm_layer.1.num_batches_tracked.\n",
      "Initialize tracking!\n"
     ]
    },
    {
     "name": "stderr",
     "output_type": "stream",
     "text": [
      "\n",
      "\n",
      " 67%|██████▋   | 10/15 [01:40<01:13, 14.68s/it]\u001b[A\u001b[A"
     ]
    },
    {
     "name": "stdout",
     "output_type": "stream",
     "text": [
      "Creating model...\n",
      "Using node type: (<class 'model.networks.dla.DeformConv'>, <class 'model.networks.dla.DeformConv'>)\n",
      "Warning: No ImageNet pretrain!!\n",
      "loaded /workspace/CenterTrack/models/coco_tracking.pth, epoch 70\n",
      "Drop parameter base.pre_hm_layer.0.weight.\n",
      "Drop parameter base.pre_hm_layer.1.weight.\n",
      "Drop parameter base.pre_hm_layer.1.bias.\n",
      "Drop parameter base.pre_hm_layer.1.running_mean.\n",
      "Drop parameter base.pre_hm_layer.1.running_var.\n",
      "Drop parameter base.pre_hm_layer.1.num_batches_tracked.\n",
      "Initialize tracking!\n"
     ]
    },
    {
     "name": "stderr",
     "output_type": "stream",
     "text": [
      "\n",
      "\n",
      " 73%|███████▎  | 11/15 [01:53<00:57, 14.25s/it]\u001b[A\u001b[A"
     ]
    },
    {
     "name": "stdout",
     "output_type": "stream",
     "text": [
      "Creating model...\n",
      "Using node type: (<class 'model.networks.dla.DeformConv'>, <class 'model.networks.dla.DeformConv'>)\n",
      "Warning: No ImageNet pretrain!!\n",
      "loaded /workspace/CenterTrack/models/coco_tracking.pth, epoch 70\n",
      "Drop parameter base.pre_hm_layer.0.weight.\n",
      "Drop parameter base.pre_hm_layer.1.weight.\n",
      "Drop parameter base.pre_hm_layer.1.bias.\n",
      "Drop parameter base.pre_hm_layer.1.running_mean.\n",
      "Drop parameter base.pre_hm_layer.1.running_var.\n",
      "Drop parameter base.pre_hm_layer.1.num_batches_tracked.\n",
      "Initialize tracking!\n"
     ]
    },
    {
     "name": "stderr",
     "output_type": "stream",
     "text": [
      "\n",
      "\n",
      " 80%|████████  | 12/15 [02:20<00:54, 18.16s/it]\u001b[A\u001b[A"
     ]
    },
    {
     "name": "stdout",
     "output_type": "stream",
     "text": [
      "Creating model...\n",
      "Using node type: (<class 'model.networks.dla.DeformConv'>, <class 'model.networks.dla.DeformConv'>)\n",
      "Warning: No ImageNet pretrain!!\n",
      "loaded /workspace/CenterTrack/models/coco_tracking.pth, epoch 70\n",
      "Drop parameter base.pre_hm_layer.0.weight.\n",
      "Drop parameter base.pre_hm_layer.1.weight.\n",
      "Drop parameter base.pre_hm_layer.1.bias.\n",
      "Drop parameter base.pre_hm_layer.1.running_mean.\n",
      "Drop parameter base.pre_hm_layer.1.running_var.\n",
      "Drop parameter base.pre_hm_layer.1.num_batches_tracked.\n",
      "Initialize tracking!\n"
     ]
    },
    {
     "name": "stderr",
     "output_type": "stream",
     "text": [
      "\n",
      "\n",
      " 87%|████████▋ | 13/15 [02:43<00:39, 19.56s/it]\u001b[A\u001b[A"
     ]
    },
    {
     "name": "stdout",
     "output_type": "stream",
     "text": [
      "Creating model...\n",
      "Using node type: (<class 'model.networks.dla.DeformConv'>, <class 'model.networks.dla.DeformConv'>)\n",
      "Warning: No ImageNet pretrain!!\n",
      "loaded /workspace/CenterTrack/models/coco_tracking.pth, epoch 70\n",
      "Drop parameter base.pre_hm_layer.0.weight.\n",
      "Drop parameter base.pre_hm_layer.1.weight.\n",
      "Drop parameter base.pre_hm_layer.1.bias.\n",
      "Drop parameter base.pre_hm_layer.1.running_mean.\n",
      "Drop parameter base.pre_hm_layer.1.running_var.\n",
      "Drop parameter base.pre_hm_layer.1.num_batches_tracked.\n",
      "Initialize tracking!\n"
     ]
    },
    {
     "name": "stderr",
     "output_type": "stream",
     "text": [
      "\n",
      "\n",
      " 93%|█████████▎| 14/15 [02:53<00:16, 16.69s/it]\u001b[A\u001b[A"
     ]
    },
    {
     "name": "stdout",
     "output_type": "stream",
     "text": [
      "Creating model...\n",
      "Using node type: (<class 'model.networks.dla.DeformConv'>, <class 'model.networks.dla.DeformConv'>)\n",
      "Warning: No ImageNet pretrain!!\n",
      "loaded /workspace/CenterTrack/models/coco_tracking.pth, epoch 70\n",
      "Drop parameter base.pre_hm_layer.0.weight.\n",
      "Drop parameter base.pre_hm_layer.1.weight.\n",
      "Drop parameter base.pre_hm_layer.1.bias.\n",
      "Drop parameter base.pre_hm_layer.1.running_mean.\n",
      "Drop parameter base.pre_hm_layer.1.running_var.\n",
      "Drop parameter base.pre_hm_layer.1.num_batches_tracked.\n",
      "Initialize tracking!\n"
     ]
    },
    {
     "name": "stderr",
     "output_type": "stream",
     "text": [
      "\n",
      "\n",
      "100%|██████████| 15/15 [03:06<00:00, 12.42s/it]\u001b[A\u001b[A\n",
      "\n",
      "\n",
      "  0%|          | 0/4 [00:00<?, ?it/s]\u001b[A\u001b[A"
     ]
    },
    {
     "name": "stdout",
     "output_type": "stream",
     "text": [
      "game6\n",
      "Creating model...\n",
      "Using node type: (<class 'model.networks.dla.DeformConv'>, <class 'model.networks.dla.DeformConv'>)\n",
      "Warning: No ImageNet pretrain!!\n",
      "loaded /workspace/CenterTrack/models/coco_tracking.pth, epoch 70\n",
      "Drop parameter base.pre_hm_layer.0.weight.\n",
      "Drop parameter base.pre_hm_layer.1.weight.\n",
      "Drop parameter base.pre_hm_layer.1.bias.\n",
      "Drop parameter base.pre_hm_layer.1.running_mean.\n",
      "Drop parameter base.pre_hm_layer.1.running_var.\n",
      "Drop parameter base.pre_hm_layer.1.num_batches_tracked.\n",
      "Initialize tracking!\n"
     ]
    },
    {
     "name": "stderr",
     "output_type": "stream",
     "text": [
      "\n",
      "\n",
      " 25%|██▌       | 1/4 [00:44<02:12, 44.25s/it]\u001b[A\u001b[A"
     ]
    },
    {
     "name": "stdout",
     "output_type": "stream",
     "text": [
      "Creating model...\n",
      "Using node type: (<class 'model.networks.dla.DeformConv'>, <class 'model.networks.dla.DeformConv'>)\n",
      "Warning: No ImageNet pretrain!!\n",
      "loaded /workspace/CenterTrack/models/coco_tracking.pth, epoch 70\n",
      "Drop parameter base.pre_hm_layer.0.weight.\n",
      "Drop parameter base.pre_hm_layer.1.weight.\n",
      "Drop parameter base.pre_hm_layer.1.bias.\n",
      "Drop parameter base.pre_hm_layer.1.running_mean.\n",
      "Drop parameter base.pre_hm_layer.1.running_var.\n",
      "Drop parameter base.pre_hm_layer.1.num_batches_tracked.\n",
      "Initialize tracking!\n"
     ]
    },
    {
     "name": "stderr",
     "output_type": "stream",
     "text": [
      "\n",
      "\n",
      " 50%|█████     | 2/4 [01:26<01:27, 43.62s/it]\u001b[A\u001b[A"
     ]
    },
    {
     "name": "stdout",
     "output_type": "stream",
     "text": [
      "Creating model...\n",
      "Using node type: (<class 'model.networks.dla.DeformConv'>, <class 'model.networks.dla.DeformConv'>)\n",
      "Warning: No ImageNet pretrain!!\n",
      "loaded /workspace/CenterTrack/models/coco_tracking.pth, epoch 70\n",
      "Drop parameter base.pre_hm_layer.0.weight.\n",
      "Drop parameter base.pre_hm_layer.1.weight.\n",
      "Drop parameter base.pre_hm_layer.1.bias.\n",
      "Drop parameter base.pre_hm_layer.1.running_mean.\n",
      "Drop parameter base.pre_hm_layer.1.running_var.\n",
      "Drop parameter base.pre_hm_layer.1.num_batches_tracked.\n",
      "Initialize tracking!\n"
     ]
    },
    {
     "name": "stderr",
     "output_type": "stream",
     "text": [
      "\n",
      "\n",
      " 75%|███████▌  | 3/4 [02:06<00:42, 42.50s/it]\u001b[A\u001b[A"
     ]
    },
    {
     "name": "stdout",
     "output_type": "stream",
     "text": [
      "Creating model...\n",
      "Using node type: (<class 'model.networks.dla.DeformConv'>, <class 'model.networks.dla.DeformConv'>)\n",
      "Warning: No ImageNet pretrain!!\n",
      "loaded /workspace/CenterTrack/models/coco_tracking.pth, epoch 70\n",
      "Drop parameter base.pre_hm_layer.0.weight.\n",
      "Drop parameter base.pre_hm_layer.1.weight.\n",
      "Drop parameter base.pre_hm_layer.1.bias.\n",
      "Drop parameter base.pre_hm_layer.1.running_mean.\n",
      "Drop parameter base.pre_hm_layer.1.running_var.\n",
      "Drop parameter base.pre_hm_layer.1.num_batches_tracked.\n",
      "Initialize tracking!\n"
     ]
    },
    {
     "name": "stderr",
     "output_type": "stream",
     "text": [
      "\n",
      "\n",
      "100%|██████████| 4/4 [02:26<00:00, 36.75s/it]\u001b[A\u001b[A\n",
      "\n",
      "\n",
      "  0%|          | 0/8 [00:00<?, ?it/s]\u001b[A\u001b[A"
     ]
    },
    {
     "name": "stdout",
     "output_type": "stream",
     "text": [
      "game7\n",
      "Creating model...\n",
      "Using node type: (<class 'model.networks.dla.DeformConv'>, <class 'model.networks.dla.DeformConv'>)\n",
      "Warning: No ImageNet pretrain!!\n",
      "loaded /workspace/CenterTrack/models/coco_tracking.pth, epoch 70\n",
      "Drop parameter base.pre_hm_layer.0.weight.\n",
      "Drop parameter base.pre_hm_layer.1.weight.\n",
      "Drop parameter base.pre_hm_layer.1.bias.\n",
      "Drop parameter base.pre_hm_layer.1.running_mean.\n",
      "Drop parameter base.pre_hm_layer.1.running_var.\n",
      "Drop parameter base.pre_hm_layer.1.num_batches_tracked.\n",
      "Initialize tracking!\n"
     ]
    },
    {
     "name": "stderr",
     "output_type": "stream",
     "text": [
      "\n",
      "\n",
      " 12%|█▎        | 1/8 [00:08<01:02,  8.90s/it]\u001b[A\u001b[A"
     ]
    },
    {
     "name": "stdout",
     "output_type": "stream",
     "text": [
      "Creating model...\n",
      "Using node type: (<class 'model.networks.dla.DeformConv'>, <class 'model.networks.dla.DeformConv'>)\n",
      "Warning: No ImageNet pretrain!!\n",
      "loaded /workspace/CenterTrack/models/coco_tracking.pth, epoch 70\n",
      "Drop parameter base.pre_hm_layer.0.weight.\n",
      "Drop parameter base.pre_hm_layer.1.weight.\n",
      "Drop parameter base.pre_hm_layer.1.bias.\n",
      "Drop parameter base.pre_hm_layer.1.running_mean.\n",
      "Drop parameter base.pre_hm_layer.1.running_var.\n",
      "Drop parameter base.pre_hm_layer.1.num_batches_tracked.\n",
      "Initialize tracking!\n"
     ]
    },
    {
     "name": "stderr",
     "output_type": "stream",
     "text": [
      "\n",
      "\n",
      " 25%|██▌       | 2/8 [00:22<01:02, 10.38s/it]\u001b[A\u001b[A"
     ]
    },
    {
     "name": "stdout",
     "output_type": "stream",
     "text": [
      "Creating model...\n",
      "Using node type: (<class 'model.networks.dla.DeformConv'>, <class 'model.networks.dla.DeformConv'>)\n",
      "Warning: No ImageNet pretrain!!\n",
      "loaded /workspace/CenterTrack/models/coco_tracking.pth, epoch 70\n",
      "Drop parameter base.pre_hm_layer.0.weight.\n",
      "Drop parameter base.pre_hm_layer.1.weight.\n",
      "Drop parameter base.pre_hm_layer.1.bias.\n",
      "Drop parameter base.pre_hm_layer.1.running_mean.\n",
      "Drop parameter base.pre_hm_layer.1.running_var.\n",
      "Drop parameter base.pre_hm_layer.1.num_batches_tracked.\n",
      "Initialize tracking!\n"
     ]
    },
    {
     "name": "stderr",
     "output_type": "stream",
     "text": [
      "\n",
      "\n",
      " 38%|███▊      | 3/8 [00:26<00:41,  8.33s/it]\u001b[A\u001b[A"
     ]
    },
    {
     "name": "stdout",
     "output_type": "stream",
     "text": [
      "Creating model...\n",
      "Using node type: (<class 'model.networks.dla.DeformConv'>, <class 'model.networks.dla.DeformConv'>)\n",
      "Warning: No ImageNet pretrain!!\n",
      "loaded /workspace/CenterTrack/models/coco_tracking.pth, epoch 70\n",
      "Drop parameter base.pre_hm_layer.0.weight.\n",
      "Drop parameter base.pre_hm_layer.1.weight.\n",
      "Drop parameter base.pre_hm_layer.1.bias.\n",
      "Drop parameter base.pre_hm_layer.1.running_mean.\n",
      "Drop parameter base.pre_hm_layer.1.running_var.\n",
      "Drop parameter base.pre_hm_layer.1.num_batches_tracked.\n",
      "Initialize tracking!\n"
     ]
    },
    {
     "name": "stderr",
     "output_type": "stream",
     "text": [
      "\n",
      "\n",
      " 50%|█████     | 4/8 [01:27<01:36, 24.21s/it]\u001b[A\u001b[A"
     ]
    },
    {
     "name": "stdout",
     "output_type": "stream",
     "text": [
      "Creating model...\n",
      "Using node type: (<class 'model.networks.dla.DeformConv'>, <class 'model.networks.dla.DeformConv'>)\n",
      "Warning: No ImageNet pretrain!!\n",
      "loaded /workspace/CenterTrack/models/coco_tracking.pth, epoch 70\n",
      "Drop parameter base.pre_hm_layer.0.weight.\n",
      "Drop parameter base.pre_hm_layer.1.weight.\n",
      "Drop parameter base.pre_hm_layer.1.bias.\n",
      "Drop parameter base.pre_hm_layer.1.running_mean.\n",
      "Drop parameter base.pre_hm_layer.1.running_var.\n",
      "Drop parameter base.pre_hm_layer.1.num_batches_tracked.\n",
      "Initialize tracking!\n"
     ]
    },
    {
     "name": "stderr",
     "output_type": "stream",
     "text": [
      "\n",
      "\n",
      " 62%|██████▎   | 5/8 [01:41<01:03, 21.18s/it]\u001b[A\u001b[A"
     ]
    },
    {
     "name": "stdout",
     "output_type": "stream",
     "text": [
      "Creating model...\n",
      "Using node type: (<class 'model.networks.dla.DeformConv'>, <class 'model.networks.dla.DeformConv'>)\n",
      "Warning: No ImageNet pretrain!!\n",
      "loaded /workspace/CenterTrack/models/coco_tracking.pth, epoch 70\n",
      "Drop parameter base.pre_hm_layer.0.weight.\n",
      "Drop parameter base.pre_hm_layer.1.weight.\n",
      "Drop parameter base.pre_hm_layer.1.bias.\n",
      "Drop parameter base.pre_hm_layer.1.running_mean.\n",
      "Drop parameter base.pre_hm_layer.1.running_var.\n",
      "Drop parameter base.pre_hm_layer.1.num_batches_tracked.\n",
      "Initialize tracking!\n"
     ]
    },
    {
     "name": "stderr",
     "output_type": "stream",
     "text": [
      "\n",
      "\n",
      " 75%|███████▌  | 6/8 [01:49<00:34, 17.08s/it]\u001b[A\u001b[A"
     ]
    },
    {
     "name": "stdout",
     "output_type": "stream",
     "text": [
      "Creating model...\n",
      "Using node type: (<class 'model.networks.dla.DeformConv'>, <class 'model.networks.dla.DeformConv'>)\n",
      "Warning: No ImageNet pretrain!!\n",
      "loaded /workspace/CenterTrack/models/coco_tracking.pth, epoch 70\n",
      "Drop parameter base.pre_hm_layer.0.weight.\n",
      "Drop parameter base.pre_hm_layer.1.weight.\n",
      "Drop parameter base.pre_hm_layer.1.bias.\n",
      "Drop parameter base.pre_hm_layer.1.running_mean.\n",
      "Drop parameter base.pre_hm_layer.1.running_var.\n",
      "Drop parameter base.pre_hm_layer.1.num_batches_tracked.\n",
      "Initialize tracking!\n"
     ]
    },
    {
     "name": "stderr",
     "output_type": "stream",
     "text": [
      "\n",
      "\n",
      " 88%|████████▊ | 7/8 [01:53<00:13, 13.13s/it]\u001b[A\u001b[A"
     ]
    },
    {
     "name": "stdout",
     "output_type": "stream",
     "text": [
      "Creating model...\n",
      "Using node type: (<class 'model.networks.dla.DeformConv'>, <class 'model.networks.dla.DeformConv'>)\n",
      "Warning: No ImageNet pretrain!!\n",
      "loaded /workspace/CenterTrack/models/coco_tracking.pth, epoch 70\n",
      "Drop parameter base.pre_hm_layer.0.weight.\n",
      "Drop parameter base.pre_hm_layer.1.weight.\n",
      "Drop parameter base.pre_hm_layer.1.bias.\n",
      "Drop parameter base.pre_hm_layer.1.running_mean.\n",
      "Drop parameter base.pre_hm_layer.1.running_var.\n",
      "Drop parameter base.pre_hm_layer.1.num_batches_tracked.\n",
      "Initialize tracking!\n"
     ]
    },
    {
     "name": "stderr",
     "output_type": "stream",
     "text": [
      "\n",
      "\n",
      "100%|██████████| 8/8 [01:59<00:00, 14.98s/it]\u001b[A\u001b[A\n",
      "\n",
      "\n",
      "  0%|          | 0/9 [00:00<?, ?it/s]\u001b[A\u001b[A"
     ]
    },
    {
     "name": "stdout",
     "output_type": "stream",
     "text": [
      "game8\n",
      "Creating model...\n",
      "Using node type: (<class 'model.networks.dla.DeformConv'>, <class 'model.networks.dla.DeformConv'>)\n",
      "Warning: No ImageNet pretrain!!\n",
      "loaded /workspace/CenterTrack/models/coco_tracking.pth, epoch 70\n",
      "Drop parameter base.pre_hm_layer.0.weight.\n",
      "Drop parameter base.pre_hm_layer.1.weight.\n",
      "Drop parameter base.pre_hm_layer.1.bias.\n",
      "Drop parameter base.pre_hm_layer.1.running_mean.\n",
      "Drop parameter base.pre_hm_layer.1.running_var.\n",
      "Drop parameter base.pre_hm_layer.1.num_batches_tracked.\n",
      "Initialize tracking!\n"
     ]
    },
    {
     "name": "stderr",
     "output_type": "stream",
     "text": [
      "\n",
      "\n",
      " 11%|█         | 1/9 [00:08<01:09,  8.66s/it]\u001b[A\u001b[A"
     ]
    },
    {
     "name": "stdout",
     "output_type": "stream",
     "text": [
      "Creating model...\n",
      "Using node type: (<class 'model.networks.dla.DeformConv'>, <class 'model.networks.dla.DeformConv'>)\n",
      "Warning: No ImageNet pretrain!!\n",
      "loaded /workspace/CenterTrack/models/coco_tracking.pth, epoch 70\n",
      "Drop parameter base.pre_hm_layer.0.weight.\n",
      "Drop parameter base.pre_hm_layer.1.weight.\n",
      "Drop parameter base.pre_hm_layer.1.bias.\n",
      "Drop parameter base.pre_hm_layer.1.running_mean.\n",
      "Drop parameter base.pre_hm_layer.1.running_var.\n",
      "Drop parameter base.pre_hm_layer.1.num_batches_tracked.\n",
      "Initialize tracking!\n"
     ]
    },
    {
     "name": "stderr",
     "output_type": "stream",
     "text": [
      "\n",
      "\n",
      " 22%|██▏       | 2/9 [00:15<00:57,  8.15s/it]\u001b[A\u001b[A"
     ]
    },
    {
     "name": "stdout",
     "output_type": "stream",
     "text": [
      "Creating model...\n",
      "Using node type: (<class 'model.networks.dla.DeformConv'>, <class 'model.networks.dla.DeformConv'>)\n",
      "Warning: No ImageNet pretrain!!\n",
      "loaded /workspace/CenterTrack/models/coco_tracking.pth, epoch 70\n",
      "Drop parameter base.pre_hm_layer.0.weight.\n",
      "Drop parameter base.pre_hm_layer.1.weight.\n",
      "Drop parameter base.pre_hm_layer.1.bias.\n",
      "Drop parameter base.pre_hm_layer.1.running_mean.\n",
      "Drop parameter base.pre_hm_layer.1.running_var.\n",
      "Drop parameter base.pre_hm_layer.1.num_batches_tracked.\n",
      "Initialize tracking!\n"
     ]
    },
    {
     "name": "stderr",
     "output_type": "stream",
     "text": [
      "\n",
      "\n",
      " 33%|███▎      | 3/9 [00:44<01:26, 14.45s/it]\u001b[A\u001b[A"
     ]
    },
    {
     "name": "stdout",
     "output_type": "stream",
     "text": [
      "Creating model...\n",
      "Using node type: (<class 'model.networks.dla.DeformConv'>, <class 'model.networks.dla.DeformConv'>)\n",
      "Warning: No ImageNet pretrain!!\n",
      "loaded /workspace/CenterTrack/models/coco_tracking.pth, epoch 70\n",
      "Drop parameter base.pre_hm_layer.0.weight.\n",
      "Drop parameter base.pre_hm_layer.1.weight.\n",
      "Drop parameter base.pre_hm_layer.1.bias.\n",
      "Drop parameter base.pre_hm_layer.1.running_mean.\n",
      "Drop parameter base.pre_hm_layer.1.running_var.\n",
      "Drop parameter base.pre_hm_layer.1.num_batches_tracked.\n",
      "Initialize tracking!\n"
     ]
    },
    {
     "name": "stderr",
     "output_type": "stream",
     "text": [
      "\n",
      "\n",
      " 44%|████▍     | 4/9 [00:54<01:04, 12.96s/it]\u001b[A\u001b[A"
     ]
    },
    {
     "name": "stdout",
     "output_type": "stream",
     "text": [
      "Creating model...\n",
      "Using node type: (<class 'model.networks.dla.DeformConv'>, <class 'model.networks.dla.DeformConv'>)\n",
      "Warning: No ImageNet pretrain!!\n",
      "loaded /workspace/CenterTrack/models/coco_tracking.pth, epoch 70\n",
      "Drop parameter base.pre_hm_layer.0.weight.\n",
      "Drop parameter base.pre_hm_layer.1.weight.\n",
      "Drop parameter base.pre_hm_layer.1.bias.\n",
      "Drop parameter base.pre_hm_layer.1.running_mean.\n",
      "Drop parameter base.pre_hm_layer.1.running_var.\n",
      "Drop parameter base.pre_hm_layer.1.num_batches_tracked.\n",
      "Initialize tracking!\n"
     ]
    },
    {
     "name": "stderr",
     "output_type": "stream",
     "text": [
      "\n",
      "\n",
      " 56%|█████▌    | 5/9 [01:00<00:43, 10.96s/it]\u001b[A\u001b[A"
     ]
    },
    {
     "name": "stdout",
     "output_type": "stream",
     "text": [
      "Creating model...\n",
      "Using node type: (<class 'model.networks.dla.DeformConv'>, <class 'model.networks.dla.DeformConv'>)\n",
      "Warning: No ImageNet pretrain!!\n",
      "loaded /workspace/CenterTrack/models/coco_tracking.pth, epoch 70\n",
      "Drop parameter base.pre_hm_layer.0.weight.\n",
      "Drop parameter base.pre_hm_layer.1.weight.\n",
      "Drop parameter base.pre_hm_layer.1.bias.\n",
      "Drop parameter base.pre_hm_layer.1.running_mean.\n",
      "Drop parameter base.pre_hm_layer.1.running_var.\n",
      "Drop parameter base.pre_hm_layer.1.num_batches_tracked.\n",
      "Initialize tracking!\n"
     ]
    },
    {
     "name": "stderr",
     "output_type": "stream",
     "text": [
      "\n",
      "\n",
      " 67%|██████▋   | 6/9 [01:09<00:31, 10.49s/it]\u001b[A\u001b[A"
     ]
    },
    {
     "name": "stdout",
     "output_type": "stream",
     "text": [
      "Creating model...\n",
      "Using node type: (<class 'model.networks.dla.DeformConv'>, <class 'model.networks.dla.DeformConv'>)\n",
      "Warning: No ImageNet pretrain!!\n",
      "loaded /workspace/CenterTrack/models/coco_tracking.pth, epoch 70\n",
      "Drop parameter base.pre_hm_layer.0.weight.\n",
      "Drop parameter base.pre_hm_layer.1.weight.\n",
      "Drop parameter base.pre_hm_layer.1.bias.\n",
      "Drop parameter base.pre_hm_layer.1.running_mean.\n",
      "Drop parameter base.pre_hm_layer.1.running_var.\n",
      "Drop parameter base.pre_hm_layer.1.num_batches_tracked.\n",
      "Initialize tracking!\n"
     ]
    },
    {
     "name": "stderr",
     "output_type": "stream",
     "text": [
      "\n",
      "\n",
      " 78%|███████▊  | 7/9 [01:40<00:32, 16.42s/it]\u001b[A\u001b[A"
     ]
    },
    {
     "name": "stdout",
     "output_type": "stream",
     "text": [
      "Creating model...\n",
      "Using node type: (<class 'model.networks.dla.DeformConv'>, <class 'model.networks.dla.DeformConv'>)\n",
      "Warning: No ImageNet pretrain!!\n",
      "loaded /workspace/CenterTrack/models/coco_tracking.pth, epoch 70\n",
      "Drop parameter base.pre_hm_layer.0.weight.\n",
      "Drop parameter base.pre_hm_layer.1.weight.\n",
      "Drop parameter base.pre_hm_layer.1.bias.\n",
      "Drop parameter base.pre_hm_layer.1.running_mean.\n",
      "Drop parameter base.pre_hm_layer.1.running_var.\n",
      "Drop parameter base.pre_hm_layer.1.num_batches_tracked.\n",
      "Initialize tracking!\n"
     ]
    },
    {
     "name": "stderr",
     "output_type": "stream",
     "text": [
      "\n",
      "\n",
      " 89%|████████▉ | 8/9 [02:03<00:18, 18.56s/it]\u001b[A\u001b[A"
     ]
    },
    {
     "name": "stdout",
     "output_type": "stream",
     "text": [
      "Creating model...\n",
      "Using node type: (<class 'model.networks.dla.DeformConv'>, <class 'model.networks.dla.DeformConv'>)\n",
      "Warning: No ImageNet pretrain!!\n",
      "loaded /workspace/CenterTrack/models/coco_tracking.pth, epoch 70\n",
      "Drop parameter base.pre_hm_layer.0.weight.\n",
      "Drop parameter base.pre_hm_layer.1.weight.\n",
      "Drop parameter base.pre_hm_layer.1.bias.\n",
      "Drop parameter base.pre_hm_layer.1.running_mean.\n",
      "Drop parameter base.pre_hm_layer.1.running_var.\n",
      "Drop parameter base.pre_hm_layer.1.num_batches_tracked.\n",
      "Initialize tracking!\n"
     ]
    },
    {
     "name": "stderr",
     "output_type": "stream",
     "text": [
      "\n",
      "\n",
      "100%|██████████| 9/9 [02:24<00:00, 16.03s/it]\u001b[A\u001b[A\n",
      "\n",
      "\n",
      "  0%|          | 0/9 [00:00<?, ?it/s]\u001b[A\u001b[A"
     ]
    },
    {
     "name": "stdout",
     "output_type": "stream",
     "text": [
      "game9\n",
      "Creating model...\n",
      "Using node type: (<class 'model.networks.dla.DeformConv'>, <class 'model.networks.dla.DeformConv'>)\n",
      "Warning: No ImageNet pretrain!!\n",
      "loaded /workspace/CenterTrack/models/coco_tracking.pth, epoch 70\n",
      "Drop parameter base.pre_hm_layer.0.weight.\n",
      "Drop parameter base.pre_hm_layer.1.weight.\n",
      "Drop parameter base.pre_hm_layer.1.bias.\n",
      "Drop parameter base.pre_hm_layer.1.running_mean.\n",
      "Drop parameter base.pre_hm_layer.1.running_var.\n",
      "Drop parameter base.pre_hm_layer.1.num_batches_tracked.\n",
      "Initialize tracking!\n"
     ]
    },
    {
     "name": "stderr",
     "output_type": "stream",
     "text": [
      "\n",
      "\n",
      " 11%|█         | 1/9 [00:08<01:05,  8.15s/it]\u001b[A\u001b[A"
     ]
    },
    {
     "name": "stdout",
     "output_type": "stream",
     "text": [
      "Creating model...\n",
      "Using node type: (<class 'model.networks.dla.DeformConv'>, <class 'model.networks.dla.DeformConv'>)\n",
      "Warning: No ImageNet pretrain!!\n",
      "loaded /workspace/CenterTrack/models/coco_tracking.pth, epoch 70\n",
      "Drop parameter base.pre_hm_layer.0.weight.\n",
      "Drop parameter base.pre_hm_layer.1.weight.\n",
      "Drop parameter base.pre_hm_layer.1.bias.\n",
      "Drop parameter base.pre_hm_layer.1.running_mean.\n",
      "Drop parameter base.pre_hm_layer.1.running_var.\n",
      "Drop parameter base.pre_hm_layer.1.num_batches_tracked.\n",
      "Initialize tracking!\n"
     ]
    },
    {
     "name": "stderr",
     "output_type": "stream",
     "text": [
      "\n",
      "\n",
      " 22%|██▏       | 2/9 [00:31<01:28, 12.67s/it]\u001b[A\u001b[A"
     ]
    },
    {
     "name": "stdout",
     "output_type": "stream",
     "text": [
      "Creating model...\n",
      "Using node type: (<class 'model.networks.dla.DeformConv'>, <class 'model.networks.dla.DeformConv'>)\n",
      "Warning: No ImageNet pretrain!!\n",
      "loaded /workspace/CenterTrack/models/coco_tracking.pth, epoch 70\n",
      "Drop parameter base.pre_hm_layer.0.weight.\n",
      "Drop parameter base.pre_hm_layer.1.weight.\n",
      "Drop parameter base.pre_hm_layer.1.bias.\n",
      "Drop parameter base.pre_hm_layer.1.running_mean.\n",
      "Drop parameter base.pre_hm_layer.1.running_var.\n",
      "Drop parameter base.pre_hm_layer.1.num_batches_tracked.\n",
      "Initialize tracking!\n"
     ]
    },
    {
     "name": "stderr",
     "output_type": "stream",
     "text": [
      "\n",
      "\n",
      " 33%|███▎      | 3/9 [01:02<01:49, 18.32s/it]\u001b[A\u001b[A"
     ]
    },
    {
     "name": "stdout",
     "output_type": "stream",
     "text": [
      "Creating model...\n",
      "Using node type: (<class 'model.networks.dla.DeformConv'>, <class 'model.networks.dla.DeformConv'>)\n",
      "Warning: No ImageNet pretrain!!\n",
      "loaded /workspace/CenterTrack/models/coco_tracking.pth, epoch 70\n",
      "Drop parameter base.pre_hm_layer.0.weight.\n",
      "Drop parameter base.pre_hm_layer.1.weight.\n",
      "Drop parameter base.pre_hm_layer.1.bias.\n",
      "Drop parameter base.pre_hm_layer.1.running_mean.\n",
      "Drop parameter base.pre_hm_layer.1.running_var.\n",
      "Drop parameter base.pre_hm_layer.1.num_batches_tracked.\n",
      "Initialize tracking!\n"
     ]
    },
    {
     "name": "stderr",
     "output_type": "stream",
     "text": [
      "\n",
      "\n",
      " 44%|████▍     | 4/9 [01:12<01:19, 15.80s/it]\u001b[A\u001b[A"
     ]
    },
    {
     "name": "stdout",
     "output_type": "stream",
     "text": [
      "Creating model...\n",
      "Using node type: (<class 'model.networks.dla.DeformConv'>, <class 'model.networks.dla.DeformConv'>)\n",
      "Warning: No ImageNet pretrain!!\n",
      "loaded /workspace/CenterTrack/models/coco_tracking.pth, epoch 70\n",
      "Drop parameter base.pre_hm_layer.0.weight.\n",
      "Drop parameter base.pre_hm_layer.1.weight.\n",
      "Drop parameter base.pre_hm_layer.1.bias.\n",
      "Drop parameter base.pre_hm_layer.1.running_mean.\n",
      "Drop parameter base.pre_hm_layer.1.running_var.\n",
      "Drop parameter base.pre_hm_layer.1.num_batches_tracked.\n",
      "Initialize tracking!\n"
     ]
    },
    {
     "name": "stderr",
     "output_type": "stream",
     "text": [
      "\n",
      "\n",
      " 56%|█████▌    | 5/9 [01:38<01:15, 18.92s/it]\u001b[A\u001b[A"
     ]
    },
    {
     "name": "stdout",
     "output_type": "stream",
     "text": [
      "Creating model...\n",
      "Using node type: (<class 'model.networks.dla.DeformConv'>, <class 'model.networks.dla.DeformConv'>)\n",
      "Warning: No ImageNet pretrain!!\n",
      "loaded /workspace/CenterTrack/models/coco_tracking.pth, epoch 70\n",
      "Drop parameter base.pre_hm_layer.0.weight.\n",
      "Drop parameter base.pre_hm_layer.1.weight.\n",
      "Drop parameter base.pre_hm_layer.1.bias.\n",
      "Drop parameter base.pre_hm_layer.1.running_mean.\n",
      "Drop parameter base.pre_hm_layer.1.running_var.\n",
      "Drop parameter base.pre_hm_layer.1.num_batches_tracked.\n",
      "Initialize tracking!\n"
     ]
    },
    {
     "name": "stderr",
     "output_type": "stream",
     "text": [
      "\n",
      "\n",
      " 67%|██████▋   | 6/9 [01:48<00:48, 16.22s/it]\u001b[A\u001b[A"
     ]
    },
    {
     "name": "stdout",
     "output_type": "stream",
     "text": [
      "Creating model...\n",
      "Using node type: (<class 'model.networks.dla.DeformConv'>, <class 'model.networks.dla.DeformConv'>)\n",
      "Warning: No ImageNet pretrain!!\n",
      "loaded /workspace/CenterTrack/models/coco_tracking.pth, epoch 70\n",
      "Drop parameter base.pre_hm_layer.0.weight.\n",
      "Drop parameter base.pre_hm_layer.1.weight.\n",
      "Drop parameter base.pre_hm_layer.1.bias.\n",
      "Drop parameter base.pre_hm_layer.1.running_mean.\n",
      "Drop parameter base.pre_hm_layer.1.running_var.\n",
      "Drop parameter base.pre_hm_layer.1.num_batches_tracked.\n",
      "Initialize tracking!\n"
     ]
    },
    {
     "name": "stderr",
     "output_type": "stream",
     "text": [
      "\n",
      "\n",
      " 78%|███████▊  | 7/9 [01:56<00:27, 13.66s/it]\u001b[A\u001b[A"
     ]
    },
    {
     "name": "stdout",
     "output_type": "stream",
     "text": [
      "Creating model...\n",
      "Using node type: (<class 'model.networks.dla.DeformConv'>, <class 'model.networks.dla.DeformConv'>)\n",
      "Warning: No ImageNet pretrain!!\n",
      "loaded /workspace/CenterTrack/models/coco_tracking.pth, epoch 70\n",
      "Drop parameter base.pre_hm_layer.0.weight.\n",
      "Drop parameter base.pre_hm_layer.1.weight.\n",
      "Drop parameter base.pre_hm_layer.1.bias.\n",
      "Drop parameter base.pre_hm_layer.1.running_mean.\n",
      "Drop parameter base.pre_hm_layer.1.running_var.\n",
      "Drop parameter base.pre_hm_layer.1.num_batches_tracked.\n",
      "Initialize tracking!\n"
     ]
    },
    {
     "name": "stderr",
     "output_type": "stream",
     "text": [
      "\n",
      "\n",
      " 89%|████████▉ | 8/9 [02:02<00:11, 11.26s/it]\u001b[A\u001b[A"
     ]
    },
    {
     "name": "stdout",
     "output_type": "stream",
     "text": [
      "Creating model...\n",
      "Using node type: (<class 'model.networks.dla.DeformConv'>, <class 'model.networks.dla.DeformConv'>)\n",
      "Warning: No ImageNet pretrain!!\n",
      "loaded /workspace/CenterTrack/models/coco_tracking.pth, epoch 70\n",
      "Drop parameter base.pre_hm_layer.0.weight.\n",
      "Drop parameter base.pre_hm_layer.1.weight.\n",
      "Drop parameter base.pre_hm_layer.1.bias.\n",
      "Drop parameter base.pre_hm_layer.1.running_mean.\n",
      "Drop parameter base.pre_hm_layer.1.running_var.\n",
      "Drop parameter base.pre_hm_layer.1.num_batches_tracked.\n",
      "Initialize tracking!\n"
     ]
    },
    {
     "name": "stderr",
     "output_type": "stream",
     "text": [
      "\n",
      "\n",
      "100%|██████████| 9/9 [02:22<00:00, 15.87s/it]\u001b[A\u001b[A\n"
     ]
    }
   ],
   "source": [
    "detector = Detector(opt)\n",
    "input_meta = {'pre_dets': []}\n",
    "\n",
    "games = listdirs(data_dir, 'game')\n",
    "for game in games:\n",
    "    print(game)\n",
    "    game_dir = osp.join(data_dir, game)\n",
    "    clips = listdirs(game_dir, 'Clip')\n",
    "    for clip in tqdm(clips):\n",
    "        clip_dir = osp.join(game_dir, clip)\n",
    "        file_names = listdirs(clip_dir)\n",
    "        label_names = [label for label in file_names if osp.splitext(label)[1]=='.json']\n",
    "        image_names = [image for image in file_names if osp.splitext(image)[1]=='.jpg']\n",
    "        \n",
    "        results_df_list = []\n",
    "        for frame_index, image_name in enumerate(image_names, 1):\n",
    "            file_name = os.path.splitext(image_name)[0]\n",
    "            image_path = osp.join(data_dir, game, clip, image_name)\n",
    "            frame = cv2.imread(image_path)\n",
    "            if frame_index==1:\n",
    "                detector = Detector(opt)\n",
    "                _ = detector.run(frame, input_meta)\n",
    "                continue\n",
    "            else:    \n",
    "                results = detector.run(frame)['results']\n",
    "                \n",
    "                for result in results:\n",
    "                    class_id = result['class']\n",
    "                    if class_id != person_class_id:\n",
    "                        continue\n",
    "                    score = result['score']\n",
    "                    tracking_id = result['tracking_id']\n",
    "                    bbox = result['bbox']\n",
    "                    \n",
    "                    xmin, ymin, xmax, ymax = bbox.astype(int)\n",
    "                    xmin = np.maximum(xmin, 0)\n",
    "                    ymin = np.maximum(ymin, 0)\n",
    "                    xmax = np.minimum(xmax, frame.shape[1])\n",
    "                    ymax = np.minimum(ymax, frame.shape[0])\n",
    "                    \n",
    "                    frame_index = int(file_name)\n",
    "                    label = [tracking_id, frame_index, xmin, ymin, xmax, ymax, score, image_name]\n",
    "                    save_clip_dir = osp.join(save_dir, game, clip)\n",
    "                                        \n",
    "                    person_image = frame[ymin:ymax, xmin:xmax]\n",
    "                    if person_image is None:\n",
    "                        print('person_image is None')\n",
    "                        continue\n",
    "                    person_image_save_path = osp.join(save_clip_dir, '{:05}'.format(tracking_id), 'person_image', image_name)\n",
    "                    os.makedirs(osp.dirname(person_image_save_path), exist_ok=True)\n",
    "                    cv2.imwrite(person_image_save_path, person_image)\n",
    "                    \n",
    "                    label_save_path = osp.join(save_clip_dir, '{:05}'.format(tracking_id), 'label', '{}.pkl'.format(file_name))\n",
    "                    os.makedirs(osp.dirname(label_save_path), exist_ok=True)\n",
    "                    save_pickle(label, label_save_path)"
   ]
  },
  {
   "cell_type": "code",
   "execution_count": null,
   "metadata": {},
   "outputs": [],
   "source": []
  },
  {
   "cell_type": "code",
   "execution_count": null,
   "metadata": {},
   "outputs": [],
   "source": []
  }
 ],
 "metadata": {
  "kernelspec": {
   "display_name": "Python 3",
   "language": "python",
   "name": "python3"
  },
  "language_info": {
   "codemirror_mode": {
    "name": "ipython",
    "version": 3
   },
   "file_extension": ".py",
   "mimetype": "text/x-python",
   "name": "python",
   "nbconvert_exporter": "python",
   "pygments_lexer": "ipython3",
   "version": "3.6.8"
  }
 },
 "nbformat": 4,
 "nbformat_minor": 4
}
