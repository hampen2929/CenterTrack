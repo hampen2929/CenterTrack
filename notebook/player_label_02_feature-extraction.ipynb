{
 "cells": [
  {
   "cell_type": "markdown",
   "metadata": {},
   "source": [
    "# import"
   ]
  },
  {
   "cell_type": "code",
   "execution_count": 1,
   "metadata": {},
   "outputs": [],
   "source": [
    "import sys\n",
    "import os\n",
    "import os.path as osp\n",
    "import torch\n",
    "import cv2\n",
    "from tqdm import tqdm\n",
    "import matplotlib.pyplot as plt\n",
    "import pandas as pd\n",
    "import pickle\n",
    "import numpy as np"
   ]
  },
  {
   "cell_type": "code",
   "execution_count": 2,
   "metadata": {},
   "outputs": [],
   "source": [
    "sys.path.append(\"/workspace/pyvino/pyvino/model/human_pose_estimation/human_3d_pose_estimator/pose_extractor/build/\")"
   ]
  },
  {
   "cell_type": "code",
   "execution_count": 3,
   "metadata": {},
   "outputs": [],
   "source": [
    "from pyvino.model.reidentification.person_reidentifier import PersonReidentifier"
   ]
  },
  {
   "cell_type": "code",
   "execution_count": 4,
   "metadata": {},
   "outputs": [
    {
     "name": "stderr",
     "output_type": "stream",
     "text": [
      "2020-04-20 03:12:05,850 - pyvino.model.base_model.base_model - INFO - person-reidentification-retail-0076 on Linux\n",
      "2020-04-20 03:12:05,857 - pyvino.model.base_model.base_model - INFO - The path to cpu_extension is /opt/intel/openvino/inference_engine/lib/intel64/libcpu_extension_avx2.so\n"
     ]
    }
   ],
   "source": [
    "reid_model = PersonReidentifier()"
   ]
  },
  {
   "cell_type": "markdown",
   "metadata": {},
   "source": [
    "# constant"
   ]
  },
  {
   "cell_type": "markdown",
   "metadata": {},
   "source": [
    "# path"
   ]
  },
  {
   "cell_type": "code",
   "execution_count": 5,
   "metadata": {},
   "outputs": [],
   "source": [
    "data_name = 'player'\n",
    "data_dir = osp.join('../output', data_name, 'tracking')\n",
    "save_dir = osp.join('../output', data_name, 'tracking')"
   ]
  },
  {
   "cell_type": "markdown",
   "metadata": {},
   "source": [
    "# function"
   ]
  },
  {
   "cell_type": "code",
   "execution_count": 6,
   "metadata": {},
   "outputs": [],
   "source": [
    "def listdirs(dir_path, name_condition=None):\n",
    "    dir_names = os.listdir(dir_path)\n",
    "    if name_condition is not None:\n",
    "        dir_names = [dir_name for dir_name in dir_names if dir_name.startswith(name_condition)]\n",
    "    dir_names.sort()\n",
    "    return dir_names"
   ]
  },
  {
   "cell_type": "code",
   "execution_count": 7,
   "metadata": {},
   "outputs": [],
   "source": [
    "def save_pickle(data, path):\n",
    "    with open(path, 'wb') as f:\n",
    "        pickle.dump(data, f)\n",
    "\n",
    "\n",
    "def load_pickle(path):\n",
    "    with open(path, 'rb') as f:\n",
    "        data = pickle.load(f)\n",
    "    return data"
   ]
  },
  {
   "cell_type": "code",
   "execution_count": 8,
   "metadata": {},
   "outputs": [],
   "source": [
    "def l2_norm(x):\n",
    "    x_l2_norm = np.linalg.norm(x,ord=2)\n",
    "    x_l2_normalized = x / x_l2_norm\n",
    "    return x_l2_normalized"
   ]
  },
  {
   "cell_type": "code",
   "execution_count": 9,
   "metadata": {},
   "outputs": [],
   "source": [
    "def mean_feature(features):    \n",
    "    num_feature = len(features)    \n",
    "    features = features.sum(axis=0)\n",
    "    features = features / num_feature\n",
    "    features = l2_norm(features)\n",
    "    return features"
   ]
  },
  {
   "cell_type": "markdown",
   "metadata": {},
   "source": [
    "# main"
   ]
  },
  {
   "cell_type": "code",
   "execution_count": 13,
   "metadata": {},
   "outputs": [
    {
     "name": "stderr",
     "output_type": "stream",
     "text": [
      "\r",
      "  0%|          | 0/13 [00:00<?, ?it/s]"
     ]
    },
    {
     "name": "stdout",
     "output_type": "stream",
     "text": [
      "game1\n"
     ]
    },
    {
     "name": "stderr",
     "output_type": "stream",
     "text": [
      "100%|██████████| 13/13 [02:58<00:00, 13.70s/it]\n",
      "  0%|          | 0/12 [00:00<?, ?it/s]"
     ]
    },
    {
     "name": "stdout",
     "output_type": "stream",
     "text": [
      "game10\n"
     ]
    },
    {
     "name": "stderr",
     "output_type": "stream",
     "text": [
      "100%|██████████| 12/12 [00:48<00:00,  4.00s/it]\n",
      "  0%|          | 0/8 [00:00<?, ?it/s]"
     ]
    },
    {
     "name": "stdout",
     "output_type": "stream",
     "text": [
      "game2\n"
     ]
    },
    {
     "name": "stderr",
     "output_type": "stream",
     "text": [
      "100%|██████████| 8/8 [01:32<00:00, 11.59s/it]\n",
      "  0%|          | 0/9 [00:00<?, ?it/s]"
     ]
    },
    {
     "name": "stdout",
     "output_type": "stream",
     "text": [
      "game3\n"
     ]
    },
    {
     "name": "stderr",
     "output_type": "stream",
     "text": [
      "100%|██████████| 9/9 [03:08<00:00, 20.98s/it]\n",
      "  0%|          | 0/7 [00:00<?, ?it/s]"
     ]
    },
    {
     "name": "stdout",
     "output_type": "stream",
     "text": [
      "game4\n"
     ]
    },
    {
     "name": "stderr",
     "output_type": "stream",
     "text": [
      "100%|██████████| 7/7 [01:44<00:00, 14.93s/it]\n",
      "  0%|          | 0/15 [00:00<?, ?it/s]"
     ]
    },
    {
     "name": "stdout",
     "output_type": "stream",
     "text": [
      "game5\n"
     ]
    },
    {
     "name": "stderr",
     "output_type": "stream",
     "text": [
      "100%|██████████| 15/15 [01:21<00:00,  5.43s/it]\n",
      "  0%|          | 0/4 [00:00<?, ?it/s]"
     ]
    },
    {
     "name": "stdout",
     "output_type": "stream",
     "text": [
      "game6\n"
     ]
    },
    {
     "name": "stderr",
     "output_type": "stream",
     "text": [
      "100%|██████████| 4/4 [02:35<00:00, 38.79s/it]\n",
      "  0%|          | 0/8 [00:00<?, ?it/s]"
     ]
    },
    {
     "name": "stdout",
     "output_type": "stream",
     "text": [
      "game7\n"
     ]
    },
    {
     "name": "stderr",
     "output_type": "stream",
     "text": [
      "100%|██████████| 8/8 [01:18<00:00,  9.81s/it]\n",
      "  0%|          | 0/9 [00:00<?, ?it/s]"
     ]
    },
    {
     "name": "stdout",
     "output_type": "stream",
     "text": [
      "game8\n"
     ]
    },
    {
     "name": "stderr",
     "output_type": "stream",
     "text": [
      "100%|██████████| 9/9 [02:07<00:00, 14.21s/it]\n",
      "  0%|          | 0/9 [00:00<?, ?it/s]"
     ]
    },
    {
     "name": "stdout",
     "output_type": "stream",
     "text": [
      "game9\n"
     ]
    },
    {
     "name": "stderr",
     "output_type": "stream",
     "text": [
      "100%|██████████| 9/9 [01:46<00:00, 11.84s/it]\n"
     ]
    }
   ],
   "source": [
    "games = listdirs(data_dir, 'game')\n",
    "for game in games:\n",
    "    print(game)\n",
    "    game_dir = osp.join(data_dir, game)\n",
    "    clips = listdirs(game_dir, 'Clip')\n",
    "    for clip in tqdm(clips):\n",
    "        clip_dir = osp.join(game_dir, clip)\n",
    "        tracking_ids = listdirs(clip_dir)\n",
    "        for tracking_id in tracking_ids:\n",
    "            tracking_dir = osp.join(clip_dir, tracking_id, 'person_image')\n",
    "            file_names = listdirs(tracking_dir)\n",
    "            # label_names = [label for label in file_names if osp.splitext(label)[1]=='.json']\n",
    "            image_names = [image for image in file_names if osp.splitext(image)[1]=='.jpg']\n",
    "            \n",
    "            features = []\n",
    "            for image_name in image_names:\n",
    "                mean_feature\n",
    "                \n",
    "                file_name = os.path.splitext(image_name)[0]\n",
    "                image_path = osp.join(tracking_dir, image_name)                \n",
    "                frame = cv2.imread(image_path)\n",
    "                if frame is None:\n",
    "                    print('frame is None')\n",
    "                    continue\n",
    "                \n",
    "                feature = reid_model.compute(frame)\n",
    "                feature_save_name = \"{}.pkl\".format(file_name)\n",
    "                feature_save_path = osp.join(save_dir, game, clip, tracking_id, 'feature', feature_save_name)\n",
    "                os.makedirs(osp.dirname(feature_save_path), exist_ok=True)\n",
    "                save_pickle(feature, feature_save_path)\n",
    "                features.append(feature)\n",
    "                \n",
    "            features = np.array(features)\n",
    "            mean_f = mean_feature(features)\n",
    "            mean_feature_save_path = osp.join(save_dir, game, clip, tracking_id, 'mean_feature', 'mean_feature.pkl')\n",
    "            os.makedirs(osp.dirname(mean_feature_save_path), exist_ok=True)\n",
    "            save_pickle(mean_f, mean_feature_save_path)\n"
   ]
  },
  {
   "cell_type": "code",
   "execution_count": null,
   "metadata": {},
   "outputs": [],
   "source": []
  },
  {
   "cell_type": "code",
   "execution_count": null,
   "metadata": {},
   "outputs": [],
   "source": []
  }
 ],
 "metadata": {
  "kernelspec": {
   "display_name": "Python 3",
   "language": "python",
   "name": "python3"
  },
  "language_info": {
   "codemirror_mode": {
    "name": "ipython",
    "version": 3
   },
   "file_extension": ".py",
   "mimetype": "text/x-python",
   "name": "python",
   "nbconvert_exporter": "python",
   "pygments_lexer": "ipython3",
   "version": "3.6.8"
  }
 },
 "nbformat": 4,
 "nbformat_minor": 4
}
