{
 "cells": [
  {
   "cell_type": "markdown",
   "metadata": {},
   "source": [
    "# import"
   ]
  },
  {
   "cell_type": "code",
   "execution_count": 34,
   "metadata": {},
   "outputs": [],
   "source": [
    "import cv2\n",
    "import os\n",
    "import os.path as osp\n",
    "from glob import glob\n",
    "from tqdm import tqdm\n",
    "import pickle\n",
    "import pandas as pd\n",
    "import numpy as np"
   ]
  },
  {
   "cell_type": "markdown",
   "metadata": {},
   "source": [
    "# path"
   ]
  },
  {
   "cell_type": "code",
   "execution_count": 35,
   "metadata": {},
   "outputs": [],
   "source": [
    "data_name = 'player'\n",
    "input_dir = osp.join('../input', data_name)\n",
    "data_dir = osp.join('../output', data_name, 'tracking')\n",
    "label_save_dir = osp.join('../output', data_name, 'label')\n",
    "reid_dir = osp.join('../output', data_name, 'reid')\n",
    "track_label_path = osp.join('../output/')\n",
    "movie_dir = osp.join('../output', data_name, 'movie')"
   ]
  },
  {
   "cell_type": "markdown",
   "metadata": {},
   "source": [
    "# function"
   ]
  },
  {
   "cell_type": "code",
   "execution_count": 36,
   "metadata": {},
   "outputs": [],
   "source": [
    "def listdirs(dir_path, name_condition=None):\n",
    "    dir_names = os.listdir(dir_path)\n",
    "    if name_condition is not None:\n",
    "        dir_names = [dir_name for dir_name in dir_names if dir_name.startswith(name_condition)]\n",
    "    dir_names.sort()\n",
    "    return dir_names"
   ]
  },
  {
   "cell_type": "code",
   "execution_count": 37,
   "metadata": {},
   "outputs": [],
   "source": [
    "def save_pickle(data, path):\n",
    "    with open(path, 'wb') as f:\n",
    "        pickle.dump(data, f)\n",
    "\n",
    "\n",
    "def load_pickle(path):\n",
    "    with open(path, 'rb') as f:\n",
    "        data = pickle.load(f)\n",
    "    return data"
   ]
  },
  {
   "cell_type": "markdown",
   "metadata": {},
   "source": [
    "# label save"
   ]
  },
  {
   "cell_type": "code",
   "execution_count": null,
   "metadata": {},
   "outputs": [],
   "source": [
    "games = listdirs(data_dir, 'game')\n",
    "columns = ['tracking_id', 'frame_index', 'xmin', 'ymin', 'xmax', 'ymax', 'confidence', 'image_name']\n",
    "\n",
    "for game in games:\n",
    "    game_dir = osp.join(data_dir, game)\n",
    "    clips = listdirs(game_dir, 'Clip')\n",
    "\n",
    "    for clip in tqdm(clips):\n",
    "        clip_dir = osp.join(game_dir, clip)\n",
    "        tracking_ids = listdirs(clip_dir)\n",
    "        labels = []\n",
    "        for tracking_id in tracking_ids:\n",
    "            tracking_dir = osp.join(clip_dir, tracking_id)\n",
    "            label_dir = osp.join(tracking_dir, 'label')\n",
    "            \n",
    "            label_names = listdirs(label_dir)\n",
    "            labels_arr = np.zeros((len(label_names), 7))\n",
    "            for num, label_name in enumerate(label_names):\n",
    "                file_name = osp.splitext(label_name)[0]\n",
    "                label_path = osp.join(label_dir, label_name)\n",
    "                label = load_pickle(label_path)\n",
    "                labels.append(label)\n",
    "        label_df = pd.DataFrame(labels, columns=columns)\n",
    "        label_df['width'] = label_df['xmax'] - label_df['xmin']\n",
    "        label_df['height'] = label_df['ymax'] - label_df['ymin']\n",
    "        \n",
    "        label_path = osp.join(label_save_dir, game, '{}.csv'.format(clip))\n",
    "        os.makedirs(osp.dirname(label_path), exist_ok=True)\n",
    "        label_df.to_csv(label_path, index=False)"
   ]
  },
  {
   "cell_type": "code",
   "execution_count": null,
   "metadata": {},
   "outputs": [],
   "source": []
  }
 ],
 "metadata": {
  "kernelspec": {
   "display_name": "Python 3",
   "language": "python",
   "name": "python3"
  },
  "language_info": {
   "codemirror_mode": {
    "name": "ipython",
    "version": 3
   },
   "file_extension": ".py",
   "mimetype": "text/x-python",
   "name": "python",
   "nbconvert_exporter": "python",
   "pygments_lexer": "ipython3",
   "version": "3.6.8"
  }
 },
 "nbformat": 4,
 "nbformat_minor": 4
}
