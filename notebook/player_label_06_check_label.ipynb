{
 "cells": [
  {
   "cell_type": "markdown",
   "metadata": {},
   "source": [
    "# import"
   ]
  },
  {
   "cell_type": "code",
   "execution_count": 1,
   "metadata": {},
   "outputs": [],
   "source": [
    "import cv2\n",
    "import os\n",
    "import os.path as osp\n",
    "from glob import glob\n",
    "from tqdm import tqdm\n",
    "import pickle\n",
    "import pandas as pd\n",
    "import numpy as np\n",
    "import matplotlib.pyplot as plt"
   ]
  },
  {
   "cell_type": "markdown",
   "metadata": {},
   "source": [
    "# path"
   ]
  },
  {
   "cell_type": "code",
   "execution_count": 2,
   "metadata": {},
   "outputs": [],
   "source": [
    "data_name = 'player'\n",
    "input_dir = osp.join('../input', data_name)\n",
    "data_dir = osp.join('../output', data_name, 'tracking')\n",
    "label_save_dir = osp.join('../output', data_name, 'label')\n",
    "reid_dir = osp.join('../output', data_name, 'reid')\n",
    "track_label_path = osp.join('../output/')\n",
    "movie_dir = osp.join('../output', data_name, 'movie')\n",
    "mot_pid_dir = osp.join('../output', data_name, 'mot_pid')"
   ]
  },
  {
   "cell_type": "markdown",
   "metadata": {},
   "source": [
    "# function"
   ]
  },
  {
   "cell_type": "code",
   "execution_count": 3,
   "metadata": {},
   "outputs": [],
   "source": [
    "def listdirs(dir_path, name_condition=None):\n",
    "    dir_names = os.listdir(dir_path)\n",
    "    if name_condition is not None:\n",
    "        dir_names = [dir_name for dir_name in dir_names if dir_name.startswith(name_condition)]\n",
    "    dir_names.sort()\n",
    "    return dir_names"
   ]
  },
  {
   "cell_type": "code",
   "execution_count": 4,
   "metadata": {},
   "outputs": [],
   "source": [
    "def save_pickle(data, path):\n",
    "    with open(path, 'wb') as f:\n",
    "        pickle.dump(data, f)\n",
    "\n",
    "\n",
    "def load_pickle(path):\n",
    "    with open(path, 'rb') as f:\n",
    "        data = pickle.load(f)\n",
    "    return data"
   ]
  },
  {
   "cell_type": "code",
   "execution_count": 5,
   "metadata": {},
   "outputs": [],
   "source": [
    "def draw_bbox(img, bboxes, c=(0,255,0)):\n",
    "    for bbox in bboxes:\n",
    "        cv2.rectangle(img, (int(bbox[0]), int(bbox[1])), \n",
    "                      (int(bbox[0] + bbox[2]), int(bbox[1] + bbox[3])), \n",
    "                      (0,255,0), 2, lineType=cv2.LINE_AA)\n",
    "        ct = [bbox[0] + bbox[2] / 2, bbox[1] + bbox[3] / 2]\n",
    "        txt = '{}'.format(bbox[4])\n",
    "        cv2.putText(img, txt, (int(ct[0]), int(ct[1])), \n",
    "                    cv2.FONT_HERSHEY_SIMPLEX, 0.5, \n",
    "                    (0, 0, 0), thickness=3, lineType=cv2.LINE_AA)\n",
    "        cv2.putText(img, txt, (int(ct[0]), int(ct[1])), \n",
    "                    cv2.FONT_HERSHEY_SIMPLEX, 0.5, \n",
    "                    c, thickness=2, lineType=cv2.LINE_AA)"
   ]
  },
  {
   "cell_type": "markdown",
   "metadata": {},
   "source": [
    "# track pid"
   ]
  },
  {
   "cell_type": "code",
   "execution_count": 6,
   "metadata": {},
   "outputs": [],
   "source": [
    "game = 'game1'"
   ]
  },
  {
   "cell_type": "markdown",
   "metadata": {},
   "source": [
    "#  mot_pid"
   ]
  },
  {
   "cell_type": "code",
   "execution_count": 11,
   "metadata": {
    "scrolled": true
   },
   "outputs": [
    {
     "name": "stdout",
     "output_type": "stream",
     "text": [
      "Federer\n",
      "Djokovic\n",
      "Unknown_Blue\n",
      "Unknown_Skyblue\n",
      "Djokovic\n",
      "Monfils\n",
      "Murray\n",
      "Djokovic\n",
      "Unknown_WhiteBlack\n",
      "Unknown_WhiteWhite\n",
      "Unknown_WhiteBlue\n",
      "Unknown_Skyblue\n",
      "Ferrer\n",
      "Fognini\n",
      "Federer\n",
      "Kyrgios\n",
      "Unknown_Orange\n",
      "Unknown_Purple\n",
      "Sharapova\n",
      "Halep\n"
     ]
    }
   ],
   "source": [
    "games = listdirs(input_dir, 'game')\n",
    "columns = ['frame_index', 'tracking_id', 'xmin', 'ymin', 'xmax', 'ymax', 'confidence', 'image_name']\n",
    "for game in games:\n",
    "    game_dir = osp.join(input_dir, game)\n",
    "    clips = listdirs(game_dir, 'Clip')\n",
    "    \n",
    "    track_pid_paths = glob(osp.join(reid_dir, game, '*.csv'))\n",
    "    track_pid_df_list = []\n",
    "    \n",
    "    for track_pid_path in track_pid_paths:\n",
    "        person_name = osp.splitext(osp.basename(track_pid_path))[0]\n",
    "        print(person_name)\n",
    "        track_pid_df = pd.read_csv(track_pid_path)\n",
    "        \n",
    "        track_pid_df = track_pid_df[track_pid_df.person==1]\n",
    "        track_pid_df['person_name'] = person_name\n",
    "        \n",
    "        track_pid_df_list.append(track_pid_df)\n",
    "    track_pid_df = pd.concat(track_pid_df_list)\n",
    "    \n",
    "    for clip in clips:\n",
    "        track_pid_clip_df = track_pid_df[track_pid_df['clip']==clip]\n",
    "        \n",
    "        clip_dir = osp.join(game_dir, clip)\n",
    "        file_names = listdirs(clip_dir)\n",
    "        image_names = [file_name for file_name in file_names if osp.splitext(file_name)[1]=='.jpg']\n",
    "        \n",
    "        label_path = osp.join(label_save_dir, game, '{}.csv'.format(clip))\n",
    "        label_df = pd.read_csv(label_path)\n",
    "        \n",
    "        track_pid_clip_df = track_pid_clip_df[['tracking_id', 'person_name']]\n",
    "        mot_pid_df = label_df.merge(track_pid_clip_df, on=['tracking_id'], how='left')\n",
    "        mot_pid_df_save_path = osp.join(mot_pid_dir, game, '{}.csv'.format(clip))\n",
    "        \n",
    "        \n",
    "        os.makedirs(osp.dirname(mot_pid_df_save_path), exist_ok=True)\n",
    "        mot_pid_df.to_csv(mot_pid_df_save_path, index=False)"
   ]
  },
  {
   "cell_type": "code",
   "execution_count": 10,
   "metadata": {},
   "outputs": [
    {
     "data": {
      "text/html": [
       "<div>\n",
       "<style scoped>\n",
       "    .dataframe tbody tr th:only-of-type {\n",
       "        vertical-align: middle;\n",
       "    }\n",
       "\n",
       "    .dataframe tbody tr th {\n",
       "        vertical-align: top;\n",
       "    }\n",
       "\n",
       "    .dataframe thead th {\n",
       "        text-align: right;\n",
       "    }\n",
       "</style>\n",
       "<table border=\"1\" class=\"dataframe\">\n",
       "  <thead>\n",
       "    <tr style=\"text-align: right;\">\n",
       "      <th></th>\n",
       "      <th>tracking_id</th>\n",
       "      <th>frame_index</th>\n",
       "      <th>xmin</th>\n",
       "      <th>ymin</th>\n",
       "      <th>xmax</th>\n",
       "      <th>ymax</th>\n",
       "      <th>confidence</th>\n",
       "      <th>image_name</th>\n",
       "      <th>width</th>\n",
       "      <th>height</th>\n",
       "      <th>person_name</th>\n",
       "    </tr>\n",
       "  </thead>\n",
       "  <tbody>\n",
       "    <tr>\n",
       "      <th>0</th>\n",
       "      <td>1</td>\n",
       "      <td>1</td>\n",
       "      <td>594</td>\n",
       "      <td>90</td>\n",
       "      <td>620</td>\n",
       "      <td>158</td>\n",
       "      <td>0.656887</td>\n",
       "      <td>0001.jpg</td>\n",
       "      <td>26</td>\n",
       "      <td>68</td>\n",
       "      <td>Halep</td>\n",
       "    </tr>\n",
       "    <tr>\n",
       "      <th>1</th>\n",
       "      <td>1</td>\n",
       "      <td>2</td>\n",
       "      <td>595</td>\n",
       "      <td>90</td>\n",
       "      <td>619</td>\n",
       "      <td>155</td>\n",
       "      <td>0.554561</td>\n",
       "      <td>0002.jpg</td>\n",
       "      <td>24</td>\n",
       "      <td>65</td>\n",
       "      <td>Halep</td>\n",
       "    </tr>\n",
       "    <tr>\n",
       "      <th>2</th>\n",
       "      <td>1</td>\n",
       "      <td>3</td>\n",
       "      <td>594</td>\n",
       "      <td>91</td>\n",
       "      <td>619</td>\n",
       "      <td>156</td>\n",
       "      <td>0.597442</td>\n",
       "      <td>0003.jpg</td>\n",
       "      <td>25</td>\n",
       "      <td>65</td>\n",
       "      <td>Halep</td>\n",
       "    </tr>\n",
       "    <tr>\n",
       "      <th>3</th>\n",
       "      <td>1</td>\n",
       "      <td>4</td>\n",
       "      <td>593</td>\n",
       "      <td>95</td>\n",
       "      <td>619</td>\n",
       "      <td>153</td>\n",
       "      <td>0.550981</td>\n",
       "      <td>0004.jpg</td>\n",
       "      <td>26</td>\n",
       "      <td>58</td>\n",
       "      <td>Halep</td>\n",
       "    </tr>\n",
       "    <tr>\n",
       "      <th>4</th>\n",
       "      <td>1</td>\n",
       "      <td>5</td>\n",
       "      <td>593</td>\n",
       "      <td>98</td>\n",
       "      <td>617</td>\n",
       "      <td>150</td>\n",
       "      <td>0.537664</td>\n",
       "      <td>0005.jpg</td>\n",
       "      <td>24</td>\n",
       "      <td>52</td>\n",
       "      <td>Halep</td>\n",
       "    </tr>\n",
       "    <tr>\n",
       "      <th>...</th>\n",
       "      <td>...</td>\n",
       "      <td>...</td>\n",
       "      <td>...</td>\n",
       "      <td>...</td>\n",
       "      <td>...</td>\n",
       "      <td>...</td>\n",
       "      <td>...</td>\n",
       "      <td>...</td>\n",
       "      <td>...</td>\n",
       "      <td>...</td>\n",
       "      <td>...</td>\n",
       "    </tr>\n",
       "    <tr>\n",
       "      <th>1902</th>\n",
       "      <td>37</td>\n",
       "      <td>78</td>\n",
       "      <td>1257</td>\n",
       "      <td>213</td>\n",
       "      <td>1271</td>\n",
       "      <td>256</td>\n",
       "      <td>0.286542</td>\n",
       "      <td>0078.jpg</td>\n",
       "      <td>14</td>\n",
       "      <td>43</td>\n",
       "      <td>NaN</td>\n",
       "    </tr>\n",
       "    <tr>\n",
       "      <th>1903</th>\n",
       "      <td>37</td>\n",
       "      <td>79</td>\n",
       "      <td>1257</td>\n",
       "      <td>213</td>\n",
       "      <td>1272</td>\n",
       "      <td>256</td>\n",
       "      <td>0.281872</td>\n",
       "      <td>0079.jpg</td>\n",
       "      <td>15</td>\n",
       "      <td>43</td>\n",
       "      <td>NaN</td>\n",
       "    </tr>\n",
       "    <tr>\n",
       "      <th>1904</th>\n",
       "      <td>37</td>\n",
       "      <td>80</td>\n",
       "      <td>1257</td>\n",
       "      <td>212</td>\n",
       "      <td>1272</td>\n",
       "      <td>257</td>\n",
       "      <td>0.288108</td>\n",
       "      <td>0080.jpg</td>\n",
       "      <td>15</td>\n",
       "      <td>45</td>\n",
       "      <td>NaN</td>\n",
       "    </tr>\n",
       "    <tr>\n",
       "      <th>1905</th>\n",
       "      <td>37</td>\n",
       "      <td>81</td>\n",
       "      <td>1257</td>\n",
       "      <td>215</td>\n",
       "      <td>1272</td>\n",
       "      <td>255</td>\n",
       "      <td>0.317298</td>\n",
       "      <td>0081.jpg</td>\n",
       "      <td>15</td>\n",
       "      <td>40</td>\n",
       "      <td>NaN</td>\n",
       "    </tr>\n",
       "    <tr>\n",
       "      <th>1906</th>\n",
       "      <td>37</td>\n",
       "      <td>82</td>\n",
       "      <td>1257</td>\n",
       "      <td>214</td>\n",
       "      <td>1272</td>\n",
       "      <td>255</td>\n",
       "      <td>0.320806</td>\n",
       "      <td>0082.jpg</td>\n",
       "      <td>15</td>\n",
       "      <td>41</td>\n",
       "      <td>NaN</td>\n",
       "    </tr>\n",
       "  </tbody>\n",
       "</table>\n",
       "<p>1907 rows × 11 columns</p>\n",
       "</div>"
      ],
      "text/plain": [
       "      tracking_id  frame_index  xmin  ymin  xmax  ymax  confidence image_name  \\\n",
       "0               1            1   594    90   620   158    0.656887   0001.jpg   \n",
       "1               1            2   595    90   619   155    0.554561   0002.jpg   \n",
       "2               1            3   594    91   619   156    0.597442   0003.jpg   \n",
       "3               1            4   593    95   619   153    0.550981   0004.jpg   \n",
       "4               1            5   593    98   617   150    0.537664   0005.jpg   \n",
       "...           ...          ...   ...   ...   ...   ...         ...        ...   \n",
       "1902           37           78  1257   213  1271   256    0.286542   0078.jpg   \n",
       "1903           37           79  1257   213  1272   256    0.281872   0079.jpg   \n",
       "1904           37           80  1257   212  1272   257    0.288108   0080.jpg   \n",
       "1905           37           81  1257   215  1272   255    0.317298   0081.jpg   \n",
       "1906           37           82  1257   214  1272   255    0.320806   0082.jpg   \n",
       "\n",
       "      width  height person_name  \n",
       "0        26      68       Halep  \n",
       "1        24      65       Halep  \n",
       "2        25      65       Halep  \n",
       "3        26      58       Halep  \n",
       "4        24      52       Halep  \n",
       "...     ...     ...         ...  \n",
       "1902     14      43         NaN  \n",
       "1903     15      43         NaN  \n",
       "1904     15      45         NaN  \n",
       "1905     15      40         NaN  \n",
       "1906     15      41         NaN  \n",
       "\n",
       "[1907 rows x 11 columns]"
      ]
     },
     "execution_count": 10,
     "metadata": {},
     "output_type": "execute_result"
    }
   ],
   "source": [
    "mot_pid_df"
   ]
  },
  {
   "cell_type": "code",
   "execution_count": null,
   "metadata": {},
   "outputs": [],
   "source": []
  },
  {
   "cell_type": "markdown",
   "metadata": {},
   "source": [
    "# movie_check"
   ]
  },
  {
   "cell_type": "code",
   "execution_count": null,
   "metadata": {},
   "outputs": [],
   "source": [
    "fourcc = cv2.VideoWriter_fourcc(*'H264')\n",
    "columns = ['frame_index', 'tracking_id', 'xmin', 'ymin', 'xmax', 'ymax', 'confidence', 'image_name']"
   ]
  },
  {
   "cell_type": "code",
   "execution_count": 32,
   "metadata": {},
   "outputs": [],
   "source": [
    "game = 'game1'\n",
    "clip = 'Clip5'"
   ]
  },
  {
   "cell_type": "code",
   "execution_count": null,
   "metadata": {},
   "outputs": [],
   "source": [
    "from IPython.display import Video"
   ]
  },
  {
   "cell_type": "code",
   "execution_count": 33,
   "metadata": {
    "scrolled": false
   },
   "outputs": [
    {
     "name": "stdout",
     "output_type": "stream",
     "text": [
      "Federer\n",
      "Djokovic\n",
      "game1 Clip5\n"
     ]
    }
   ],
   "source": [
    "game_dir = osp.join(input_dir, game)\n",
    "\n",
    "track_pid_paths = glob(osp.join(reid_dir, game, '*.csv'))\n",
    "track_pid_df_list = []\n",
    "\n",
    "for track_pid_path in track_pid_paths:\n",
    "    person_name = osp.splitext(osp.basename(track_pid_path))[0]\n",
    "    print(person_name)\n",
    "    track_pid_df = pd.read_csv(track_pid_path)\n",
    "\n",
    "    track_pid_df = track_pid_df[track_pid_df.person==1]\n",
    "    track_pid_df['person_name'] = person_name\n",
    "\n",
    "    track_pid_df_list.append(track_pid_df)\n",
    "track_pid_df = pd.concat(track_pid_df_list)\n",
    "\n",
    "clip_dir = osp.join(game_dir, clip)\n",
    "file_names = listdirs(clip_dir)\n",
    "image_names = [file_name for file_name in file_names if osp.splitext(file_name)[1]=='.jpg']\n",
    "\n",
    "label_path = osp.join(label_save_dir, game, '{}.csv'.format(clip))\n",
    "label_df = pd.read_csv(label_path)\n",
    "results = label_df[['frame_index', 'xmin', 'ymin', 'width', 'height', 'tracking_id']].values\n",
    "\n",
    "movie_save_path = osp.join(movie_dir, game, '{}.mp4'.format(clip))\n",
    "os.makedirs(osp.dirname(movie_save_path), exist_ok=True)\n",
    "out = cv2.VideoWriter(movie_save_path, fourcc, 30, (1280, 720))\n",
    "\n",
    "print(game, clip)\n",
    "for image_name in image_names:\n",
    "    frame_index = osp.splitext(image_name)[0]\n",
    "    frame_path = osp.join(clip_dir, image_name)\n",
    "\n",
    "    frame = cv2.imread(frame_path)\n",
    "    bboxes = results[results[:, 0]==int(frame_index)][:, [1,2,3,4,5]]\n",
    "\n",
    "    for bbox in bboxes:\n",
    "        ct = [bbox[0] + bbox[2] / 2, bbox[1] + bbox[3] / 2]\n",
    "\n",
    "        df = track_pid_df[track_pid_df.tracking_id==bbox[4]]\n",
    "        df = df[df['clip']==clip]\n",
    "        if len(df) > 0:\n",
    "            c = (0, 0, 255)\n",
    "            person_name = df['person_name'].values[0]\n",
    "            cv2.putText(frame, person_name, (int(ct[0]) + 20, int(ct[1]) + 20), \n",
    "                    cv2.FONT_HERSHEY_SIMPLEX, 0.5, \n",
    "                    (0, 0, 0), thickness=3, lineType=cv2.LINE_AA)\n",
    "            cv2.putText(frame, person_name, (int(ct[0]) + 20, int(ct[1]) + 20), \n",
    "                    cv2.FONT_HERSHEY_SIMPLEX, 0.5, \n",
    "                    c, thickness=2, lineType=cv2.LINE_AA)\n",
    "        else:\n",
    "            c = (0, 255, 0)\n",
    "\n",
    "        cv2.rectangle(frame, (int(bbox[0]), int(bbox[1])), \n",
    "                      (int(bbox[0] + bbox[2]), int(bbox[1] + bbox[3])), \n",
    "                      c, 2, lineType=cv2.LINE_AA)\n",
    "\n",
    "        txt = '{}'.format(bbox[4])\n",
    "\n",
    "        cv2.putText(frame, txt, (int(ct[0]), int(ct[1])), \n",
    "                    cv2.FONT_HERSHEY_SIMPLEX, 0.5, \n",
    "                    (0, 0, 0), thickness=3, lineType=cv2.LINE_AA)\n",
    "        cv2.putText(frame, txt, (int(ct[0]), int(ct[1])), \n",
    "                    cv2.FONT_HERSHEY_SIMPLEX, 0.5, \n",
    "                    c, thickness=2, lineType=cv2.LINE_AA)\n",
    "\n",
    "    cv2.putText(frame, str(frame_index), (50, 50), \n",
    "                cv2.FONT_HERSHEY_SIMPLEX, 1, \n",
    "                (0, 0, 0), thickness=3, lineType=cv2.LINE_AA)\n",
    "    cv2.putText(frame, str(frame_index), (50, 50),\n",
    "                cv2.FONT_HERSHEY_SIMPLEX, 1, \n",
    "                (255, 255, 255), thickness=2, lineType=cv2.LINE_AA)\n",
    "\n",
    "\n",
    "    # cv2.imshow('image',frame)\n",
    "    out.write(frame)\n",
    "    if cv2.waitKey(1) & 0xFF == ord('q'):\n",
    "        break\n",
    "cv2.destroyAllWindows()\n",
    "out.release()"
   ]
  },
  {
   "cell_type": "code",
   "execution_count": 34,
   "metadata": {},
   "outputs": [
    {
     "data": {
      "text/html": [
       "<video src=\"../output/player/movie/game1/Clip5.mp4\" controls  width=\"640\" >\n",
       "      Your browser does not support the <code>video</code> element.\n",
       "    </video>"
      ],
      "text/plain": [
       "<IPython.core.display.Video object>"
      ]
     },
     "execution_count": 34,
     "metadata": {},
     "output_type": "execute_result"
    }
   ],
   "source": [
    "Video(movie_save_path, width=640)"
   ]
  },
  {
   "cell_type": "code",
   "execution_count": null,
   "metadata": {},
   "outputs": [],
   "source": []
  },
  {
   "cell_type": "code",
   "execution_count": null,
   "metadata": {},
   "outputs": [],
   "source": []
  },
  {
   "cell_type": "code",
   "execution_count": null,
   "metadata": {},
   "outputs": [],
   "source": []
  },
  {
   "cell_type": "code",
   "execution_count": null,
   "metadata": {},
   "outputs": [],
   "source": []
  },
  {
   "cell_type": "code",
   "execution_count": null,
   "metadata": {},
   "outputs": [],
   "source": []
  },
  {
   "cell_type": "code",
   "execution_count": null,
   "metadata": {},
   "outputs": [],
   "source": []
  },
  {
   "cell_type": "code",
   "execution_count": null,
   "metadata": {},
   "outputs": [],
   "source": []
  },
  {
   "cell_type": "code",
   "execution_count": null,
   "metadata": {},
   "outputs": [],
   "source": []
  },
  {
   "cell_type": "code",
   "execution_count": null,
   "metadata": {},
   "outputs": [],
   "source": []
  },
  {
   "cell_type": "code",
   "execution_count": null,
   "metadata": {},
   "outputs": [],
   "source": []
  },
  {
   "cell_type": "code",
   "execution_count": null,
   "metadata": {},
   "outputs": [],
   "source": []
  },
  {
   "cell_type": "code",
   "execution_count": null,
   "metadata": {},
   "outputs": [],
   "source": []
  },
  {
   "cell_type": "code",
   "execution_count": null,
   "metadata": {},
   "outputs": [],
   "source": []
  },
  {
   "cell_type": "code",
   "execution_count": null,
   "metadata": {},
   "outputs": [],
   "source": []
  },
  {
   "cell_type": "code",
   "execution_count": null,
   "metadata": {},
   "outputs": [],
   "source": []
  },
  {
   "cell_type": "code",
   "execution_count": null,
   "metadata": {},
   "outputs": [],
   "source": []
  },
  {
   "cell_type": "code",
   "execution_count": null,
   "metadata": {},
   "outputs": [],
   "source": []
  },
  {
   "cell_type": "code",
   "execution_count": null,
   "metadata": {},
   "outputs": [],
   "source": []
  },
  {
   "cell_type": "code",
   "execution_count": null,
   "metadata": {},
   "outputs": [],
   "source": []
  },
  {
   "cell_type": "code",
   "execution_count": null,
   "metadata": {},
   "outputs": [],
   "source": []
  },
  {
   "cell_type": "code",
   "execution_count": null,
   "metadata": {},
   "outputs": [],
   "source": []
  },
  {
   "cell_type": "code",
   "execution_count": null,
   "metadata": {},
   "outputs": [],
   "source": []
  },
  {
   "cell_type": "code",
   "execution_count": null,
   "metadata": {},
   "outputs": [],
   "source": []
  },
  {
   "cell_type": "code",
   "execution_count": null,
   "metadata": {},
   "outputs": [],
   "source": []
  },
  {
   "cell_type": "code",
   "execution_count": null,
   "metadata": {},
   "outputs": [],
   "source": []
  },
  {
   "cell_type": "code",
   "execution_count": null,
   "metadata": {},
   "outputs": [],
   "source": []
  },
  {
   "cell_type": "code",
   "execution_count": null,
   "metadata": {},
   "outputs": [],
   "source": []
  },
  {
   "cell_type": "code",
   "execution_count": null,
   "metadata": {},
   "outputs": [],
   "source": []
  },
  {
   "cell_type": "code",
   "execution_count": null,
   "metadata": {},
   "outputs": [],
   "source": []
  },
  {
   "cell_type": "code",
   "execution_count": null,
   "metadata": {},
   "outputs": [],
   "source": []
  },
  {
   "cell_type": "code",
   "execution_count": null,
   "metadata": {},
   "outputs": [],
   "source": []
  }
 ],
 "metadata": {
  "kernelspec": {
   "display_name": "Python 3",
   "language": "python",
   "name": "python3"
  },
  "language_info": {
   "codemirror_mode": {
    "name": "ipython",
    "version": 3
   },
   "file_extension": ".py",
   "mimetype": "text/x-python",
   "name": "python",
   "nbconvert_exporter": "python",
   "pygments_lexer": "ipython3",
   "version": "3.6.8"
  }
 },
 "nbformat": 4,
 "nbformat_minor": 4
}
