{
 "cells": [
  {
   "cell_type": "markdown",
   "metadata": {},
   "source": [
    "# import"
   ]
  },
  {
   "cell_type": "code",
   "execution_count": 32,
   "metadata": {},
   "outputs": [],
   "source": [
    "import sys\n",
    "import os\n",
    "import os.path as osp\n",
    "import torch\n",
    "import cv2\n",
    "from tqdm import tqdm\n",
    "import matplotlib.pyplot as plt\n",
    "import pandas as pd\n",
    "import pickle\n",
    "import numpy as np"
   ]
  },
  {
   "cell_type": "markdown",
   "metadata": {},
   "source": [
    "# constant"
   ]
  },
  {
   "cell_type": "markdown",
   "metadata": {},
   "source": [
    "# path"
   ]
  },
  {
   "cell_type": "code",
   "execution_count": 76,
   "metadata": {},
   "outputs": [],
   "source": [
    "data_name = 'player'\n",
    "data_dir = osp.join('../output', data_name, 'tracking')\n",
    "save_dir = osp.join('../output', data_name, 'reid')\n",
    "track_label_path = osp.join('../output/')"
   ]
  },
  {
   "cell_type": "code",
   "execution_count": 11,
   "metadata": {},
   "outputs": [],
   "source": [
    "track_label_path = '../output/player/person_label.csv'"
   ]
  },
  {
   "cell_type": "markdown",
   "metadata": {},
   "source": [
    "# function"
   ]
  },
  {
   "cell_type": "code",
   "execution_count": 12,
   "metadata": {},
   "outputs": [],
   "source": [
    "def listdirs(dir_path, name_condition=None):\n",
    "    dir_names = os.listdir(dir_path)\n",
    "    if name_condition is not None:\n",
    "        dir_names = [dir_name for dir_name in dir_names if dir_name.startswith(name_condition)]\n",
    "    dir_names.sort()\n",
    "    return dir_names"
   ]
  },
  {
   "cell_type": "code",
   "execution_count": 13,
   "metadata": {},
   "outputs": [],
   "source": [
    "def save_pickle(data, path):\n",
    "    with open(path, 'wb') as f:\n",
    "        pickle.dump(data, f)\n",
    "\n",
    "\n",
    "def load_pickle(path):\n",
    "    with open(path, 'rb') as f:\n",
    "        data = pickle.load(f)\n",
    "    return data"
   ]
  },
  {
   "cell_type": "markdown",
   "metadata": {},
   "source": [
    "# data"
   ]
  },
  {
   "cell_type": "code",
   "execution_count": 18,
   "metadata": {},
   "outputs": [],
   "source": [
    "track_label_df = pd.read_csv(track_label_path)"
   ]
  },
  {
   "cell_type": "markdown",
   "metadata": {},
   "source": [
    "# main"
   ]
  },
  {
   "cell_type": "code",
   "execution_count": 19,
   "metadata": {},
   "outputs": [],
   "source": [
    "person_class_id = 1"
   ]
  },
  {
   "cell_type": "code",
   "execution_count": null,
   "metadata": {},
   "outputs": [],
   "source": [
    "sim_th = 0.5"
   ]
  },
  {
   "cell_type": "code",
   "execution_count": 83,
   "metadata": {},
   "outputs": [
    {
     "name": "stderr",
     "output_type": "stream",
     "text": [
      "100%|██████████| 13/13 [00:00<00:00, 267.63it/s]\n",
      "100%|██████████| 13/13 [00:00<00:00, 266.71it/s]\n",
      "100%|██████████| 8/8 [00:00<00:00, 416.68it/s]\n",
      "100%|██████████| 8/8 [00:00<00:00, 416.83it/s]\n",
      "  0%|          | 0/9 [00:00<?, ?it/s]"
     ]
    },
    {
     "name": "stdout",
     "output_type": "stream",
     "text": [
      "game1\n",
      "game1\n",
      "game2\n",
      "game2\n",
      "game3\n"
     ]
    },
    {
     "name": "stderr",
     "output_type": "stream",
     "text": [
      "100%|██████████| 9/9 [00:00<00:00, 128.83it/s]\n",
      "100%|██████████| 9/9 [00:00<00:00, 129.25it/s]\n",
      "100%|██████████| 7/7 [00:00<00:00, 178.28it/s]\n",
      "100%|██████████| 7/7 [00:00<00:00, 180.22it/s]\n",
      "  0%|          | 0/15 [00:00<?, ?it/s]"
     ]
    },
    {
     "name": "stdout",
     "output_type": "stream",
     "text": [
      "game3\n",
      "game4\n",
      "game4\n",
      "game5\n"
     ]
    },
    {
     "name": "stderr",
     "output_type": "stream",
     "text": [
      "100%|██████████| 15/15 [00:00<00:00, 417.52it/s]\n",
      "100%|██████████| 15/15 [00:00<00:00, 421.06it/s]\n",
      "100%|██████████| 4/4 [00:00<00:00, 69.72it/s]\n",
      "100%|██████████| 4/4 [00:00<00:00, 69.88it/s]\n",
      "  0%|          | 0/8 [00:00<?, ?it/s]"
     ]
    },
    {
     "name": "stdout",
     "output_type": "stream",
     "text": [
      "game5\n",
      "game6\n",
      "game6\n",
      "game7\n"
     ]
    },
    {
     "name": "stderr",
     "output_type": "stream",
     "text": [
      "100%|██████████| 8/8 [00:00<00:00, 283.16it/s]\n",
      "100%|██████████| 8/8 [00:00<00:00, 286.24it/s]\n",
      "100%|██████████| 9/9 [00:00<00:00, 114.03it/s]\n",
      "  0%|          | 0/9 [00:00<?, ?it/s]"
     ]
    },
    {
     "name": "stdout",
     "output_type": "stream",
     "text": [
      "game7\n",
      "game8\n",
      "game8\n"
     ]
    },
    {
     "name": "stderr",
     "output_type": "stream",
     "text": [
      "100%|██████████| 9/9 [00:00<00:00, 114.60it/s]\n",
      "100%|██████████| 9/9 [00:00<00:00, 212.44it/s]\n",
      "100%|██████████| 9/9 [00:00<00:00, 221.52it/s]\n",
      "100%|██████████| 12/12 [00:00<00:00, 435.41it/s]\n",
      "100%|██████████| 12/12 [00:00<00:00, 476.05it/s]"
     ]
    },
    {
     "name": "stdout",
     "output_type": "stream",
     "text": [
      "game9\n",
      "game9\n",
      "game10\n",
      "game10\n"
     ]
    },
    {
     "name": "stderr",
     "output_type": "stream",
     "text": [
      "\n"
     ]
    }
   ],
   "source": [
    "games = listdirs(data_dir, 'game')\n",
    "for idx, item in track_label_df.iterrows():\n",
    "    _, tgt_game, tgt_clip, tgt_tracking_id, tgt_name, tgt_loc = item\n",
    "    game = 'game{}'.format(tgt_game)\n",
    "    clip = 'Clip{}'.format(tgt_clip)\n",
    "    tgt_mean_feature_path = osp.join(data_dir, game, clip, '{:05}'.format(tgt_tracking_id), 'mean_feature', 'mean_feature.pkl')\n",
    "    tgt_mean_f = load_pickle(tgt_mean_feature_path)\n",
    "    \n",
    "    print(game)\n",
    "    game_dir = osp.join(data_dir, game)\n",
    "    clips = listdirs(game_dir, 'Clip')\n",
    "\n",
    "    dst_mean_fs = []\n",
    "    dst_mean_idx = 1\n",
    "    infos = []\n",
    "    for clip in tqdm(clips):\n",
    "        clip_dir = osp.join(game_dir, clip)\n",
    "        tracking_ids = listdirs(clip_dir)\n",
    "        for tracking_id in tracking_ids:\n",
    "            tracking_dir = osp.join(clip_dir, tracking_id)\n",
    "            mean_feature_path = osp.join(tracking_dir, 'mean_feature', 'mean_feature.pkl')\n",
    "            if not osp.exists(mean_feature_path):\n",
    "                print('no mean_feature')\n",
    "                continue\n",
    "\n",
    "            dst_mean_f = load_pickle(mean_feature_path)\n",
    "            sim = np.dot(tgt_mean_f, dst_mean_f)\n",
    "            info = [game, clip, sim, tracking_id]\n",
    "            infos.append(info)\n",
    "\n",
    "    info_df = pd.DataFrame(infos, columns=['game', 'clip', 'similarity', 'tracking_id'])\n",
    "    info_df = info_df.sort_values(['game', 'clip', 'similarity'], ascending=False)\n",
    "    info_save_path = osp.join(save_dir, game, '{}.csv'.format(tgt_name))\n",
    "    os.makedirs(osp.dirname(info_save_path), exist_ok=True)\n",
    "    info_df.to_csv(info_save_path, index=False)"
   ]
  },
  {
   "cell_type": "code",
   "execution_count": null,
   "metadata": {},
   "outputs": [],
   "source": []
  },
  {
   "cell_type": "code",
   "execution_count": null,
   "metadata": {},
   "outputs": [],
   "source": []
  },
  {
   "cell_type": "code",
   "execution_count": null,
   "metadata": {},
   "outputs": [],
   "source": []
  }
 ],
 "metadata": {
  "kernelspec": {
   "display_name": "Python 3",
   "language": "python",
   "name": "python3"
  },
  "language_info": {
   "codemirror_mode": {
    "name": "ipython",
    "version": 3
   },
   "file_extension": ".py",
   "mimetype": "text/x-python",
   "name": "python",
   "nbconvert_exporter": "python",
   "pygments_lexer": "ipython3",
   "version": "3.6.8"
  }
 },
 "nbformat": 4,
 "nbformat_minor": 4
}
