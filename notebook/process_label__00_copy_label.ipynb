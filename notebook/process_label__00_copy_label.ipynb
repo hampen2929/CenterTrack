{
 "cells": [
  {
   "cell_type": "code",
   "execution_count": 1,
   "metadata": {},
   "outputs": [],
   "source": [
    "import os\n",
    "import os.path as osp\n",
    "import shutil\n",
    "from util import load_json, save_json\n",
    "from copy import copy\n",
    "from tqdm import tqdm"
   ]
  },
  {
   "cell_type": "code",
   "execution_count": 2,
   "metadata": {},
   "outputs": [],
   "source": [
    "data_name = 'court'\n",
    "data_dir = osp.join('../input', data_name)\n",
    "save_dir = osp.join('../output', data_name, 'copy_label')"
   ]
  },
  {
   "cell_type": "code",
   "execution_count": 3,
   "metadata": {},
   "outputs": [],
   "source": [
    "def listdirs(dir_path, name_condition=None):\n",
    "    dir_names = os.listdir(dir_path)\n",
    "    if name_condition is not None:\n",
    "        dir_names = [dir_name for dir_name in dir_names if dir_name.startswith(name_condition)]\n",
    "    dir_names.sort()\n",
    "    return dir_names"
   ]
  },
  {
   "cell_type": "code",
   "execution_count": 4,
   "metadata": {},
   "outputs": [],
   "source": [
    "all_labels = ['0', '1', '2', '3', '4', '5','6','7','8']\n",
    "target_labels = ['5','6','7','8']"
   ]
  },
  {
   "cell_type": "code",
   "execution_count": 8,
   "metadata": {},
   "outputs": [
    {
     "name": "stdout",
     "output_type": "stream",
     "text": [
      "game7 - Clip7\n",
      "no label\n"
     ]
    }
   ],
   "source": [
    "games = listdirs(data_dir, 'game')\n",
    "for game in tqdm(games):\n",
    "    game_dir = osp.join(data_dir, game)\n",
    "    clips = listdirs(game_dir, 'Clip')    \n",
    "    for clip in clips:\n",
    "        # print(game, '-', clip)\n",
    "        clip_dir = osp.join(game_dir, clip)\n",
    "        file_names = listdirs(clip_dir)\n",
    "        label_names = [label for label in file_names if osp.splitext(label)[1]=='.json']\n",
    "        image_names = [image for image in file_names if osp.splitext(image)[1]=='.jpg']\n",
    "        \n",
    "        if len(label_names) == 0:\n",
    "            print(game, '-', clip)\n",
    "            print('no label')\n",
    "            continue\n",
    "        elif len(label_names) > 0:\n",
    "            # print('{} labels'.format(len(label_names)))\n",
    "            label_name = label_names[0]\n",
    "\n",
    "            new_label_path = osp.join(data_dir, game, clip, label_name)\n",
    "            label_org = load_json(new_label_path)\n",
    "                    \n",
    "        include_labels = []\n",
    "        for shape in label_org['shapes']:\n",
    "#             if shape['label'] not in all_labels:\n",
    "#                 print(game, '-', clip)\n",
    "#                 print(shape['label'])\n",
    "            include_labels.append(shape['label'])\n",
    "        num = len(set(target_labels) & set(include_labels))\n",
    "        \n",
    "        if num < 4:\n",
    "            print(game, '-', clip)\n",
    "            print('no edges')\n",
    "            print()\n",
    "            \n",
    "        # save_json(label, label_save_path)\n",
    "        for image_name in image_names:\n",
    "            label = copy(label_org)\n",
    "            label['imageData'] = None\n",
    "            label['imagePath'] = image_name\n",
    "            file_name = osp.splitext(image_name)[0]\n",
    "            label_save_name = '{}.json'.format(file_name)\n",
    "            label_save_path = osp.join(save_dir, game, clip, label_save_name)\n",
    "            os.makedirs(osp.dirname(label_save_path), exist_ok=True)\n",
    "            save_json(label, label_save_path)\n",
    "            \n",
    "            image_path = osp.join(data_dir, game, clip, image_name)\n",
    "            image_save_path = osp.join(save_dir, game, clip, image_name)\n",
    "            shutil.copy(image_path, image_save_path)\n"
   ]
  },
  {
   "cell_type": "code",
   "execution_count": null,
   "metadata": {},
   "outputs": [],
   "source": []
  },
  {
   "cell_type": "code",
   "execution_count": null,
   "metadata": {},
   "outputs": [],
   "source": []
  },
  {
   "cell_type": "code",
   "execution_count": null,
   "metadata": {},
   "outputs": [],
   "source": []
  },
  {
   "cell_type": "code",
   "execution_count": null,
   "metadata": {},
   "outputs": [],
   "source": []
  },
  {
   "cell_type": "code",
   "execution_count": 6,
   "metadata": {},
   "outputs": [
    {
     "data": {
      "text/plain": [
       "'court/game1/Clip1/0000.jpg'"
      ]
     },
     "execution_count": 6,
     "metadata": {},
     "output_type": "execute_result"
    }
   ],
   "source": [
    "image_path"
   ]
  },
  {
   "cell_type": "code",
   "execution_count": null,
   "metadata": {},
   "outputs": [],
   "source": []
  },
  {
   "cell_type": "code",
   "execution_count": null,
   "metadata": {},
   "outputs": [],
   "source": []
  },
  {
   "cell_type": "code",
   "execution_count": null,
   "metadata": {},
   "outputs": [],
   "source": []
  },
  {
   "cell_type": "code",
   "execution_count": null,
   "metadata": {},
   "outputs": [],
   "source": []
  },
  {
   "cell_type": "code",
   "execution_count": 24,
   "metadata": {},
   "outputs": [
    {
     "data": {
      "text/plain": [
       "'0222.jpg'"
      ]
     },
     "execution_count": 24,
     "metadata": {},
     "output_type": "execute_result"
    }
   ],
   "source": [
    "image_name"
   ]
  },
  {
   "cell_type": "code",
   "execution_count": 22,
   "metadata": {},
   "outputs": [
    {
     "data": {
      "text/plain": [
       "'../output/court/copy_label/game1/Clip9/0114.json'"
      ]
     },
     "execution_count": 22,
     "metadata": {},
     "output_type": "execute_result"
    }
   ],
   "source": [
    "label_save_path"
   ]
  },
  {
   "cell_type": "code",
   "execution_count": null,
   "metadata": {},
   "outputs": [],
   "source": []
  },
  {
   "cell_type": "code",
   "execution_count": null,
   "metadata": {},
   "outputs": [],
   "source": []
  },
  {
   "cell_type": "code",
   "execution_count": null,
   "metadata": {},
   "outputs": [],
   "source": []
  },
  {
   "cell_type": "code",
   "execution_count": null,
   "metadata": {},
   "outputs": [],
   "source": []
  },
  {
   "cell_type": "code",
   "execution_count": null,
   "metadata": {},
   "outputs": [],
   "source": []
  },
  {
   "cell_type": "code",
   "execution_count": 22,
   "metadata": {},
   "outputs": [],
   "source": [
    "target_labels = ['5','6','7','8']"
   ]
  },
  {
   "cell_type": "code",
   "execution_count": 23,
   "metadata": {},
   "outputs": [
    {
     "name": "stdout",
     "output_type": "stream",
     "text": [
      "0\n"
     ]
    }
   ],
   "source": [
    "labels = []\n",
    "for shape in label['shapes']:\n",
    "    labels.append(shape['label'])\n",
    "num = len(set(target_labels) & set(labels))\n",
    "if num < 4:\n",
    "    print()"
   ]
  },
  {
   "cell_type": "code",
   "execution_count": 24,
   "metadata": {},
   "outputs": [
    {
     "data": {
      "text/plain": [
       "['5', '6', '7', '8']"
      ]
     },
     "execution_count": 24,
     "metadata": {},
     "output_type": "execute_result"
    }
   ],
   "source": [
    "target_labels"
   ]
  },
  {
   "cell_type": "code",
   "execution_count": 21,
   "metadata": {},
   "outputs": [
    {
     "data": {
      "text/plain": [
       "['0', '1', '2', '3', '4']"
      ]
     },
     "execution_count": 21,
     "metadata": {},
     "output_type": "execute_result"
    }
   ],
   "source": [
    "labels"
   ]
  },
  {
   "cell_type": "code",
   "execution_count": 18,
   "metadata": {},
   "outputs": [
    {
     "data": {
      "text/plain": [
       "0"
      ]
     },
     "execution_count": 18,
     "metadata": {},
     "output_type": "execute_result"
    }
   ],
   "source": [
    "num"
   ]
  },
  {
   "cell_type": "code",
   "execution_count": null,
   "metadata": {},
   "outputs": [],
   "source": []
  },
  {
   "cell_type": "code",
   "execution_count": null,
   "metadata": {},
   "outputs": [],
   "source": []
  },
  {
   "cell_type": "code",
   "execution_count": 29,
   "metadata": {},
   "outputs": [
    {
     "data": {
      "text/plain": [
       "{'version': '3.21.1',\n",
       " 'flags': {},\n",
       " 'shapes': [{'label': '0',\n",
       "   'line_color': None,\n",
       "   'fill_color': None,\n",
       "   'points': [[643.0, 297.5]],\n",
       "   'shape_type': 'polygon',\n",
       "   'flags': {}},\n",
       "  {'label': '1',\n",
       "   'line_color': None,\n",
       "   'fill_color': None,\n",
       "   'points': [[803.0, 163.33333333333337]],\n",
       "   'shape_type': 'polygon',\n",
       "   'flags': {}},\n",
       "  {'label': '2',\n",
       "   'line_color': None,\n",
       "   'fill_color': None,\n",
       "   'points': [[484.6666666666667, 164.16666666666669]],\n",
       "   'shape_type': 'polygon',\n",
       "   'flags': {}},\n",
       "  {'label': '3',\n",
       "   'line_color': None,\n",
       "   'fill_color': None,\n",
       "   'points': [[328.0, 570.0]],\n",
       "   'shape_type': 'polygon',\n",
       "   'flags': {}},\n",
       "  {'label': '4',\n",
       "   'line_color': None,\n",
       "   'fill_color': None,\n",
       "   'points': [[960.5, 569.1666666666667]],\n",
       "   'shape_type': 'polygon',\n",
       "   'flags': {}}],\n",
       " 'lineColor': [0, 255, 0, 128],\n",
       " 'fillColor': [255, 0, 0, 128],\n",
       " 'imagePath': '0000.jpg',\n",
       " 'imageData': None,\n",
       " 'imageHeight': 720,\n",
       " 'imageWidth': 1280}"
      ]
     },
     "execution_count": 29,
     "metadata": {},
     "output_type": "execute_result"
    }
   ],
   "source": [
    "label"
   ]
  },
  {
   "cell_type": "code",
   "execution_count": 30,
   "metadata": {},
   "outputs": [
    {
     "data": {
      "text/plain": [
       "'0000.jpg'"
      ]
     },
     "execution_count": 30,
     "metadata": {},
     "output_type": "execute_result"
    }
   ],
   "source": [
    "image_name"
   ]
  },
  {
   "cell_type": "code",
   "execution_count": null,
   "metadata": {},
   "outputs": [],
   "source": []
  },
  {
   "cell_type": "code",
   "execution_count": 28,
   "metadata": {},
   "outputs": [
    {
     "data": {
      "text/plain": [
       "'0000.jpg'"
      ]
     },
     "execution_count": 28,
     "metadata": {},
     "output_type": "execute_result"
    }
   ],
   "source": [
    "label['imagePath']"
   ]
  },
  {
   "cell_type": "code",
   "execution_count": null,
   "metadata": {},
   "outputs": [],
   "source": []
  },
  {
   "cell_type": "code",
   "execution_count": null,
   "metadata": {},
   "outputs": [],
   "source": []
  },
  {
   "cell_type": "code",
   "execution_count": 23,
   "metadata": {},
   "outputs": [
    {
     "ename": "NameError",
     "evalue": "name 'image_name' is not defined",
     "output_type": "error",
     "traceback": [
      "\u001b[0;31m---------------------------------------------------------------------------\u001b[0m",
      "\u001b[0;31mNameError\u001b[0m                                 Traceback (most recent call last)",
      "\u001b[0;32m<ipython-input-23-e93e7f15fbc7>\u001b[0m in \u001b[0;36m<module>\u001b[0;34m\u001b[0m\n\u001b[0;32m----> 1\u001b[0;31m \u001b[0mimage_name\u001b[0m\u001b[0;34m\u001b[0m\u001b[0;34m\u001b[0m\u001b[0m\n\u001b[0m",
      "\u001b[0;31mNameError\u001b[0m: name 'image_name' is not defined"
     ]
    }
   ],
   "source": [
    "image_name"
   ]
  },
  {
   "cell_type": "code",
   "execution_count": 22,
   "metadata": {},
   "outputs": [
    {
     "data": {
      "text/plain": [
       "'0000.jpg'"
      ]
     },
     "execution_count": 22,
     "metadata": {},
     "output_type": "execute_result"
    }
   ],
   "source": [
    "label['imagePath']"
   ]
  },
  {
   "cell_type": "code",
   "execution_count": 19,
   "metadata": {},
   "outputs": [
    {
     "data": {
      "text/plain": [
       "{'version': '3.21.1',\n",
       " 'flags': {},\n",
       " 'shapes': [{'label': '0',\n",
       "   'line_color': None,\n",
       "   'fill_color': None,\n",
       "   'points': [[643.0, 297.5]],\n",
       "   'shape_type': 'polygon',\n",
       "   'flags': {}},\n",
       "  {'label': '1',\n",
       "   'line_color': None,\n",
       "   'fill_color': None,\n",
       "   'points': [[803.0, 163.33333333333337]],\n",
       "   'shape_type': 'polygon',\n",
       "   'flags': {}},\n",
       "  {'label': '2',\n",
       "   'line_color': None,\n",
       "   'fill_color': None,\n",
       "   'points': [[484.6666666666667, 164.16666666666669]],\n",
       "   'shape_type': 'polygon',\n",
       "   'flags': {}},\n",
       "  {'label': '3',\n",
       "   'line_color': None,\n",
       "   'fill_color': None,\n",
       "   'points': [[328.0, 570.0]],\n",
       "   'shape_type': 'polygon',\n",
       "   'flags': {}},\n",
       "  {'label': '4',\n",
       "   'line_color': None,\n",
       "   'fill_color': None,\n",
       "   'points': [[960.5, 569.1666666666667]],\n",
       "   'shape_type': 'polygon',\n",
       "   'flags': {}}],\n",
       " 'lineColor': [0, 255, 0, 128],\n",
       " 'fillColor': [255, 0, 0, 128],\n",
       " 'imagePath': '0000.jpg',\n",
       " 'imageData': None,\n",
       " 'imageHeight': 720,\n",
       " 'imageWidth': 1280}"
      ]
     },
     "execution_count": 19,
     "metadata": {},
     "output_type": "execute_result"
    }
   ],
   "source": [
    "label"
   ]
  },
  {
   "cell_type": "code",
   "execution_count": null,
   "metadata": {},
   "outputs": [],
   "source": []
  },
  {
   "cell_type": "code",
   "execution_count": null,
   "metadata": {},
   "outputs": [],
   "source": []
  },
  {
   "cell_type": "code",
   "execution_count": null,
   "metadata": {},
   "outputs": [],
   "source": []
  },
  {
   "cell_type": "code",
   "execution_count": null,
   "metadata": {},
   "outputs": [],
   "source": []
  },
  {
   "cell_type": "code",
   "execution_count": null,
   "metadata": {},
   "outputs": [],
   "source": []
  },
  {
   "cell_type": "code",
   "execution_count": null,
   "metadata": {},
   "outputs": [],
   "source": []
  },
  {
   "cell_type": "code",
   "execution_count": 11,
   "metadata": {},
   "outputs": [
    {
     "data": {
      "text/plain": [
       "['0000.json']"
      ]
     },
     "execution_count": 11,
     "metadata": {},
     "output_type": "execute_result"
    }
   ],
   "source": [
    "labels"
   ]
  },
  {
   "cell_type": "code",
   "execution_count": null,
   "metadata": {},
   "outputs": [],
   "source": []
  },
  {
   "cell_type": "code",
   "execution_count": null,
   "metadata": {},
   "outputs": [],
   "source": []
  }
 ],
 "metadata": {
  "kernelspec": {
   "display_name": "Python 3",
   "language": "python",
   "name": "python3"
  },
  "language_info": {
   "codemirror_mode": {
    "name": "ipython",
    "version": 3
   },
   "file_extension": ".py",
   "mimetype": "text/x-python",
   "name": "python",
   "nbconvert_exporter": "python",
   "pygments_lexer": "ipython3",
   "version": "3.6.8"
  }
 },
 "nbformat": 4,
 "nbformat_minor": 4
}
