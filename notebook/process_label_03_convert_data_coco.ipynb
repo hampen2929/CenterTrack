{
 "cells": [
  {
   "cell_type": "markdown",
   "metadata": {},
   "source": [
    "# import "
   ]
  },
  {
   "cell_type": "code",
   "execution_count": 1,
   "metadata": {},
   "outputs": [],
   "source": [
    "import os\n",
    "import json\n",
    "from glob import glob\n",
    "from tqdm import tqdm\n",
    "from util import (load_json, \n",
    "                  save_json, \n",
    "                  get_json_file_paths,\n",
    "                  get_info,\n",
    "                  get_licenses,\n",
    "                  get_images,\n",
    "                  get_annotations,\n",
    "                  get_categories\n",
    "                 )"
   ]
  },
  {
   "cell_type": "markdown",
   "metadata": {},
   "source": [
    "# constant"
   ]
  },
  {
   "cell_type": "code",
   "execution_count": 2,
   "metadata": {},
   "outputs": [],
   "source": [
    "base_dir = '/workspace/CenterTrack'\n",
    "# data_name = 'ball'\n",
    "data_name = 'tennis'\n",
    "target_labels = [1,2,3]"
   ]
  },
  {
   "cell_type": "markdown",
   "metadata": {},
   "source": [
    "# path"
   ]
  },
  {
   "cell_type": "code",
   "execution_count": 19,
   "metadata": {},
   "outputs": [],
   "source": [
    "# base_data_dir = os.path.join(base_dir, 'output', data_name, 'split')\n",
    "base_data_dir = os.path.join(base_dir, 'output', data_name, 'split')\n",
    "# base_data_dir = os.path.join(base_dir, 'output', data_name, 'split_subset')\n",
    "\n",
    "train_data_dir = os.path.join(base_data_dir, 'train2017')\n",
    "train_save_path = os.path.join(base_data_dir, 'annotations/instances_train2017.json')\n",
    "val_data_dir = os.path.join(base_data_dir, 'val2017')\n",
    "val_save_path = os.path.join(base_data_dir, 'annotations/instances_val2017.json')\n",
    "test_data_dir = os.path.join(base_data_dir, 'test2017')\n",
    "test_save_path = os.path.join(base_data_dir, 'annotations/instances_test2017.json')"
   ]
  },
  {
   "cell_type": "code",
   "execution_count": 17,
   "metadata": {},
   "outputs": [],
   "source": [
    "def merge_labels(data_dir, save_path):\n",
    "    label_file_paths = get_json_file_paths(data_dir)\n",
    "    info = get_info()\n",
    "    licenses = get_licenses()\n",
    "    categories = get_categories()\n",
    "\n",
    "    images_list = []\n",
    "    annotations_list = []\n",
    "    annotation_id = 1\n",
    "    for image_id, label_file_path in tqdm(enumerate(label_file_paths, 1), total=len(label_file_paths)):\n",
    "        label_file = load_json(label_file_path)\n",
    "\n",
    "        images = get_images(label_file, image_id)\n",
    "        images_list.append(images)\n",
    "\n",
    "        shapes = label_file['shapes']\n",
    "        for shape in shapes:\n",
    "            annotations = get_annotations(shape, image_id, annotation_id)\n",
    "            if annotations['category_id'] in target_labels:\n",
    "                annotations_list.append(annotations)\n",
    "                annotation_id += 1\n",
    "            else:\n",
    "                # print('{} is not a target'.format(annotations['category_id']))\n",
    "                continue\n",
    "        \n",
    "    label = {\n",
    "        'info':info, \n",
    "        'licenses':licenses, \n",
    "        'images':images_list, \n",
    "        'annotations':annotations_list, \n",
    "        'categories':categories\n",
    "    }\n",
    "    os.makedirs(os.path.dirname(save_path), exist_ok=True)\n",
    "    save_json(label, save_path)\n",
    "        "
   ]
  },
  {
   "cell_type": "code",
   "execution_count": 18,
   "metadata": {},
   "outputs": [
    {
     "name": "stderr",
     "output_type": "stream",
     "text": [
      "100%|██████████| 1367/1367 [00:00<00:00, 9338.44it/s]\n",
      "100%|██████████| 1092/1092 [00:00<00:00, 11007.75it/s]\n",
      "100%|██████████| 316/316 [00:00<00:00, 10557.93it/s]\n"
     ]
    }
   ],
   "source": [
    "merge_labels(train_data_dir, train_save_path)\n",
    "merge_labels(val_data_dir, val_save_path)\n",
    "merge_labels(test_data_dir, test_save_path)"
   ]
  },
  {
   "cell_type": "code",
   "execution_count": null,
   "metadata": {},
   "outputs": [],
   "source": []
  },
  {
   "cell_type": "code",
   "execution_count": null,
   "metadata": {},
   "outputs": [],
   "source": []
  },
  {
   "cell_type": "code",
   "execution_count": 13,
   "metadata": {},
   "outputs": [],
   "source": [
    "annotation_file = '../output/tennis/split/annotations/instances_val2017.json'\n",
    "# annotation_file = '../output/ball/split/annotations/instances_val2017.json'"
   ]
  },
  {
   "cell_type": "code",
   "execution_count": 14,
   "metadata": {},
   "outputs": [],
   "source": [
    "dataset = json.load(open(annotation_file, 'r'))"
   ]
  },
  {
   "cell_type": "code",
   "execution_count": 15,
   "metadata": {},
   "outputs": [
    {
     "data": {
      "text/plain": [
       "[{'id': 1, 'name': 'person', 'supercategory': 'person'},\n",
       " {'id': 2, 'name': 'ball', 'supercategory': 'ball'},\n",
       " {'id': 3, 'name': 'court_edge', 'supercategory': 'court'}]"
      ]
     },
     "execution_count": 15,
     "metadata": {},
     "output_type": "execute_result"
    }
   ],
   "source": [
    "dataset['categories']"
   ]
  },
  {
   "cell_type": "code",
   "execution_count": null,
   "metadata": {},
   "outputs": [],
   "source": []
  },
  {
   "cell_type": "code",
   "execution_count": null,
   "metadata": {},
   "outputs": [],
   "source": []
  },
  {
   "cell_type": "code",
   "execution_count": null,
   "metadata": {},
   "outputs": [],
   "source": []
  },
  {
   "cell_type": "code",
   "execution_count": 39,
   "metadata": {},
   "outputs": [],
   "source": [
    "def merge_labels(data_dir, save_path):\n",
    "    label_file_paths = get_json_file_paths(data_dir)\n",
    "    info = get_info()\n",
    "    licenses = get_licenses()\n",
    "    categories = get_categories()\n",
    "\n",
    "    images_list = []\n",
    "    annotations_list = []\n",
    "    annotation_id = 1\n",
    "    for image_id, label_file_path in tqdm(enumerate(label_file_paths, 1), total=len(label_file_paths)):\n",
    "        label_file = load_json(label_file_path)\n",
    "\n",
    "        images = get_images(label_file, image_id)\n",
    "        images_list.append(images)\n",
    "\n",
    "        shapes = label_file['shapes']\n",
    "        for shape in shapes:\n",
    "            label_name = shape['label']\n",
    "            \n",
    "            if label_name in target_labels:\n",
    "                annotations = get_annotations(shape, image_id, annotation_id)\n",
    "                if not isinstance(annotations['category_id'], int):\n",
    "                    print('aaaa')\n",
    "                \n",
    "#                 import pdb;pdb.set_trace()\n",
    "                \n",
    "                annotations_list.append(annotations)\n",
    "                annotation_id += 1\n",
    "            else:\n",
    "                # print('{} is not a target'.format(label_name))\n",
    "                continue\n",
    "        \n",
    "    label = {\n",
    "        'info':info, \n",
    "        'licenses':licenses, \n",
    "        'images':images_list, \n",
    "        'annotations':annotations_list, \n",
    "        'categories':categories\n",
    "    }\n",
    "    os.makedirs(os.path.dirname(save_path), exist_ok=True)\n",
    "    save_json(label, save_path)\n",
    "        "
   ]
  },
  {
   "cell_type": "code",
   "execution_count": 40,
   "metadata": {},
   "outputs": [
    {
     "name": "stderr",
     "output_type": "stream",
     "text": [
      "\n",
      "  0%|          | 0/1367 [00:00<?, ?it/s]\u001b[A\n",
      "100%|██████████| 1367/1367 [00:00<00:00, 11547.23it/s]\u001b[A\n",
      "\n",
      "100%|██████████| 1092/1092 [00:00<00:00, 13606.79it/s]\n",
      "\n",
      "100%|██████████| 316/316 [00:00<00:00, 13416.88it/s]\n"
     ]
    }
   ],
   "source": [
    "merge_labels(train_data_dir, train_save_path)\n",
    "merge_labels(val_data_dir, val_save_path)\n",
    "merge_labels(test_data_dir, test_save_path)"
   ]
  },
  {
   "cell_type": "code",
   "execution_count": null,
   "metadata": {},
   "outputs": [],
   "source": []
  },
  {
   "cell_type": "code",
   "execution_count": null,
   "metadata": {},
   "outputs": [],
   "source": []
  },
  {
   "cell_type": "code",
   "execution_count": null,
   "metadata": {},
   "outputs": [],
   "source": []
  },
  {
   "cell_type": "markdown",
   "metadata": {},
   "source": [
    "def merge_labels(data_dir, save_path):\n",
    "    label_file_paths = get_json_file_paths(data_dir)\n",
    "    info = get_info()\n",
    "    licenses = get_licenses()\n",
    "    categories = get_categories()\n",
    "\n",
    "    images_list = []\n",
    "    annotations_list = []\n",
    "    annotation_id = 1\n",
    "    for image_id, label_file_path in enumerate(label_file_paths, 1):\n",
    "        label_file = load_json(label_file_path)\n",
    "\n",
    "        images = get_images(label_file, image_id)\n",
    "        images_list.append(images)\n",
    "\n",
    "        shapes = label_file['shapes']\n",
    "        for shape in shapes:\n",
    "            annotations = get_annotations(shape, image_id, annotation_id)\n",
    "            if annotations['category_id'] in target_labels:            \n",
    "                annotations_list.append(annotations)\n",
    "                annotation_id += 1\n",
    "            else:\n",
    "                print('{} is not a target'.format(annotations['category_id']))\n",
    "                continue\n",
    "        print(image_id)\n",
    "        \n",
    "    label = {\n",
    "        'info':info, \n",
    "        'licenses':licenses, \n",
    "        'images':images_list, \n",
    "        'annotations':annotations_list, \n",
    "        'categories':categories\n",
    "    }\n",
    "    os.makedirs(os.path.dirname(save_path), exist_ok=True)\n",
    "    save_json(label, save_path)\n"
   ]
  },
  {
   "cell_type": "code",
   "execution_count": null,
   "metadata": {},
   "outputs": [],
   "source": []
  },
  {
   "cell_type": "code",
   "execution_count": null,
   "metadata": {},
   "outputs": [],
   "source": []
  },
  {
   "cell_type": "code",
   "execution_count": null,
   "metadata": {},
   "outputs": [],
   "source": []
  }
 ],
 "metadata": {
  "kernelspec": {
   "display_name": "Python 3",
   "language": "python",
   "name": "python3"
  },
  "language_info": {
   "codemirror_mode": {
    "name": "ipython",
    "version": 3
   },
   "file_extension": ".py",
   "mimetype": "text/x-python",
   "name": "python",
   "nbconvert_exporter": "python",
   "pygments_lexer": "ipython3",
   "version": "3.6.8"
  }
 },
 "nbformat": 4,
 "nbformat_minor": 4
}
