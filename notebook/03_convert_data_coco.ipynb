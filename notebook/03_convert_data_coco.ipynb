{
 "cells": [
  {
   "cell_type": "markdown",
   "metadata": {},
   "source": [
    "# import "
   ]
  },
  {
   "cell_type": "code",
   "execution_count": 6,
   "metadata": {},
   "outputs": [],
   "source": [
    "import os\n",
    "import json\n",
    "from glob import glob\n",
    "from util import (load_json, \n",
    "                  save_json, \n",
    "                  get_json_file_paths,\n",
    "                  get_info,\n",
    "                  get_licenses,\n",
    "                  get_images,\n",
    "                  get_annotations,\n",
    "                  get_categories\n",
    "                 )"
   ]
  },
  {
   "cell_type": "markdown",
   "metadata": {},
   "source": [
    "# constant"
   ]
  },
  {
   "cell_type": "code",
   "execution_count": 7,
   "metadata": {},
   "outputs": [],
   "source": [
    "base_dir = '/workspace/CenterTrack'\n",
    "# data_name = 'ball'\n",
    "data_name = 'tennis'\n",
    "# target_labels = [1, 2, 3, 4]\n",
    "# target_labels = [5, 6, 7, 8]\n",
    "\n",
    "# target_labels = [37]\n",
    "\n",
    "target_labels = [1, 5, 6, 7, 8, 37]"
   ]
  },
  {
   "cell_type": "markdown",
   "metadata": {},
   "source": [
    "# path"
   ]
  },
  {
   "cell_type": "code",
   "execution_count": 8,
   "metadata": {},
   "outputs": [],
   "source": [
    "# base_data_dir = os.path.join(base_dir, 'output', data_name, 'split')\n",
    "base_data_dir = os.path.join(base_dir, 'output', data_name, 'split_temp')\n",
    "\n",
    "train_data_dir = os.path.join(base_data_dir, 'train2017')\n",
    "train_save_path = os.path.join(base_data_dir, 'annotations/instances_train2017.json')\n",
    "val_data_dir = os.path.join(base_data_dir, 'val2017')\n",
    "val_save_path = os.path.join(base_data_dir, 'annotations/instances_val2017.json')\n",
    "test_data_dir = os.path.join(base_data_dir, 'test2017')\n",
    "test_save_path = os.path.join(base_data_dir, 'annotations/instances_test2017.json')"
   ]
  },
  {
   "cell_type": "code",
   "execution_count": 9,
   "metadata": {},
   "outputs": [],
   "source": [
    "def merge_labels(data_dir, save_path):\n",
    "    label_file_paths = get_json_file_paths(data_dir)\n",
    "    info = get_info()\n",
    "    licenses = get_licenses()\n",
    "    categories = get_categories()\n",
    "\n",
    "    images_list = []\n",
    "    annotations_list = []\n",
    "    annotation_id = 1\n",
    "    for image_id, label_file_path in enumerate(label_file_paths, 1):\n",
    "        label_file = load_json(label_file_path)\n",
    "\n",
    "        images = get_images(label_file, image_id)\n",
    "        images_list.append(images)\n",
    "\n",
    "        shapes = label_file['shapes']\n",
    "        for shape in shapes:\n",
    "            annotations = get_annotations(shape, image_id, annotation_id)\n",
    "            import pdb;pdb.set_trace()\n",
    "            if annotations['category_id'] in target_labels:            \n",
    "                annotations_list.append(annotations)\n",
    "                annotation_id += 1\n",
    "            else:\n",
    "                print('{} is not a target'.format(annotations['category_id']))\n",
    "                continue\n",
    "        print(image_id)\n",
    "        \n",
    "    label = {\n",
    "        'info':info, \n",
    "        'licenses':licenses, \n",
    "        'images':images_list, \n",
    "        'annotations':annotations_list, \n",
    "        'categories':categories\n",
    "    }\n",
    "    os.makedirs(os.path.dirname(save_path), exist_ok=True)\n",
    "    save_json(label, save_path)\n",
    "        "
   ]
  },
  {
   "cell_type": "code",
   "execution_count": null,
   "metadata": {},
   "outputs": [
    {
     "name": "stdout",
     "output_type": "stream",
     "text": [
      "> <ipython-input-9-97bc4279828a>(20)merge_labels()\n",
      "-> if annotations['category_id'] in target_labels:\n",
      "(Pdb) annotations\n",
      "{'segmentation': [[]], 'area': 900.0, 'iscrowd': 0, 'image_id': 1, 'bbox': [498.0, 351.0, 30.0, 30.0], 'category_id': 1, 'id': 1}\n",
      "(Pdb) shape\n",
      "{'fill_color': None, 'flags': {}, 'group_id': None, 'label': 'person', 'line_color': None, 'person_name': 'Djokovic', 'points': [[513.0, 366.0], [533.0, 386.0]], 'shape_type': 'rectangle'}\n",
      "(Pdb) c\n",
      "> <ipython-input-9-97bc4279828a>(19)merge_labels()\n",
      "-> import pdb;pdb.set_trace()\n",
      "(Pdb) shape\n",
      "{'fill_color': None, 'flags': {}, 'group_id': None, 'label': 'person', 'line_color': None, 'person_name': 'Federer', 'points': [[743.0, 84.0], [763.0, 104.0]], 'shape_type': 'rectangle'}\n",
      "(Pdb) annotations\n",
      "{'segmentation': [[]], 'area': 900.0, 'iscrowd': 0, 'image_id': 1, 'bbox': [728.0, 69.0, 30.0, 30.0], 'category_id': 1, 'id': 2}\n",
      "(Pdb) c\n",
      "> <ipython-input-9-97bc4279828a>(20)merge_labels()\n",
      "-> if annotations['category_id'] in target_labels:\n",
      "(Pdb) shape\n",
      "{'fill_color': None, 'flags': {}, 'group_id': None, 'label': '1', 'line_color': None, 'points': [[798.0, 156.0], [818.0, 176.0]], 'shape_type': 'rectangle'}\n",
      "(Pdb) annotations\n",
      "{'segmentation': [[]], 'area': 900.0, 'iscrowd': 0, 'image_id': 1, 'bbox': [783.0, 141.0, 30.0, 30.0], 'category_id': 1, 'id': 3}\n",
      "(Pdb) c\n",
      "> <ipython-input-9-97bc4279828a>(19)merge_labels()\n",
      "-> import pdb;pdb.set_trace()\n",
      "(Pdb) shape\n",
      "{'fill_color': None, 'flags': {}, 'group_id': None, 'label': '2', 'line_color': None, 'points': [[466.0, 157.0], [486.0, 177.0]], 'shape_type': 'rectangle'}\n",
      "(Pdb) annotations\n",
      "{'segmentation': [[]], 'area': 900.0, 'iscrowd': 0, 'image_id': 1, 'bbox': [451.0, 142.0, 30.0, 30.0], 'category_id': 2, 'id': 4}\n"
     ]
    }
   ],
   "source": [
    "merge_labels(train_data_dir, train_save_path)\n",
    "merge_labels(val_data_dir, val_save_path)\n",
    "merge_labels(test_data_dir, test_save_path)"
   ]
  },
  {
   "cell_type": "code",
   "execution_count": null,
   "metadata": {},
   "outputs": [],
   "source": []
  },
  {
   "cell_type": "code",
   "execution_count": null,
   "metadata": {},
   "outputs": [],
   "source": []
  },
  {
   "cell_type": "code",
   "execution_count": null,
   "metadata": {},
   "outputs": [],
   "source": []
  }
 ],
 "metadata": {
  "kernelspec": {
   "display_name": "Python 3",
   "language": "python",
   "name": "python3"
  },
  "language_info": {
   "codemirror_mode": {
    "name": "ipython",
    "version": 3
   },
   "file_extension": ".py",
   "mimetype": "text/x-python",
   "name": "python",
   "nbconvert_exporter": "python",
   "pygments_lexer": "ipython3",
   "version": "3.6.8"
  }
 },
 "nbformat": 4,
 "nbformat_minor": 4
}
