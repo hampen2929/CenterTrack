{
 "cells": [
  {
   "cell_type": "code",
   "execution_count": 71,
   "metadata": {},
   "outputs": [],
   "source": [
    "import os\n",
    "from glob import glob\n",
    "from util import load_json\n",
    "import shutil"
   ]
  },
  {
   "cell_type": "code",
   "execution_count": 72,
   "metadata": {},
   "outputs": [],
   "source": [
    "train_data = {\n",
    "    'game1':[],\n",
    "    'game2':[],\n",
    "}\n",
    "\n",
    "val_data = {\n",
    "    'game3':[],\n",
    "    'game4':[],\n",
    "}\n",
    "\n",
    "test_data = {\n",
    "    'game5':[],\n",
    "}"
   ]
  },
  {
   "cell_type": "code",
   "execution_count": 73,
   "metadata": {},
   "outputs": [],
   "source": [
    "base_dir = '/workspace/CenterTrack/'\n",
    "data_dir = os.path.join(base_dir, 'data/ball/bbox/')\n",
    "save_dir = os.path.join(base_dir, 'data/ball/coco/')\n",
    "# util_dir = os.path.join(base_dir, 'src', 'common_utils')\n",
    "# import sys\n",
    "# sys.path.append(util_dir)"
   ]
  },
  {
   "cell_type": "code",
   "execution_count": 74,
   "metadata": {},
   "outputs": [],
   "source": [
    "split_data_name = 'train2017'\n",
    "split_data_name = 'val2017'\n",
    "split_data_name = 'test2017'\n",
    "def split_data(data, split_data_name):\n",
    "    for game, clips in data.items():\n",
    "        if len(clips) == 0:\n",
    "            game_dir = os.path.join(data_dir, game)\n",
    "            clips = os.listdir(game_dir)\n",
    "        print(game, clips)\n",
    "        for clip in clips:\n",
    "            clip_dir = os.path.join(data_dir, game, clip)\n",
    "            file_wild = os.path.join(clip_dir, '*')\n",
    "            file_paths = glob(file_wild)\n",
    "            file_paths.sort()\n",
    "            for file_path in file_paths:\n",
    "                file_name = os.path.basename(file_path)\n",
    "                save_file_name = os.path.basename(file_path)\n",
    "                \n",
    "                if file_name in ['Label.csv', 'Label.json']:\n",
    "                    continue\n",
    "                save_path = os.path.join(save_dir, split_data_name, save_file_name)\n",
    "                os.makedirs(os.path.dirname(save_path), exist_ok=True)\n",
    "                shutil.copy(file_path, save_path)\n",
    "                # print(file_path)"
   ]
  },
  {
   "cell_type": "code",
   "execution_count": 75,
   "metadata": {},
   "outputs": [
    {
     "name": "stdout",
     "output_type": "stream",
     "text": [
      "game1 ['Clip12', 'Clip2', 'Clip13', 'Clip8', 'Clip11', 'Clip7', 'Clip4', 'Clip3', 'Clip10', 'Clip6', 'Clip1', 'Clip5', 'Clip9']\n",
      "game2 ['Clip2', 'Clip8', 'Clip7', 'Clip4', 'Clip3', 'Clip6', 'Clip1', 'Clip5']\n",
      "game3 ['Clip2', 'Clip8', 'Clip7', 'Clip4', 'Clip3', 'Clip6', 'Clip1', 'Clip5', 'Clip9']\n",
      "game4 ['Clip2', 'Clip7', 'Clip4', 'Clip3', 'Clip6', 'Clip1', 'Clip5']\n",
      "game5 ['Clip12', 'Clip14', 'Clip2', 'Clip13', 'Clip8', 'Clip11', 'Clip7', 'Clip15', 'Clip4', 'Clip3', 'Clip10', 'Clip6', 'Clip1', 'Clip5', 'Clip9']\n"
     ]
    }
   ],
   "source": [
    "split_data(train_data, 'train2017')\n",
    "split_data(val_data, 'val2017')\n",
    "split_data(test_data, 'test2017')"
   ]
  },
  {
   "cell_type": "code",
   "execution_count": null,
   "metadata": {},
   "outputs": [],
   "source": []
  },
  {
   "cell_type": "code",
   "execution_count": null,
   "metadata": {},
   "outputs": [],
   "source": []
  },
  {
   "cell_type": "code",
   "execution_count": null,
   "metadata": {},
   "outputs": [],
   "source": []
  }
 ],
 "metadata": {
  "kernelspec": {
   "display_name": "Python 3",
   "language": "python",
   "name": "python3"
  },
  "language_info": {
   "codemirror_mode": {
    "name": "ipython",
    "version": 3
   },
   "file_extension": ".py",
   "mimetype": "text/x-python",
   "name": "python",
   "nbconvert_exporter": "python",
   "pygments_lexer": "ipython3",
   "version": "3.6.8"
  }
 },
 "nbformat": 4,
 "nbformat_minor": 4
}
