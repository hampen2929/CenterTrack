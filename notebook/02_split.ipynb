{
 "cells": [
  {
   "cell_type": "markdown",
   "metadata": {},
   "source": [
    "import "
   ]
  },
  {
   "cell_type": "code",
   "execution_count": 8,
   "metadata": {},
   "outputs": [],
   "source": [
    "import os\n",
    "from glob import glob\n",
    "from util import load_json\n",
    "import shutil"
   ]
  },
  {
   "cell_type": "markdown",
   "metadata": {},
   "source": [
    "# constant"
   ]
  },
  {
   "cell_type": "code",
   "execution_count": 9,
   "metadata": {},
   "outputs": [],
   "source": [
    "# data_name = 'ball'\n",
    "# data_name = 'court'\n",
    "data_name = 'tennis'"
   ]
  },
  {
   "cell_type": "markdown",
   "metadata": {},
   "source": [
    "# split"
   ]
  },
  {
   "cell_type": "markdown",
   "metadata": {},
   "source": [
    "## all"
   ]
  },
  {
   "cell_type": "markdown",
   "metadata": {},
   "source": [
    "train_data = {\n",
    "    'game1':[],\n",
    "    'game2':[],\n",
    "    'game4':[],\n",
    "    'game8':[],\n",
    "    'game9':[],\n",
    "}\n",
    "\n",
    "val_data = {\n",
    "    'game3':[],\n",
    "    'game5':[],\n",
    "    'game6':[],\n",
    "    'game7':[],\n",
    "}\n",
    "\n",
    "test_data = {\n",
    "    'game10':[],\n",
    "}"
   ]
  },
  {
   "cell_type": "markdown",
   "metadata": {},
   "source": [
    "# path"
   ]
  },
  {
   "cell_type": "markdown",
   "metadata": {},
   "source": [
    "## subset"
   ]
  },
  {
   "cell_type": "code",
   "execution_count": 10,
   "metadata": {},
   "outputs": [],
   "source": [
    "train_data = {\n",
    "    'game1':['Clip1'],\n",
    "    'game2':['Clip1'],\n",
    "    'game4':['Clip1'],\n",
    "    'game8':['Clip1'],\n",
    "    'game9':['Clip1'],\n",
    "}\n",
    "\n",
    "val_data = {\n",
    "    'game3':['Clip1'],\n",
    "    'game5':['Clip1'],\n",
    "    'game6':['Clip1'],\n",
    "    'game7':['Clip1'],\n",
    "}\n",
    "\n",
    "test_data = {\n",
    "    'game10':['Clip1'],\n",
    "}"
   ]
  },
  {
   "cell_type": "code",
   "execution_count": 11,
   "metadata": {},
   "outputs": [],
   "source": [
    "base_dir = '/workspace/CenterTrack/'\n",
    "data_dir = os.path.join(base_dir, 'output', data_name, 'bbox')\n",
    "save_dir = os.path.join(base_dir, 'output', data_name, 'split_temp')"
   ]
  },
  {
   "cell_type": "markdown",
   "metadata": {},
   "source": [
    "# function"
   ]
  },
  {
   "cell_type": "code",
   "execution_count": 12,
   "metadata": {},
   "outputs": [],
   "source": [
    "split_data_name = 'train2017'\n",
    "split_data_name = 'val2017'\n",
    "split_data_name = 'test2017'\n",
    "def split_data(data, split_data_name):\n",
    "    for game, clips in data.items():\n",
    "        if len(clips) == 0:\n",
    "            game_dir = os.path.join(data_dir, game)\n",
    "            clips = os.listdir(game_dir)\n",
    "        print(game, clips)\n",
    "        for clip in clips:\n",
    "            clip_dir = os.path.join(data_dir, game, clip)\n",
    "            file_wild = os.path.join(clip_dir, '*')\n",
    "            file_paths = glob(file_wild)\n",
    "            file_paths.sort()\n",
    "            for file_path in file_paths:\n",
    "                file_name = os.path.basename(file_path)\n",
    "                save_file_name = os.path.basename(file_path)\n",
    "                \n",
    "                if file_name in ['Label.csv', 'Label.json']:\n",
    "                    continue\n",
    "                save_path = os.path.join(save_dir, split_data_name, save_file_name)\n",
    "                os.makedirs(os.path.dirname(save_path), exist_ok=True)\n",
    "                shutil.copy(file_path, save_path)\n",
    "                # print(file_path)"
   ]
  },
  {
   "cell_type": "markdown",
   "metadata": {},
   "source": [
    "# main"
   ]
  },
  {
   "cell_type": "code",
   "execution_count": 13,
   "metadata": {},
   "outputs": [
    {
     "name": "stdout",
     "output_type": "stream",
     "text": [
      "game1 ['Clip1']\n",
      "game2 ['Clip1']\n",
      "game4 ['Clip1']\n",
      "game8 ['Clip1']\n",
      "game9 ['Clip1']\n",
      "game3 ['Clip1']\n",
      "game5 ['Clip1']\n",
      "game6 ['Clip1']\n",
      "game7 ['Clip1']\n",
      "game10 ['Clip1']\n"
     ]
    }
   ],
   "source": [
    "split_data(train_data, 'train2017')\n",
    "split_data(val_data, 'val2017')\n",
    "split_data(test_data, 'test2017')"
   ]
  },
  {
   "cell_type": "code",
   "execution_count": null,
   "metadata": {},
   "outputs": [],
   "source": []
  }
 ],
 "metadata": {
  "kernelspec": {
   "display_name": "Python 3",
   "language": "python",
   "name": "python3"
  },
  "language_info": {
   "codemirror_mode": {
    "name": "ipython",
    "version": 3
   },
   "file_extension": ".py",
   "mimetype": "text/x-python",
   "name": "python",
   "nbconvert_exporter": "python",
   "pygments_lexer": "ipython3",
   "version": "3.6.8"
  }
 },
 "nbformat": 4,
 "nbformat_minor": 4
}
