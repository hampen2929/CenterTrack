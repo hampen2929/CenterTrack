{
 "cells": [
  {
   "cell_type": "markdown",
   "metadata": {},
   "source": [
    "# import"
   ]
  },
  {
   "cell_type": "code",
   "execution_count": 1,
   "metadata": {},
   "outputs": [],
   "source": [
    "import cv2\n",
    "import os\n",
    "import os.path as osp\n",
    "from glob import glob\n",
    "from tqdm import tqdm\n",
    "import pickle\n",
    "import pandas as pd\n",
    "import numpy as np\n",
    "import matplotlib.pyplot as plt\n",
    "from IPython.display import Video\n",
    "from util import load_json, save_json\n",
    "from copy import copy\n",
    "import shutil"
   ]
  },
  {
   "cell_type": "code",
   "execution_count": 2,
   "metadata": {},
   "outputs": [],
   "source": [
    "import time"
   ]
  },
  {
   "cell_type": "markdown",
   "metadata": {},
   "source": [
    "# path"
   ]
  },
  {
   "cell_type": "code",
   "execution_count": 3,
   "metadata": {},
   "outputs": [],
   "source": [
    "data_name = 'player'\n",
    "input_dir = osp.join('../input', data_name)\n",
    "data_dir = osp.join('../output', data_name, 'tracking')\n",
    "label_save_dir = osp.join('../output', data_name, 'label')\n",
    "reid_dir = osp.join('../output', data_name, 'reid')\n",
    "track_label_path = osp.join('../output/')\n",
    "# movie_dir = osp.join('../output', data_name, 'movie')\n",
    "movie_dir = osp.join('../output', data_name, 'movie_process')\n",
    "mot_pid_dir = osp.join('../output', data_name, 'mot_pid')\n",
    "mot_process_save_dir = osp.join('../output', data_name, 'mot_pid_process')"
   ]
  },
  {
   "cell_type": "code",
   "execution_count": 4,
   "metadata": {},
   "outputs": [],
   "source": [
    "data_names = ['player', 'court', 'ball']"
   ]
  },
  {
   "cell_type": "markdown",
   "metadata": {},
   "source": [
    "# function"
   ]
  },
  {
   "cell_type": "code",
   "execution_count": 5,
   "metadata": {},
   "outputs": [],
   "source": [
    "def listdirs(dir_path, name_condition=None):\n",
    "    dir_names = os.listdir(dir_path)\n",
    "    if name_condition is not None:\n",
    "        dir_names = [dir_name for dir_name in dir_names if dir_name.startswith(name_condition)]\n",
    "    dir_names.sort()\n",
    "    return dir_names"
   ]
  },
  {
   "cell_type": "code",
   "execution_count": 6,
   "metadata": {},
   "outputs": [],
   "source": [
    "def save_pickle(data, path):\n",
    "    with open(path, 'wb') as f:\n",
    "        pickle.dump(data, f)\n",
    "\n",
    "def load_pickle(path):\n",
    "    with open(path, 'rb') as f:\n",
    "        data = pickle.load(f)\n",
    "    return data"
   ]
  },
  {
   "cell_type": "code",
   "execution_count": 7,
   "metadata": {},
   "outputs": [],
   "source": [
    "def draw_bbox(img, bboxes, c=(0,255,0)):\n",
    "    for bbox in bboxes:\n",
    "        cv2.rectangle(img, (int(bbox[0]), int(bbox[1])), \n",
    "                      (int(bbox[0] + bbox[2]), int(bbox[1] + bbox[3])), \n",
    "                      (0,255,0), 2, lineType=cv2.LINE_AA)\n",
    "        ct = [bbox[0] + bbox[2] / 2, bbox[1] + bbox[3] / 2]\n",
    "        txt = '{}'.format(bbox[4])\n",
    "        cv2.putText(img, txt, (int(ct[0]), int(ct[1])), \n",
    "                    cv2.FONT_HERSHEY_SIMPLEX, 0.5, \n",
    "                    (0, 0, 0), thickness=3, lineType=cv2.LINE_AA)\n",
    "        cv2.putText(img, txt, (int(ct[0]), int(ct[1])), \n",
    "                    cv2.FONT_HERSHEY_SIMPLEX, 0.5, \n",
    "                    c, thickness=2, lineType=cv2.LINE_AA)"
   ]
  },
  {
   "cell_type": "markdown",
   "metadata": {},
   "source": [
    "# all"
   ]
  },
  {
   "cell_type": "code",
   "execution_count": 9,
   "metadata": {},
   "outputs": [],
   "source": [
    "games = ['game1']\n",
    "# games = None\n",
    "\n",
    "clips = ['Clip1']\n",
    "# clips = None"
   ]
  },
  {
   "cell_type": "code",
   "execution_count": 69,
   "metadata": {
    "scrolled": false
   },
   "outputs": [
    {
     "name": "stderr",
     "output_type": "stream",
     "text": [
      "100%|██████████| 10/10 [00:17<00:00,  1.70s/it]\n"
     ]
    }
   ],
   "source": [
    "if games is None:\n",
    "    games = listdirs(input_dir, 'game')\n",
    "    \n",
    "columns = ['frame_index', 'tracking_id', 'xmin', 'ymin', 'xmax', 'ymax', 'confidence', 'image_name']\n",
    "for game in tqdm(games):\n",
    "    game_dir = osp.join(input_dir, game)\n",
    "    if clips is None:\n",
    "        clips = listdirs(game_dir, 'Clip')\n",
    "    for clip in clips:\n",
    "        clip_dir = osp.join(game_dir, clip)\n",
    "        file_names = listdirs(clip_dir)\n",
    "        image_names = [file_name for file_name in file_names if osp.splitext(file_name)[1]=='.jpg']\n",
    "        label_names = [file_name for file_name in file_names if osp.splitext(file_name)[1]=='.json']\n",
    "        \n",
    "        assert len(image_names) == len(label_names)\n",
    "        \n",
    "        for image_name, label_name in zip(image_names, label_names):\n",
    "                \n",
    "            image_path = osp.join('../input', 'player', game, clip, image_name)\n",
    "            \n",
    "            player_label_path = osp.join('../input', 'player', game, clip, label_name)\n",
    "            court_label_path = osp.join('../input', 'court', game, clip, label_name)\n",
    "            ball_label_path = osp.join('../input', 'ball', game, clip, label_name)\n",
    "\n",
    "            player_label = load_json(player_label_path)\n",
    "            court_label = load_json(court_label_path)\n",
    "            ball_label = load_json(ball_label_path)\n",
    "            \n",
    "            assert player_label['imagePath'] == court_label['imagePath'] == ball_label['imagePath']\n",
    "            \n",
    "            for l in court_label['shapes']:\n",
    "                pt = l['points']\n",
    "                pt = [[int(pt[0][0]),int(pt[0][1])]]\n",
    "                l['points'] = pt\n",
    "            \n",
    "            labels = []\n",
    "            for num, l in enumerate(ball_label['shapes']):\n",
    "                pt = l['points']\n",
    "                if np.isnan(l['points'][0][0]):\n",
    "                    del ball_label['shapes'][num]\n",
    "                    continue\n",
    "                pt = [[int(pt[0][0]),int(pt[0][1])]]\n",
    "                l['points'] = pt\n",
    "            \n",
    "            shapes = copy(player_label['shapes'])\n",
    "            shapes.extend(court_label['shapes'])\n",
    "            shapes.extend(ball_label['shapes'])\n",
    "            \n",
    "            player_label['shapes'] = shapes\n",
    "            \n",
    "            label_save_path = osp.join('../input', 'tennis', game, clip, label_name)\n",
    "            image_save_path = osp.join('../input', 'tennis', game, clip, image_name)\n",
    "            \n",
    "            os.makedirs(osp.dirname(label_save_path), exist_ok=True)\n",
    "                        \n",
    "            shutil.copy(image_path, image_save_path)\n",
    "            save_json(player_label, label_save_path)\n",
    "                        \n",
    "    clips = None"
   ]
  },
  {
   "cell_type": "code",
   "execution_count": null,
   "metadata": {},
   "outputs": [],
   "source": []
  },
  {
   "cell_type": "code",
   "execution_count": null,
   "metadata": {},
   "outputs": [],
   "source": []
  },
  {
   "cell_type": "code",
   "execution_count": 68,
   "metadata": {},
   "outputs": [
    {
     "data": {
      "text/plain": [
       "{'fill_color': None,\n",
       " 'flags': {},\n",
       " 'label': 'ball',\n",
       " 'line_color': None,\n",
       " 'points': [[400, 117]],\n",
       " 'shape_type': 'polygon',\n",
       " 'status': 0,\n",
       " 'visibilliey': 1}"
      ]
     },
     "execution_count": 68,
     "metadata": {},
     "output_type": "execute_result"
    }
   ],
   "source": [
    "l"
   ]
  },
  {
   "cell_type": "code",
   "execution_count": 66,
   "metadata": {},
   "outputs": [
    {
     "data": {
      "text/plain": [
       "[[400, 117]]"
      ]
     },
     "execution_count": 66,
     "metadata": {},
     "output_type": "execute_result"
    }
   ],
   "source": [
    "l['points']"
   ]
  },
  {
   "cell_type": "code",
   "execution_count": 67,
   "metadata": {},
   "outputs": [
    {
     "data": {
      "text/plain": [
       "{'fill_color': None,\n",
       " 'flags': {},\n",
       " 'label': 'ball',\n",
       " 'line_color': None,\n",
       " 'points': [[400, 117]],\n",
       " 'shape_type': 'polygon',\n",
       " 'status': 0,\n",
       " 'visibilliey': 1}"
      ]
     },
     "execution_count": 67,
     "metadata": {},
     "output_type": "execute_result"
    }
   ],
   "source": [
    "l"
   ]
  },
  {
   "cell_type": "code",
   "execution_count": null,
   "metadata": {},
   "outputs": [],
   "source": []
  },
  {
   "cell_type": "code",
   "execution_count": 60,
   "metadata": {},
   "outputs": [
    {
     "data": {
      "text/plain": [
       "[[nan, nan]]"
      ]
     },
     "execution_count": 60,
     "metadata": {},
     "output_type": "execute_result"
    }
   ],
   "source": [
    "l['points']"
   ]
  },
  {
   "cell_type": "code",
   "execution_count": 63,
   "metadata": {},
   "outputs": [],
   "source": [
    "del l"
   ]
  },
  {
   "cell_type": "code",
   "execution_count": 64,
   "metadata": {},
   "outputs": [
    {
     "ename": "NameError",
     "evalue": "name 'l' is not defined",
     "output_type": "error",
     "traceback": [
      "\u001b[0;31m---------------------------------------------------------------------------\u001b[0m",
      "\u001b[0;31mNameError\u001b[0m                                 Traceback (most recent call last)",
      "\u001b[0;32m<ipython-input-64-cde25b5e10ad>\u001b[0m in \u001b[0;36m<module>\u001b[0;34m\u001b[0m\n\u001b[0;32m----> 1\u001b[0;31m \u001b[0ml\u001b[0m\u001b[0;34m\u001b[0m\u001b[0;34m\u001b[0m\u001b[0m\n\u001b[0m",
      "\u001b[0;31mNameError\u001b[0m: name 'l' is not defined"
     ]
    }
   ],
   "source": [
    "l"
   ]
  },
  {
   "cell_type": "code",
   "execution_count": 58,
   "metadata": {},
   "outputs": [
    {
     "data": {
      "text/plain": [
       "True"
      ]
     },
     "execution_count": 58,
     "metadata": {},
     "output_type": "execute_result"
    }
   ],
   "source": [
    "np.isnan(l['points'][0][0])"
   ]
  },
  {
   "cell_type": "code",
   "execution_count": 56,
   "metadata": {},
   "outputs": [],
   "source": [
    "if l['points'][0][0] is np.nan:\n",
    "    pass"
   ]
  },
  {
   "cell_type": "code",
   "execution_count": null,
   "metadata": {},
   "outputs": [],
   "source": []
  },
  {
   "cell_type": "code",
   "execution_count": null,
   "metadata": {},
   "outputs": [],
   "source": []
  },
  {
   "cell_type": "code",
   "execution_count": null,
   "metadata": {},
   "outputs": [],
   "source": []
  },
  {
   "cell_type": "code",
   "execution_count": 46,
   "metadata": {},
   "outputs": [],
   "source": [
    "for l in court_label['shapes']:\n",
    "    pt = l['points']\n",
    "    pt = [[int(pt[0][0]),int(pt[0][1])]]\n",
    "    l['points'] = pt"
   ]
  },
  {
   "cell_type": "code",
   "execution_count": 48,
   "metadata": {},
   "outputs": [
    {
     "data": {
      "text/plain": [
       "{'fillColor': [255, 0, 0, 128],\n",
       " 'flags': {},\n",
       " 'imageData': None,\n",
       " 'imageHeight': 720,\n",
       " 'imagePath': '0000.jpg',\n",
       " 'imageWidth': 1280,\n",
       " 'lineColor': [0, 255, 0, 128],\n",
       " 'shapes': [{'fill_color': None,\n",
       "   'flags': {},\n",
       "   'group_id': None,\n",
       "   'label': '0',\n",
       "   'line_color': None,\n",
       "   'points': [[643, 297]],\n",
       "   'shape_type': 'polygon'},\n",
       "  {'fill_color': None,\n",
       "   'flags': {},\n",
       "   'group_id': None,\n",
       "   'label': '1',\n",
       "   'line_color': None,\n",
       "   'points': [[803, 163]],\n",
       "   'shape_type': 'polygon'},\n",
       "  {'fill_color': None,\n",
       "   'flags': {},\n",
       "   'group_id': None,\n",
       "   'label': '2',\n",
       "   'line_color': None,\n",
       "   'points': [[484, 164]],\n",
       "   'shape_type': 'polygon'},\n",
       "  {'fill_color': None,\n",
       "   'flags': {},\n",
       "   'group_id': None,\n",
       "   'label': '3',\n",
       "   'line_color': None,\n",
       "   'points': [[328, 570]],\n",
       "   'shape_type': 'polygon'},\n",
       "  {'fill_color': None,\n",
       "   'flags': {},\n",
       "   'group_id': None,\n",
       "   'label': '4',\n",
       "   'line_color': None,\n",
       "   'points': [[960, 569]],\n",
       "   'shape_type': 'polygon'},\n",
       "  {'flags': {},\n",
       "   'group_id': None,\n",
       "   'label': '5',\n",
       "   'points': [[854, 162]],\n",
       "   'shape_type': 'polygon'},\n",
       "  {'flags': {},\n",
       "   'group_id': None,\n",
       "   'label': '6',\n",
       "   'points': [[429, 164]],\n",
       "   'shape_type': 'polygon'},\n",
       "  {'flags': {},\n",
       "   'group_id': None,\n",
       "   'label': '7',\n",
       "   'points': [[221, 569]],\n",
       "   'shape_type': 'polygon'},\n",
       "  {'flags': {},\n",
       "   'group_id': None,\n",
       "   'label': '8',\n",
       "   'points': [[1069, 570]],\n",
       "   'shape_type': 'polygon'}],\n",
       " 'version': '4.2.10'}"
      ]
     },
     "execution_count": 48,
     "metadata": {},
     "output_type": "execute_result"
    }
   ],
   "source": [
    "court_label"
   ]
  },
  {
   "cell_type": "code",
   "execution_count": null,
   "metadata": {},
   "outputs": [],
   "source": []
  },
  {
   "cell_type": "code",
   "execution_count": null,
   "metadata": {},
   "outputs": [],
   "source": []
  },
  {
   "cell_type": "code",
   "execution_count": null,
   "metadata": {},
   "outputs": [],
   "source": []
  },
  {
   "cell_type": "code",
   "execution_count": 43,
   "metadata": {},
   "outputs": [
    {
     "data": {
      "text/plain": [
       "[[1069, 570]]"
      ]
     },
     "execution_count": 43,
     "metadata": {},
     "output_type": "execute_result"
    }
   ],
   "source": [
    "pt"
   ]
  },
  {
   "cell_type": "code",
   "execution_count": 41,
   "metadata": {},
   "outputs": [
    {
     "data": {
      "text/plain": [
       "[[1069.6666666666667, 570.0]]"
      ]
     },
     "execution_count": 41,
     "metadata": {},
     "output_type": "execute_result"
    }
   ],
   "source": [
    "l['points']"
   ]
  },
  {
   "cell_type": "code",
   "execution_count": 40,
   "metadata": {},
   "outputs": [
    {
     "data": {
      "text/plain": [
       "[1069, 570]"
      ]
     },
     "execution_count": 40,
     "metadata": {},
     "output_type": "execute_result"
    }
   ],
   "source": [
    "pt"
   ]
  },
  {
   "cell_type": "code",
   "execution_count": 37,
   "metadata": {},
   "outputs": [
    {
     "data": {
      "text/plain": [
       "[[643.0, 297.5]]"
      ]
     },
     "execution_count": 37,
     "metadata": {},
     "output_type": "execute_result"
    }
   ],
   "source": [
    "pt"
   ]
  },
  {
   "cell_type": "code",
   "execution_count": null,
   "metadata": {},
   "outputs": [],
   "source": []
  },
  {
   "cell_type": "code",
   "execution_count": 35,
   "metadata": {},
   "outputs": [
    {
     "data": {
      "text/plain": [
       "[[1069.6666666666667, 570.0]]"
      ]
     },
     "execution_count": 35,
     "metadata": {},
     "output_type": "execute_result"
    }
   ],
   "source": [
    "pts"
   ]
  },
  {
   "cell_type": "code",
   "execution_count": null,
   "metadata": {},
   "outputs": [],
   "source": []
  },
  {
   "cell_type": "code",
   "execution_count": null,
   "metadata": {},
   "outputs": [],
   "source": []
  },
  {
   "cell_type": "code",
   "execution_count": 34,
   "metadata": {},
   "outputs": [
    {
     "data": {
      "text/plain": [
       "[1069, 570]"
      ]
     },
     "execution_count": 34,
     "metadata": {},
     "output_type": "execute_result"
    }
   ],
   "source": [
    "pt"
   ]
  },
  {
   "cell_type": "code",
   "execution_count": null,
   "metadata": {},
   "outputs": [],
   "source": []
  },
  {
   "cell_type": "code",
   "execution_count": 1,
   "metadata": {},
   "outputs": [
    {
     "ename": "NameError",
     "evalue": "name 'label' is not defined",
     "output_type": "error",
     "traceback": [
      "\u001b[0;31m---------------------------------------------------------------------------\u001b[0m",
      "\u001b[0;31mNameError\u001b[0m                                 Traceback (most recent call last)",
      "\u001b[0;32m<ipython-input-1-a889fef81a04>\u001b[0m in \u001b[0;36m<module>\u001b[0;34m\u001b[0m\n\u001b[0;32m----> 1\u001b[0;31m \u001b[0mlabel\u001b[0m\u001b[0;34m\u001b[0m\u001b[0;34m\u001b[0m\u001b[0m\n\u001b[0m",
      "\u001b[0;31mNameError\u001b[0m: name 'label' is not defined"
     ]
    }
   ],
   "source": [
    "label"
   ]
  },
  {
   "cell_type": "code",
   "execution_count": null,
   "metadata": {},
   "outputs": [],
   "source": []
  },
  {
   "cell_type": "code",
   "execution_count": null,
   "metadata": {},
   "outputs": [],
   "source": []
  },
  {
   "cell_type": "code",
   "execution_count": 73,
   "metadata": {},
   "outputs": [
    {
     "data": {
      "text/plain": [
       "'../input/tennis/game1/Clip11/0000.jpg'"
      ]
     },
     "execution_count": 73,
     "metadata": {},
     "output_type": "execute_result"
    }
   ],
   "source": [
    "image_save_path"
   ]
  },
  {
   "cell_type": "code",
   "execution_count": null,
   "metadata": {},
   "outputs": [],
   "source": []
  },
  {
   "cell_type": "code",
   "execution_count": null,
   "metadata": {},
   "outputs": [],
   "source": []
  },
  {
   "cell_type": "code",
   "execution_count": 71,
   "metadata": {},
   "outputs": [
    {
     "data": {
      "text/plain": [
       "'../input/ball/game9/Clip9/0222.jpg'"
      ]
     },
     "execution_count": 71,
     "metadata": {},
     "output_type": "execute_result"
    }
   ],
   "source": [
    "image_path"
   ]
  },
  {
   "cell_type": "code",
   "execution_count": null,
   "metadata": {},
   "outputs": [],
   "source": []
  },
  {
   "cell_type": "code",
   "execution_count": null,
   "metadata": {},
   "outputs": [],
   "source": []
  },
  {
   "cell_type": "code",
   "execution_count": null,
   "metadata": {},
   "outputs": [],
   "source": []
  },
  {
   "cell_type": "code",
   "execution_count": 67,
   "metadata": {},
   "outputs": [
    {
     "data": {
      "text/plain": [
       "{'fillColor': [255, 0, 0, 128],\n",
       " 'imageData': None,\n",
       " 'imageHeight': 720,\n",
       " 'imagePath': '0222.jpg',\n",
       " 'imageWidth': 1280,\n",
       " 'lineColor': [0, 255, 0, 128],\n",
       " 'shapes': [{'fill_color': None,\n",
       "   'flags': {},\n",
       "   'group_id': None,\n",
       "   'label': 'person',\n",
       "   'line_color': None,\n",
       "   'person_name': 'Sharapova',\n",
       "   'points': [[723, 455], [788, 637]],\n",
       "   'shape_type': 'rectangle'},\n",
       "  {'fill_color': None,\n",
       "   'flags': {},\n",
       "   'group_id': None,\n",
       "   'label': 'person',\n",
       "   'line_color': None,\n",
       "   'person_name': 'Halep',\n",
       "   'points': [[494, 54], [530, 108]],\n",
       "   'shape_type': 'rectangle'}],\n",
       " 'version': '4.2.10'}"
      ]
     },
     "execution_count": 67,
     "metadata": {},
     "output_type": "execute_result"
    }
   ],
   "source": [
    "player_label"
   ]
  },
  {
   "cell_type": "code",
   "execution_count": null,
   "metadata": {},
   "outputs": [],
   "source": []
  },
  {
   "cell_type": "code",
   "execution_count": null,
   "metadata": {},
   "outputs": [],
   "source": []
  },
  {
   "cell_type": "code",
   "execution_count": 66,
   "metadata": {},
   "outputs": [
    {
     "data": {
      "text/plain": [
       "{'fillColor': [255, 0, 0, 128],\n",
       " 'imageData': None,\n",
       " 'imageHeight': 720,\n",
       " 'imagePath': '0222.jpg',\n",
       " 'imageWidth': 1280,\n",
       " 'lineColor': [0, 255, 0, 128],\n",
       " 'shapes': [{'fill_color': None,\n",
       "   'flags': {},\n",
       "   'group_id': None,\n",
       "   'label': 'person',\n",
       "   'line_color': None,\n",
       "   'person_name': 'Sharapova',\n",
       "   'points': [[723, 455], [788, 637]],\n",
       "   'shape_type': 'rectangle'},\n",
       "  {'fill_color': None,\n",
       "   'flags': {},\n",
       "   'group_id': None,\n",
       "   'label': 'person',\n",
       "   'line_color': None,\n",
       "   'person_name': 'Halep',\n",
       "   'points': [[494, 54], [530, 108]],\n",
       "   'shape_type': 'rectangle'}],\n",
       " 'version': '4.2.10'}"
      ]
     },
     "execution_count": 66,
     "metadata": {},
     "output_type": "execute_result"
    }
   ],
   "source": [
    "player_label['shapes'] = shapes"
   ]
  },
  {
   "cell_type": "code",
   "execution_count": null,
   "metadata": {},
   "outputs": [],
   "source": []
  },
  {
   "cell_type": "code",
   "execution_count": 60,
   "metadata": {},
   "outputs": [
    {
     "name": "stdout",
     "output_type": "stream",
     "text": [
      "0001.jpg\n"
     ]
    }
   ],
   "source": [
    "print(player_label['imagePath'])"
   ]
  },
  {
   "cell_type": "code",
   "execution_count": 61,
   "metadata": {},
   "outputs": [
    {
     "name": "stdout",
     "output_type": "stream",
     "text": [
      "0001.jpg\n",
      "0000.jpg\n",
      "0000.jpg\n"
     ]
    }
   ],
   "source": [
    "print(player_label['imagePath'])\n",
    "print(court_label['imagePath'])\n",
    "print(ball_label['imagePath'])"
   ]
  },
  {
   "cell_type": "code",
   "execution_count": null,
   "metadata": {},
   "outputs": [],
   "source": []
  },
  {
   "cell_type": "code",
   "execution_count": null,
   "metadata": {},
   "outputs": [],
   "source": []
  },
  {
   "cell_type": "code",
   "execution_count": null,
   "metadata": {},
   "outputs": [],
   "source": []
  },
  {
   "cell_type": "code",
   "execution_count": 43,
   "metadata": {},
   "outputs": [
    {
     "data": {
      "text/plain": [
       "{'fillColor': [255, 0, 0, 128],\n",
       " 'flags': {},\n",
       " 'imageData': None,\n",
       " 'imageHeight': 720,\n",
       " 'imagePath': '0222.jpg',\n",
       " 'imageWidth': 1280,\n",
       " 'lineColor': [0, 255, 0, 128],\n",
       " 'shapes': [{'fill_color': None,\n",
       "   'flags': {},\n",
       "   'group_id': None,\n",
       "   'label': '0',\n",
       "   'line_color': None,\n",
       "   'points': [[643.0, 297.5]],\n",
       "   'shape_type': 'polygon'},\n",
       "  {'fill_color': None,\n",
       "   'flags': {},\n",
       "   'group_id': None,\n",
       "   'label': '1',\n",
       "   'line_color': None,\n",
       "   'points': [[803.0, 163.33333333333337]],\n",
       "   'shape_type': 'polygon'},\n",
       "  {'fill_color': None,\n",
       "   'flags': {},\n",
       "   'group_id': None,\n",
       "   'label': '2',\n",
       "   'line_color': None,\n",
       "   'points': [[484.6666666666667, 164.16666666666669]],\n",
       "   'shape_type': 'polygon'},\n",
       "  {'fill_color': None,\n",
       "   'flags': {},\n",
       "   'group_id': None,\n",
       "   'label': '3',\n",
       "   'line_color': None,\n",
       "   'points': [[328.0, 570.0]],\n",
       "   'shape_type': 'polygon'},\n",
       "  {'fill_color': None,\n",
       "   'flags': {},\n",
       "   'group_id': None,\n",
       "   'label': '4',\n",
       "   'line_color': None,\n",
       "   'points': [[960.5, 569.1666666666667]],\n",
       "   'shape_type': 'polygon'},\n",
       "  {'flags': {},\n",
       "   'group_id': None,\n",
       "   'label': '5',\n",
       "   'points': [[854.6666666666667, 162.5]],\n",
       "   'shape_type': 'polygon'},\n",
       "  {'flags': {},\n",
       "   'group_id': None,\n",
       "   'label': '6',\n",
       "   'points': [[429.6666666666667, 164.16666666666669]],\n",
       "   'shape_type': 'polygon'},\n",
       "  {'flags': {},\n",
       "   'group_id': None,\n",
       "   'label': '7',\n",
       "   'points': [[221.33333333333334, 569.1666666666667]],\n",
       "   'shape_type': 'polygon'},\n",
       "  {'flags': {},\n",
       "   'group_id': None,\n",
       "   'label': '8',\n",
       "   'points': [[1069.6666666666667, 570.0]],\n",
       "   'shape_type': 'polygon'}],\n",
       " 'version': '4.2.10'}"
      ]
     },
     "execution_count": 43,
     "metadata": {},
     "output_type": "execute_result"
    }
   ],
   "source": [
    "court_label"
   ]
  },
  {
   "cell_type": "code",
   "execution_count": null,
   "metadata": {},
   "outputs": [],
   "source": []
  },
  {
   "cell_type": "code",
   "execution_count": null,
   "metadata": {},
   "outputs": [],
   "source": []
  },
  {
   "cell_type": "code",
   "execution_count": null,
   "metadata": {},
   "outputs": [],
   "source": []
  },
  {
   "cell_type": "code",
   "execution_count": 40,
   "metadata": {},
   "outputs": [],
   "source": [
    "shapes = copy(player_label['shapes'])\n",
    "shapes.extend(court_label['shapes'])\n",
    "shapes.extend(ball_label['shapes'])"
   ]
  },
  {
   "cell_type": "code",
   "execution_count": 41,
   "metadata": {},
   "outputs": [
    {
     "data": {
      "text/plain": [
       "[{'fill_color': None,\n",
       "  'flags': {},\n",
       "  'group_id': None,\n",
       "  'label': 'person',\n",
       "  'line_color': None,\n",
       "  'person_name': 'Sharapova',\n",
       "  'points': [[723, 455], [788, 637]],\n",
       "  'shape_type': 'rectangle'},\n",
       " {'fill_color': None,\n",
       "  'flags': {},\n",
       "  'group_id': None,\n",
       "  'label': 'person',\n",
       "  'line_color': None,\n",
       "  'person_name': 'Halep',\n",
       "  'points': [[494, 54], [530, 108]],\n",
       "  'shape_type': 'rectangle'},\n",
       " {'fill_color': None,\n",
       "  'flags': {},\n",
       "  'group_id': None,\n",
       "  'label': '0',\n",
       "  'line_color': None,\n",
       "  'points': [[643.0, 297.5]],\n",
       "  'shape_type': 'polygon'},\n",
       " {'fill_color': None,\n",
       "  'flags': {},\n",
       "  'group_id': None,\n",
       "  'label': '1',\n",
       "  'line_color': None,\n",
       "  'points': [[803.0, 163.33333333333337]],\n",
       "  'shape_type': 'polygon'},\n",
       " {'fill_color': None,\n",
       "  'flags': {},\n",
       "  'group_id': None,\n",
       "  'label': '2',\n",
       "  'line_color': None,\n",
       "  'points': [[484.6666666666667, 164.16666666666669]],\n",
       "  'shape_type': 'polygon'},\n",
       " {'fill_color': None,\n",
       "  'flags': {},\n",
       "  'group_id': None,\n",
       "  'label': '3',\n",
       "  'line_color': None,\n",
       "  'points': [[328.0, 570.0]],\n",
       "  'shape_type': 'polygon'},\n",
       " {'fill_color': None,\n",
       "  'flags': {},\n",
       "  'group_id': None,\n",
       "  'label': '4',\n",
       "  'line_color': None,\n",
       "  'points': [[960.5, 569.1666666666667]],\n",
       "  'shape_type': 'polygon'},\n",
       " {'flags': {},\n",
       "  'group_id': None,\n",
       "  'label': '5',\n",
       "  'points': [[854.6666666666667, 162.5]],\n",
       "  'shape_type': 'polygon'},\n",
       " {'flags': {},\n",
       "  'group_id': None,\n",
       "  'label': '6',\n",
       "  'points': [[429.6666666666667, 164.16666666666669]],\n",
       "  'shape_type': 'polygon'},\n",
       " {'flags': {},\n",
       "  'group_id': None,\n",
       "  'label': '7',\n",
       "  'points': [[221.33333333333334, 569.1666666666667]],\n",
       "  'shape_type': 'polygon'},\n",
       " {'flags': {},\n",
       "  'group_id': None,\n",
       "  'label': '8',\n",
       "  'points': [[1069.6666666666667, 570.0]],\n",
       "  'shape_type': 'polygon'},\n",
       " {'fill_color': None,\n",
       "  'flags': {},\n",
       "  'label': 'ball',\n",
       "  'line_color': None,\n",
       "  'points': [[400, 117]],\n",
       "  'shape_type': 'polygon',\n",
       "  'status': 0,\n",
       "  'visibilliey': 1}]"
      ]
     },
     "execution_count": 41,
     "metadata": {},
     "output_type": "execute_result"
    }
   ],
   "source": [
    "shapes"
   ]
  },
  {
   "cell_type": "code",
   "execution_count": null,
   "metadata": {},
   "outputs": [],
   "source": []
  },
  {
   "cell_type": "code",
   "execution_count": null,
   "metadata": {},
   "outputs": [],
   "source": []
  },
  {
   "cell_type": "code",
   "execution_count": null,
   "metadata": {},
   "outputs": [],
   "source": []
  },
  {
   "cell_type": "code",
   "execution_count": 34,
   "metadata": {},
   "outputs": [
    {
     "data": {
      "text/plain": [
       "{'fillColor': [255, 0, 0, 128],\n",
       " 'flags': {},\n",
       " 'imageData': None,\n",
       " 'imageHeight': 720,\n",
       " 'imagePath': '0222.jpg',\n",
       " 'imageWidth': 1280,\n",
       " 'lineColor': [0, 255, 0, 128],\n",
       " 'shapes': [{'fill_color': None,\n",
       "   'flags': {},\n",
       "   'group_id': None,\n",
       "   'label': '0',\n",
       "   'line_color': None,\n",
       "   'points': [[643.0, 297.5]],\n",
       "   'shape_type': 'polygon'},\n",
       "  {'fill_color': None,\n",
       "   'flags': {},\n",
       "   'group_id': None,\n",
       "   'label': '1',\n",
       "   'line_color': None,\n",
       "   'points': [[803.0, 163.33333333333337]],\n",
       "   'shape_type': 'polygon'},\n",
       "  {'fill_color': None,\n",
       "   'flags': {},\n",
       "   'group_id': None,\n",
       "   'label': '2',\n",
       "   'line_color': None,\n",
       "   'points': [[484.6666666666667, 164.16666666666669]],\n",
       "   'shape_type': 'polygon'},\n",
       "  {'fill_color': None,\n",
       "   'flags': {},\n",
       "   'group_id': None,\n",
       "   'label': '3',\n",
       "   'line_color': None,\n",
       "   'points': [[328.0, 570.0]],\n",
       "   'shape_type': 'polygon'},\n",
       "  {'fill_color': None,\n",
       "   'flags': {},\n",
       "   'group_id': None,\n",
       "   'label': '4',\n",
       "   'line_color': None,\n",
       "   'points': [[960.5, 569.1666666666667]],\n",
       "   'shape_type': 'polygon'},\n",
       "  {'flags': {},\n",
       "   'group_id': None,\n",
       "   'label': '5',\n",
       "   'points': [[854.6666666666667, 162.5]],\n",
       "   'shape_type': 'polygon'},\n",
       "  {'flags': {},\n",
       "   'group_id': None,\n",
       "   'label': '6',\n",
       "   'points': [[429.6666666666667, 164.16666666666669]],\n",
       "   'shape_type': 'polygon'},\n",
       "  {'flags': {},\n",
       "   'group_id': None,\n",
       "   'label': '7',\n",
       "   'points': [[221.33333333333334, 569.1666666666667]],\n",
       "   'shape_type': 'polygon'},\n",
       "  {'flags': {},\n",
       "   'group_id': None,\n",
       "   'label': '8',\n",
       "   'points': [[1069.6666666666667, 570.0]],\n",
       "   'shape_type': 'polygon'}],\n",
       " 'version': '4.2.10'}"
      ]
     },
     "execution_count": 34,
     "metadata": {},
     "output_type": "execute_result"
    }
   ],
   "source": [
    "court_label"
   ]
  },
  {
   "cell_type": "code",
   "execution_count": 35,
   "metadata": {},
   "outputs": [
    {
     "data": {
      "text/plain": [
       "{'fillColor': [255, 0, 0, 128],\n",
       " 'flags': {},\n",
       " 'imageData': None,\n",
       " 'imageHeight': 720,\n",
       " 'imagePath': '0222.jpg',\n",
       " 'imageWidth': 1280,\n",
       " 'lineColor': [0, 255, 0, 128],\n",
       " 'shapes': [{'fill_color': None,\n",
       "   'flags': {},\n",
       "   'label': 'ball',\n",
       "   'line_color': None,\n",
       "   'points': [[400, 117]],\n",
       "   'shape_type': 'polygon',\n",
       "   'status': 0,\n",
       "   'visibilliey': 1}],\n",
       " 'version': '3.21.1'}"
      ]
     },
     "execution_count": 35,
     "metadata": {},
     "output_type": "execute_result"
    }
   ],
   "source": [
    "ball_label"
   ]
  },
  {
   "cell_type": "code",
   "execution_count": null,
   "metadata": {},
   "outputs": [],
   "source": []
  },
  {
   "cell_type": "code",
   "execution_count": null,
   "metadata": {},
   "outputs": [],
   "source": []
  },
  {
   "cell_type": "code",
   "execution_count": null,
   "metadata": {},
   "outputs": [],
   "source": []
  },
  {
   "cell_type": "code",
   "execution_count": null,
   "metadata": {},
   "outputs": [],
   "source": []
  },
  {
   "cell_type": "code",
   "execution_count": null,
   "metadata": {},
   "outputs": [],
   "source": []
  },
  {
   "cell_type": "code",
   "execution_count": null,
   "metadata": {},
   "outputs": [],
   "source": []
  },
  {
   "cell_type": "code",
   "execution_count": 23,
   "metadata": {},
   "outputs": [
    {
     "data": {
      "text/plain": [
       "{'fillColor': [255, 0, 0, 128],\n",
       " 'flags': {},\n",
       " 'imageData': None,\n",
       " 'imageHeight': 720,\n",
       " 'imagePath': '0222.jpg',\n",
       " 'imageWidth': 1280,\n",
       " 'lineColor': [0, 255, 0, 128],\n",
       " 'shapes': [{'fill_color': None,\n",
       "   'flags': {},\n",
       "   'label': 'ball',\n",
       "   'line_color': None,\n",
       "   'points': [[400, 117]],\n",
       "   'shape_type': 'polygon',\n",
       "   'status': 0,\n",
       "   'visibilliey': 1}],\n",
       " 'version': '3.21.1'}"
      ]
     },
     "execution_count": 23,
     "metadata": {},
     "output_type": "execute_result"
    }
   ],
   "source": [
    "label"
   ]
  },
  {
   "cell_type": "code",
   "execution_count": null,
   "metadata": {},
   "outputs": [],
   "source": []
  },
  {
   "cell_type": "code",
   "execution_count": null,
   "metadata": {},
   "outputs": [],
   "source": []
  },
  {
   "cell_type": "code",
   "execution_count": null,
   "metadata": {},
   "outputs": [],
   "source": []
  },
  {
   "cell_type": "code",
   "execution_count": null,
   "metadata": {},
   "outputs": [],
   "source": []
  },
  {
   "cell_type": "code",
   "execution_count": null,
   "metadata": {},
   "outputs": [],
   "source": []
  },
  {
   "cell_type": "code",
   "execution_count": null,
   "metadata": {},
   "outputs": [],
   "source": []
  },
  {
   "cell_type": "code",
   "execution_count": null,
   "metadata": {},
   "outputs": [],
   "source": []
  },
  {
   "cell_type": "code",
   "execution_count": 11,
   "metadata": {},
   "outputs": [
    {
     "data": {
      "text/plain": [
       "['0000.jpg',\n",
       " '0001.jpg',\n",
       " '0002.jpg',\n",
       " '0003.jpg',\n",
       " '0004.jpg',\n",
       " '0005.jpg',\n",
       " '0006.jpg',\n",
       " '0007.jpg',\n",
       " '0008.jpg',\n",
       " '0009.jpg',\n",
       " '0010.jpg',\n",
       " '0011.jpg',\n",
       " '0012.jpg',\n",
       " '0013.jpg',\n",
       " '0014.jpg',\n",
       " '0015.jpg',\n",
       " '0016.jpg',\n",
       " '0017.jpg',\n",
       " '0018.jpg',\n",
       " '0019.jpg',\n",
       " '0020.jpg',\n",
       " '0021.jpg',\n",
       " '0022.jpg',\n",
       " '0023.jpg',\n",
       " '0024.jpg',\n",
       " '0025.jpg',\n",
       " '0026.jpg',\n",
       " '0027.jpg',\n",
       " '0028.jpg',\n",
       " '0029.jpg',\n",
       " '0030.jpg',\n",
       " '0031.jpg',\n",
       " '0032.jpg',\n",
       " '0033.jpg',\n",
       " '0034.jpg',\n",
       " '0035.jpg',\n",
       " '0036.jpg',\n",
       " '0037.jpg',\n",
       " '0038.jpg',\n",
       " '0039.jpg',\n",
       " '0040.jpg',\n",
       " '0041.jpg',\n",
       " '0042.jpg',\n",
       " '0043.jpg',\n",
       " '0044.jpg',\n",
       " '0045.jpg',\n",
       " '0046.jpg',\n",
       " '0047.jpg',\n",
       " '0048.jpg',\n",
       " '0049.jpg',\n",
       " '0050.jpg',\n",
       " '0051.jpg',\n",
       " '0052.jpg',\n",
       " '0053.jpg',\n",
       " '0054.jpg',\n",
       " '0055.jpg',\n",
       " '0056.jpg',\n",
       " '0057.jpg',\n",
       " '0058.jpg',\n",
       " '0059.jpg',\n",
       " '0060.jpg',\n",
       " '0061.jpg',\n",
       " '0062.jpg',\n",
       " '0063.jpg',\n",
       " '0064.jpg',\n",
       " '0065.jpg',\n",
       " '0066.jpg',\n",
       " '0067.jpg',\n",
       " '0068.jpg',\n",
       " '0069.jpg',\n",
       " '0070.jpg',\n",
       " '0071.jpg',\n",
       " '0072.jpg',\n",
       " '0073.jpg',\n",
       " '0074.jpg',\n",
       " '0075.jpg',\n",
       " '0076.jpg',\n",
       " '0077.jpg',\n",
       " '0078.jpg',\n",
       " '0079.jpg',\n",
       " '0080.jpg',\n",
       " '0081.jpg',\n",
       " '0082.jpg',\n",
       " '0083.jpg',\n",
       " '0084.jpg',\n",
       " '0085.jpg',\n",
       " '0086.jpg',\n",
       " '0087.jpg',\n",
       " '0088.jpg',\n",
       " '0089.jpg',\n",
       " '0090.jpg',\n",
       " '0091.jpg',\n",
       " '0092.jpg',\n",
       " '0093.jpg',\n",
       " '0094.jpg',\n",
       " '0095.jpg',\n",
       " '0096.jpg',\n",
       " '0097.jpg',\n",
       " '0098.jpg',\n",
       " '0099.jpg',\n",
       " '0100.jpg',\n",
       " '0101.jpg',\n",
       " '0102.jpg',\n",
       " '0103.jpg',\n",
       " '0104.jpg',\n",
       " '0105.jpg',\n",
       " '0106.jpg',\n",
       " '0107.jpg',\n",
       " '0108.jpg',\n",
       " '0109.jpg',\n",
       " '0110.jpg',\n",
       " '0111.jpg',\n",
       " '0112.jpg',\n",
       " '0113.jpg',\n",
       " '0114.jpg',\n",
       " '0115.jpg',\n",
       " '0116.jpg',\n",
       " '0117.jpg',\n",
       " '0118.jpg',\n",
       " '0119.jpg',\n",
       " '0120.jpg',\n",
       " '0121.jpg',\n",
       " '0122.jpg',\n",
       " '0123.jpg',\n",
       " '0124.jpg',\n",
       " '0125.jpg',\n",
       " '0126.jpg',\n",
       " '0127.jpg',\n",
       " '0128.jpg',\n",
       " '0129.jpg',\n",
       " '0130.jpg',\n",
       " '0131.jpg',\n",
       " '0132.jpg',\n",
       " '0133.jpg',\n",
       " '0134.jpg',\n",
       " '0135.jpg',\n",
       " '0136.jpg',\n",
       " '0137.jpg',\n",
       " '0138.jpg',\n",
       " '0139.jpg',\n",
       " '0140.jpg',\n",
       " '0141.jpg',\n",
       " '0142.jpg',\n",
       " '0143.jpg',\n",
       " '0144.jpg',\n",
       " '0145.jpg',\n",
       " '0146.jpg',\n",
       " '0147.jpg',\n",
       " '0148.jpg',\n",
       " '0149.jpg',\n",
       " '0150.jpg',\n",
       " '0151.jpg',\n",
       " '0152.jpg',\n",
       " '0153.jpg',\n",
       " '0154.jpg',\n",
       " '0155.jpg',\n",
       " '0156.jpg',\n",
       " '0157.jpg',\n",
       " '0158.jpg',\n",
       " '0159.jpg',\n",
       " '0160.jpg',\n",
       " '0161.jpg',\n",
       " '0162.jpg',\n",
       " '0163.jpg',\n",
       " '0164.jpg',\n",
       " '0165.jpg',\n",
       " '0166.jpg',\n",
       " '0167.jpg',\n",
       " '0168.jpg',\n",
       " '0169.jpg',\n",
       " '0170.jpg',\n",
       " '0171.jpg',\n",
       " '0172.jpg',\n",
       " '0173.jpg',\n",
       " '0174.jpg',\n",
       " '0175.jpg',\n",
       " '0176.jpg',\n",
       " '0177.jpg',\n",
       " '0178.jpg',\n",
       " '0179.jpg',\n",
       " '0180.jpg',\n",
       " '0181.jpg',\n",
       " '0182.jpg',\n",
       " '0183.jpg',\n",
       " '0184.jpg',\n",
       " '0185.jpg',\n",
       " '0186.jpg',\n",
       " '0187.jpg',\n",
       " '0188.jpg',\n",
       " '0189.jpg',\n",
       " '0190.jpg',\n",
       " '0191.jpg',\n",
       " '0192.jpg',\n",
       " '0193.jpg',\n",
       " '0194.jpg',\n",
       " '0195.jpg',\n",
       " '0196.jpg',\n",
       " '0197.jpg',\n",
       " '0198.jpg',\n",
       " '0199.jpg',\n",
       " '0200.jpg',\n",
       " '0201.jpg',\n",
       " '0202.jpg',\n",
       " '0203.jpg',\n",
       " '0204.jpg',\n",
       " '0205.jpg',\n",
       " '0206.jpg',\n",
       " '0207.jpg',\n",
       " '0208.jpg',\n",
       " '0209.jpg',\n",
       " '0210.jpg',\n",
       " '0211.jpg',\n",
       " '0212.jpg',\n",
       " '0213.jpg',\n",
       " '0214.jpg',\n",
       " '0215.jpg',\n",
       " '0216.jpg',\n",
       " '0217.jpg',\n",
       " '0218.jpg',\n",
       " '0219.jpg',\n",
       " '0220.jpg',\n",
       " '0221.jpg',\n",
       " '0222.jpg']"
      ]
     },
     "execution_count": 11,
     "metadata": {},
     "output_type": "execute_result"
    }
   ],
   "source": [
    "image_names"
   ]
  },
  {
   "cell_type": "code",
   "execution_count": 12,
   "metadata": {},
   "outputs": [
    {
     "data": {
      "text/plain": [
       "['0000.json',\n",
       " '0001.json',\n",
       " '0002.json',\n",
       " '0003.json',\n",
       " '0004.json',\n",
       " '0005.json',\n",
       " '0006.json',\n",
       " '0007.json',\n",
       " '0008.json',\n",
       " '0009.json',\n",
       " '0010.json',\n",
       " '0011.json',\n",
       " '0012.json',\n",
       " '0013.json',\n",
       " '0014.json',\n",
       " '0015.json',\n",
       " '0016.json',\n",
       " '0017.json',\n",
       " '0018.json',\n",
       " '0019.json',\n",
       " '0020.json',\n",
       " '0021.json',\n",
       " '0022.json',\n",
       " '0023.json',\n",
       " '0024.json',\n",
       " '0025.json',\n",
       " '0026.json',\n",
       " '0027.json',\n",
       " '0028.json',\n",
       " '0029.json',\n",
       " '0030.json',\n",
       " '0031.json',\n",
       " '0032.json',\n",
       " '0033.json',\n",
       " '0034.json',\n",
       " '0035.json',\n",
       " '0036.json',\n",
       " '0037.json',\n",
       " '0038.json',\n",
       " '0039.json',\n",
       " '0040.json',\n",
       " '0041.json',\n",
       " '0042.json',\n",
       " '0043.json',\n",
       " '0044.json',\n",
       " '0045.json',\n",
       " '0046.json',\n",
       " '0047.json',\n",
       " '0048.json',\n",
       " '0049.json',\n",
       " '0050.json',\n",
       " '0051.json',\n",
       " '0052.json',\n",
       " '0053.json',\n",
       " '0054.json',\n",
       " '0055.json',\n",
       " '0056.json',\n",
       " '0057.json',\n",
       " '0058.json',\n",
       " '0059.json',\n",
       " '0060.json',\n",
       " '0061.json',\n",
       " '0062.json',\n",
       " '0063.json',\n",
       " '0064.json',\n",
       " '0065.json',\n",
       " '0066.json',\n",
       " '0067.json',\n",
       " '0068.json',\n",
       " '0069.json',\n",
       " '0070.json',\n",
       " '0071.json',\n",
       " '0072.json',\n",
       " '0073.json',\n",
       " '0074.json',\n",
       " '0075.json',\n",
       " '0076.json',\n",
       " '0077.json',\n",
       " '0078.json',\n",
       " '0079.json',\n",
       " '0080.json',\n",
       " '0081.json',\n",
       " '0082.json',\n",
       " '0083.json',\n",
       " '0084.json',\n",
       " '0085.json',\n",
       " '0086.json',\n",
       " '0087.json',\n",
       " '0088.json',\n",
       " '0089.json',\n",
       " '0090.json',\n",
       " '0091.json',\n",
       " '0092.json',\n",
       " '0093.json',\n",
       " '0094.json',\n",
       " '0095.json',\n",
       " '0096.json',\n",
       " '0097.json',\n",
       " '0098.json',\n",
       " '0099.json',\n",
       " '0100.json',\n",
       " '0101.json',\n",
       " '0102.json',\n",
       " '0103.json',\n",
       " '0104.json',\n",
       " '0105.json',\n",
       " '0106.json',\n",
       " '0107.json',\n",
       " '0108.json',\n",
       " '0109.json',\n",
       " '0110.json',\n",
       " '0111.json',\n",
       " '0112.json',\n",
       " '0113.json',\n",
       " '0114.json',\n",
       " '0115.json',\n",
       " '0116.json',\n",
       " '0117.json',\n",
       " '0118.json',\n",
       " '0119.json',\n",
       " '0120.json',\n",
       " '0121.json',\n",
       " '0122.json',\n",
       " '0123.json',\n",
       " '0124.json',\n",
       " '0125.json',\n",
       " '0126.json',\n",
       " '0127.json',\n",
       " '0128.json',\n",
       " '0129.json',\n",
       " '0130.json',\n",
       " '0131.json',\n",
       " '0132.json',\n",
       " '0133.json',\n",
       " '0134.json',\n",
       " '0135.json',\n",
       " '0136.json',\n",
       " '0137.json',\n",
       " '0138.json',\n",
       " '0139.json',\n",
       " '0140.json',\n",
       " '0141.json',\n",
       " '0142.json',\n",
       " '0143.json',\n",
       " '0144.json',\n",
       " '0145.json',\n",
       " '0146.json',\n",
       " '0147.json',\n",
       " '0148.json',\n",
       " '0149.json',\n",
       " '0150.json',\n",
       " '0151.json',\n",
       " '0152.json',\n",
       " '0153.json',\n",
       " '0154.json',\n",
       " '0155.json',\n",
       " '0156.json',\n",
       " '0157.json',\n",
       " '0158.json',\n",
       " '0159.json',\n",
       " '0160.json',\n",
       " '0161.json',\n",
       " '0162.json',\n",
       " '0163.json',\n",
       " '0164.json',\n",
       " '0165.json',\n",
       " '0166.json',\n",
       " '0167.json',\n",
       " '0168.json',\n",
       " '0169.json',\n",
       " '0170.json',\n",
       " '0171.json',\n",
       " '0172.json',\n",
       " '0173.json',\n",
       " '0174.json',\n",
       " '0175.json',\n",
       " '0176.json',\n",
       " '0177.json',\n",
       " '0178.json',\n",
       " '0179.json',\n",
       " '0180.json',\n",
       " '0181.json',\n",
       " '0182.json',\n",
       " '0183.json',\n",
       " '0184.json',\n",
       " '0185.json',\n",
       " '0186.json',\n",
       " '0187.json',\n",
       " '0188.json',\n",
       " '0189.json',\n",
       " '0190.json',\n",
       " '0191.json',\n",
       " '0192.json',\n",
       " '0193.json',\n",
       " '0194.json',\n",
       " '0195.json',\n",
       " '0196.json',\n",
       " '0197.json',\n",
       " '0198.json',\n",
       " '0199.json',\n",
       " '0200.json',\n",
       " '0201.json',\n",
       " '0202.json',\n",
       " '0203.json',\n",
       " '0204.json',\n",
       " '0205.json',\n",
       " '0206.json',\n",
       " '0207.json',\n",
       " '0208.json',\n",
       " '0209.json',\n",
       " '0210.json',\n",
       " '0211.json',\n",
       " '0212.json',\n",
       " '0213.json',\n",
       " '0214.json',\n",
       " '0215.json',\n",
       " '0216.json',\n",
       " '0217.json',\n",
       " '0218.json',\n",
       " '0219.json',\n",
       " '0220.json',\n",
       " '0221.json',\n",
       " '0222.json']"
      ]
     },
     "execution_count": 12,
     "metadata": {},
     "output_type": "execute_result"
    }
   ],
   "source": [
    "label_names"
   ]
  },
  {
   "cell_type": "code",
   "execution_count": 9,
   "metadata": {},
   "outputs": [
    {
     "data": {
      "text/plain": [
       "['0000.jpg',\n",
       " '0000.json',\n",
       " '0001.jpg',\n",
       " '0001.json',\n",
       " '0002.jpg',\n",
       " '0002.json',\n",
       " '0003.jpg',\n",
       " '0003.json',\n",
       " '0004.jpg',\n",
       " '0004.json',\n",
       " '0005.jpg',\n",
       " '0005.json',\n",
       " '0006.jpg',\n",
       " '0006.json',\n",
       " '0007.jpg',\n",
       " '0007.json',\n",
       " '0008.jpg',\n",
       " '0008.json',\n",
       " '0009.jpg',\n",
       " '0009.json',\n",
       " '0010.jpg',\n",
       " '0010.json',\n",
       " '0011.jpg',\n",
       " '0011.json',\n",
       " '0012.jpg',\n",
       " '0012.json',\n",
       " '0013.jpg',\n",
       " '0013.json',\n",
       " '0014.jpg',\n",
       " '0014.json',\n",
       " '0015.jpg',\n",
       " '0015.json',\n",
       " '0016.jpg',\n",
       " '0016.json',\n",
       " '0017.jpg',\n",
       " '0017.json',\n",
       " '0018.jpg',\n",
       " '0018.json',\n",
       " '0019.jpg',\n",
       " '0019.json',\n",
       " '0020.jpg',\n",
       " '0020.json',\n",
       " '0021.jpg',\n",
       " '0021.json',\n",
       " '0022.jpg',\n",
       " '0022.json',\n",
       " '0023.jpg',\n",
       " '0023.json',\n",
       " '0024.jpg',\n",
       " '0024.json',\n",
       " '0025.jpg',\n",
       " '0025.json',\n",
       " '0026.jpg',\n",
       " '0026.json',\n",
       " '0027.jpg',\n",
       " '0027.json',\n",
       " '0028.jpg',\n",
       " '0028.json',\n",
       " '0029.jpg',\n",
       " '0029.json',\n",
       " '0030.jpg',\n",
       " '0030.json',\n",
       " '0031.jpg',\n",
       " '0031.json',\n",
       " '0032.jpg',\n",
       " '0032.json',\n",
       " '0033.jpg',\n",
       " '0033.json',\n",
       " '0034.jpg',\n",
       " '0034.json',\n",
       " '0035.jpg',\n",
       " '0035.json',\n",
       " '0036.jpg',\n",
       " '0036.json',\n",
       " '0037.jpg',\n",
       " '0037.json',\n",
       " '0038.jpg',\n",
       " '0038.json',\n",
       " '0039.jpg',\n",
       " '0039.json',\n",
       " '0040.jpg',\n",
       " '0040.json',\n",
       " '0041.jpg',\n",
       " '0041.json',\n",
       " '0042.jpg',\n",
       " '0042.json',\n",
       " '0043.jpg',\n",
       " '0043.json',\n",
       " '0044.jpg',\n",
       " '0044.json',\n",
       " '0045.jpg',\n",
       " '0045.json',\n",
       " '0046.jpg',\n",
       " '0046.json',\n",
       " '0047.jpg',\n",
       " '0047.json',\n",
       " '0048.jpg',\n",
       " '0048.json',\n",
       " '0049.jpg',\n",
       " '0049.json',\n",
       " '0050.jpg',\n",
       " '0050.json',\n",
       " '0051.jpg',\n",
       " '0051.json',\n",
       " '0052.jpg',\n",
       " '0052.json',\n",
       " '0053.jpg',\n",
       " '0053.json',\n",
       " '0054.jpg',\n",
       " '0054.json',\n",
       " '0055.jpg',\n",
       " '0055.json',\n",
       " '0056.jpg',\n",
       " '0056.json',\n",
       " '0057.jpg',\n",
       " '0057.json',\n",
       " '0058.jpg',\n",
       " '0058.json',\n",
       " '0059.jpg',\n",
       " '0059.json',\n",
       " '0060.jpg',\n",
       " '0060.json',\n",
       " '0061.jpg',\n",
       " '0061.json',\n",
       " '0062.jpg',\n",
       " '0062.json',\n",
       " '0063.jpg',\n",
       " '0063.json',\n",
       " '0064.jpg',\n",
       " '0064.json',\n",
       " '0065.jpg',\n",
       " '0065.json',\n",
       " '0066.jpg',\n",
       " '0066.json',\n",
       " '0067.jpg',\n",
       " '0067.json',\n",
       " '0068.jpg',\n",
       " '0068.json',\n",
       " '0069.jpg',\n",
       " '0069.json',\n",
       " '0070.jpg',\n",
       " '0070.json',\n",
       " '0071.jpg',\n",
       " '0071.json',\n",
       " '0072.jpg',\n",
       " '0072.json',\n",
       " '0073.jpg',\n",
       " '0073.json',\n",
       " '0074.jpg',\n",
       " '0074.json',\n",
       " '0075.jpg',\n",
       " '0075.json',\n",
       " '0076.jpg',\n",
       " '0076.json',\n",
       " '0077.jpg',\n",
       " '0077.json',\n",
       " '0078.jpg',\n",
       " '0078.json',\n",
       " '0079.jpg',\n",
       " '0079.json',\n",
       " '0080.jpg',\n",
       " '0080.json',\n",
       " '0081.jpg',\n",
       " '0081.json',\n",
       " '0082.jpg',\n",
       " '0082.json',\n",
       " '0083.jpg',\n",
       " '0083.json',\n",
       " '0084.jpg',\n",
       " '0084.json',\n",
       " '0085.jpg',\n",
       " '0085.json',\n",
       " '0086.jpg',\n",
       " '0086.json',\n",
       " '0087.jpg',\n",
       " '0087.json',\n",
       " '0088.jpg',\n",
       " '0088.json',\n",
       " '0089.jpg',\n",
       " '0089.json',\n",
       " '0090.jpg',\n",
       " '0090.json',\n",
       " '0091.jpg',\n",
       " '0091.json',\n",
       " '0092.jpg',\n",
       " '0092.json',\n",
       " '0093.jpg',\n",
       " '0093.json',\n",
       " '0094.jpg',\n",
       " '0094.json',\n",
       " '0095.jpg',\n",
       " '0095.json',\n",
       " '0096.jpg',\n",
       " '0096.json',\n",
       " '0097.jpg',\n",
       " '0097.json',\n",
       " '0098.jpg',\n",
       " '0098.json',\n",
       " '0099.jpg',\n",
       " '0099.json',\n",
       " '0100.jpg',\n",
       " '0100.json',\n",
       " '0101.jpg',\n",
       " '0101.json',\n",
       " '0102.jpg',\n",
       " '0102.json',\n",
       " '0103.jpg',\n",
       " '0103.json',\n",
       " '0104.jpg',\n",
       " '0104.json',\n",
       " '0105.jpg',\n",
       " '0105.json',\n",
       " '0106.jpg',\n",
       " '0106.json',\n",
       " '0107.jpg',\n",
       " '0107.json',\n",
       " '0108.jpg',\n",
       " '0108.json',\n",
       " '0109.jpg',\n",
       " '0109.json',\n",
       " '0110.jpg',\n",
       " '0110.json',\n",
       " '0111.jpg',\n",
       " '0111.json',\n",
       " '0112.jpg',\n",
       " '0112.json',\n",
       " '0113.jpg',\n",
       " '0113.json',\n",
       " '0114.jpg',\n",
       " '0114.json',\n",
       " '0115.jpg',\n",
       " '0115.json',\n",
       " '0116.jpg',\n",
       " '0116.json',\n",
       " '0117.jpg',\n",
       " '0117.json',\n",
       " '0118.jpg',\n",
       " '0118.json',\n",
       " '0119.jpg',\n",
       " '0119.json',\n",
       " '0120.jpg',\n",
       " '0120.json',\n",
       " '0121.jpg',\n",
       " '0121.json',\n",
       " '0122.jpg',\n",
       " '0122.json',\n",
       " '0123.jpg',\n",
       " '0123.json',\n",
       " '0124.jpg',\n",
       " '0124.json',\n",
       " '0125.jpg',\n",
       " '0125.json',\n",
       " '0126.jpg',\n",
       " '0126.json',\n",
       " '0127.jpg',\n",
       " '0127.json',\n",
       " '0128.jpg',\n",
       " '0128.json',\n",
       " '0129.jpg',\n",
       " '0129.json',\n",
       " '0130.jpg',\n",
       " '0130.json',\n",
       " '0131.jpg',\n",
       " '0131.json',\n",
       " '0132.jpg',\n",
       " '0132.json',\n",
       " '0133.jpg',\n",
       " '0133.json',\n",
       " '0134.jpg',\n",
       " '0134.json',\n",
       " '0135.jpg',\n",
       " '0135.json',\n",
       " '0136.jpg',\n",
       " '0136.json',\n",
       " '0137.jpg',\n",
       " '0137.json',\n",
       " '0138.jpg',\n",
       " '0138.json',\n",
       " '0139.jpg',\n",
       " '0139.json',\n",
       " '0140.jpg',\n",
       " '0140.json',\n",
       " '0141.jpg',\n",
       " '0141.json',\n",
       " '0142.jpg',\n",
       " '0142.json',\n",
       " '0143.jpg',\n",
       " '0143.json',\n",
       " '0144.jpg',\n",
       " '0144.json',\n",
       " '0145.jpg',\n",
       " '0145.json',\n",
       " '0146.jpg',\n",
       " '0146.json',\n",
       " '0147.jpg',\n",
       " '0147.json',\n",
       " '0148.jpg',\n",
       " '0148.json',\n",
       " '0149.jpg',\n",
       " '0149.json',\n",
       " '0150.jpg',\n",
       " '0150.json',\n",
       " '0151.jpg',\n",
       " '0151.json',\n",
       " '0152.jpg',\n",
       " '0152.json',\n",
       " '0153.jpg',\n",
       " '0153.json',\n",
       " '0154.jpg',\n",
       " '0154.json',\n",
       " '0155.jpg',\n",
       " '0155.json',\n",
       " '0156.jpg',\n",
       " '0156.json',\n",
       " '0157.jpg',\n",
       " '0157.json',\n",
       " '0158.jpg',\n",
       " '0158.json',\n",
       " '0159.jpg',\n",
       " '0159.json',\n",
       " '0160.jpg',\n",
       " '0160.json',\n",
       " '0161.jpg',\n",
       " '0161.json',\n",
       " '0162.jpg',\n",
       " '0162.json',\n",
       " '0163.jpg',\n",
       " '0163.json',\n",
       " '0164.jpg',\n",
       " '0164.json',\n",
       " '0165.jpg',\n",
       " '0165.json',\n",
       " '0166.jpg',\n",
       " '0166.json',\n",
       " '0167.jpg',\n",
       " '0167.json',\n",
       " '0168.jpg',\n",
       " '0168.json',\n",
       " '0169.jpg',\n",
       " '0169.json',\n",
       " '0170.jpg',\n",
       " '0170.json',\n",
       " '0171.jpg',\n",
       " '0171.json',\n",
       " '0172.jpg',\n",
       " '0172.json',\n",
       " '0173.jpg',\n",
       " '0173.json',\n",
       " '0174.jpg',\n",
       " '0174.json',\n",
       " '0175.jpg',\n",
       " '0175.json',\n",
       " '0176.jpg',\n",
       " '0176.json',\n",
       " '0177.jpg',\n",
       " '0177.json',\n",
       " '0178.jpg',\n",
       " '0178.json',\n",
       " '0179.jpg',\n",
       " '0179.json',\n",
       " '0180.jpg',\n",
       " '0180.json',\n",
       " '0181.jpg',\n",
       " '0181.json',\n",
       " '0182.jpg',\n",
       " '0182.json',\n",
       " '0183.jpg',\n",
       " '0183.json',\n",
       " '0184.jpg',\n",
       " '0184.json',\n",
       " '0185.jpg',\n",
       " '0185.json',\n",
       " '0186.jpg',\n",
       " '0186.json',\n",
       " '0187.jpg',\n",
       " '0187.json',\n",
       " '0188.jpg',\n",
       " '0188.json',\n",
       " '0189.jpg',\n",
       " '0189.json',\n",
       " '0190.jpg',\n",
       " '0190.json',\n",
       " '0191.jpg',\n",
       " '0191.json',\n",
       " '0192.jpg',\n",
       " '0192.json',\n",
       " '0193.jpg',\n",
       " '0193.json',\n",
       " '0194.jpg',\n",
       " '0194.json',\n",
       " '0195.jpg',\n",
       " '0195.json',\n",
       " '0196.jpg',\n",
       " '0196.json',\n",
       " '0197.jpg',\n",
       " '0197.json',\n",
       " '0198.jpg',\n",
       " '0198.json',\n",
       " '0199.jpg',\n",
       " '0199.json',\n",
       " '0200.jpg',\n",
       " '0200.json',\n",
       " '0201.jpg',\n",
       " '0201.json',\n",
       " '0202.jpg',\n",
       " '0202.json',\n",
       " '0203.jpg',\n",
       " '0203.json',\n",
       " '0204.jpg',\n",
       " '0204.json',\n",
       " '0205.jpg',\n",
       " '0205.json',\n",
       " '0206.jpg',\n",
       " '0206.json',\n",
       " '0207.jpg',\n",
       " '0207.json',\n",
       " '0208.jpg',\n",
       " '0208.json',\n",
       " '0209.jpg',\n",
       " '0209.json',\n",
       " '0210.jpg',\n",
       " '0210.json',\n",
       " '0211.jpg',\n",
       " '0211.json',\n",
       " '0212.jpg',\n",
       " '0212.json',\n",
       " '0213.jpg',\n",
       " '0213.json',\n",
       " '0214.jpg',\n",
       " '0214.json',\n",
       " '0215.jpg',\n",
       " '0215.json',\n",
       " '0216.jpg',\n",
       " '0216.json',\n",
       " '0217.jpg',\n",
       " '0217.json',\n",
       " '0218.jpg',\n",
       " '0218.json',\n",
       " '0219.jpg',\n",
       " '0219.json',\n",
       " '0220.jpg',\n",
       " '0220.json',\n",
       " '0221.jpg',\n",
       " '0221.json',\n",
       " '0222.jpg',\n",
       " '0222.json']"
      ]
     },
     "execution_count": 9,
     "metadata": {},
     "output_type": "execute_result"
    }
   ],
   "source": [
    "file_names"
   ]
  },
  {
   "cell_type": "code",
   "execution_count": null,
   "metadata": {},
   "outputs": [],
   "source": []
  },
  {
   "cell_type": "code",
   "execution_count": null,
   "metadata": {},
   "outputs": [],
   "source": []
  },
  {
   "cell_type": "code",
   "execution_count": null,
   "metadata": {},
   "outputs": [],
   "source": []
  },
  {
   "cell_type": "code",
   "execution_count": null,
   "metadata": {},
   "outputs": [],
   "source": []
  },
  {
   "cell_type": "code",
   "execution_count": null,
   "metadata": {},
   "outputs": [],
   "source": []
  },
  {
   "cell_type": "code",
   "execution_count": null,
   "metadata": {},
   "outputs": [],
   "source": []
  },
  {
   "cell_type": "code",
   "execution_count": null,
   "metadata": {},
   "outputs": [],
   "source": []
  }
 ],
 "metadata": {
  "kernelspec": {
   "display_name": "Python 3",
   "language": "python",
   "name": "python3"
  },
  "language_info": {
   "codemirror_mode": {
    "name": "ipython",
    "version": 3
   },
   "file_extension": ".py",
   "mimetype": "text/x-python",
   "name": "python",
   "nbconvert_exporter": "python",
   "pygments_lexer": "ipython3",
   "version": "3.6.8"
  }
 },
 "nbformat": 4,
 "nbformat_minor": 4
}
