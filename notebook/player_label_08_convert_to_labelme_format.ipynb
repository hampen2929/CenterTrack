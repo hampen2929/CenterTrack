{
 "cells": [
  {
   "cell_type": "markdown",
   "metadata": {},
   "source": [
    "# import"
   ]
  },
  {
   "cell_type": "code",
   "execution_count": 58,
   "metadata": {},
   "outputs": [],
   "source": [
    "import cv2\n",
    "import os\n",
    "import os.path as osp\n",
    "from glob import glob\n",
    "from tqdm import tqdm\n",
    "import pickle\n",
    "import pandas as pd\n",
    "import numpy as np\n",
    "import matplotlib.pyplot as plt\n",
    "from IPython.display import Video\n",
    "from util import load_json, save_json\n",
    "from copy import copy"
   ]
  },
  {
   "cell_type": "code",
   "execution_count": 2,
   "metadata": {},
   "outputs": [],
   "source": [
    "import time"
   ]
  },
  {
   "cell_type": "markdown",
   "metadata": {},
   "source": [
    "# path"
   ]
  },
  {
   "cell_type": "code",
   "execution_count": 3,
   "metadata": {},
   "outputs": [],
   "source": [
    "data_name = 'player'\n",
    "input_dir = osp.join('../input', data_name)\n",
    "data_dir = osp.join('../output', data_name, 'tracking')\n",
    "label_save_dir = osp.join('../output', data_name, 'label')\n",
    "reid_dir = osp.join('../output', data_name, 'reid')\n",
    "track_label_path = osp.join('../output/')\n",
    "# movie_dir = osp.join('../output', data_name, 'movie')\n",
    "movie_dir = osp.join('../output', data_name, 'movie_process')\n",
    "mot_pid_dir = osp.join('../output', data_name, 'mot_pid')\n",
    "mot_process_save_dir = osp.join('../output', data_name, 'mot_pid_process')"
   ]
  },
  {
   "cell_type": "markdown",
   "metadata": {},
   "source": [
    "# function"
   ]
  },
  {
   "cell_type": "code",
   "execution_count": 4,
   "metadata": {},
   "outputs": [],
   "source": [
    "def listdirs(dir_path, name_condition=None):\n",
    "    dir_names = os.listdir(dir_path)\n",
    "    if name_condition is not None:\n",
    "        dir_names = [dir_name for dir_name in dir_names if dir_name.startswith(name_condition)]\n",
    "    dir_names.sort()\n",
    "    return dir_names"
   ]
  },
  {
   "cell_type": "code",
   "execution_count": 5,
   "metadata": {},
   "outputs": [],
   "source": [
    "def save_pickle(data, path):\n",
    "    with open(path, 'wb') as f:\n",
    "        pickle.dump(data, f)\n",
    "\n",
    "def load_pickle(path):\n",
    "    with open(path, 'rb') as f:\n",
    "        data = pickle.load(f)\n",
    "    return data"
   ]
  },
  {
   "cell_type": "code",
   "execution_count": 6,
   "metadata": {},
   "outputs": [],
   "source": [
    "def draw_bbox(img, bboxes, c=(0,255,0)):\n",
    "    for bbox in bboxes:\n",
    "        cv2.rectangle(img, (int(bbox[0]), int(bbox[1])), \n",
    "                      (int(bbox[0] + bbox[2]), int(bbox[1] + bbox[3])), \n",
    "                      (0,255,0), 2, lineType=cv2.LINE_AA)\n",
    "        ct = [bbox[0] + bbox[2] / 2, bbox[1] + bbox[3] / 2]\n",
    "        txt = '{}'.format(bbox[4])\n",
    "        cv2.putText(img, txt, (int(ct[0]), int(ct[1])), \n",
    "                    cv2.FONT_HERSHEY_SIMPLEX, 0.5, \n",
    "                    (0, 0, 0), thickness=3, lineType=cv2.LINE_AA)\n",
    "        cv2.putText(img, txt, (int(ct[0]), int(ct[1])), \n",
    "                    cv2.FONT_HERSHEY_SIMPLEX, 0.5, \n",
    "                    c, thickness=2, lineType=cv2.LINE_AA)"
   ]
  },
  {
   "cell_type": "markdown",
   "metadata": {},
   "source": [
    "# all"
   ]
  },
  {
   "cell_type": "code",
   "execution_count": 109,
   "metadata": {},
   "outputs": [],
   "source": [
    "games = ['game1']\n",
    "games = None\n",
    "\n",
    "clips = ['Clip1']\n",
    "clips = None"
   ]
  },
  {
   "cell_type": "code",
   "execution_count": 110,
   "metadata": {},
   "outputs": [],
   "source": [
    "template_org = {'fillColor': [255, 0, 0, 128],\n",
    " 'imageData': None,\n",
    " 'imageHeight': 720,\n",
    " 'imagePath': '',\n",
    " 'imageWidth': 1280,\n",
    " 'lineColor': [0, 255, 0, 128],\n",
    " 'shapes': [\n",
    "  {'fill_color': None,\n",
    "   'flags': {},\n",
    "   'group_id': None,\n",
    "   'label': 'person',\n",
    "   'line_color': None,\n",
    "   'points': [[None, None],[None, None]],\n",
    "   'shape_type': 'rectangle'},\n",
    "  ],\n",
    " 'version': '4.2.10'}"
   ]
  },
  {
   "cell_type": "code",
   "execution_count": 115,
   "metadata": {
    "scrolled": false
   },
   "outputs": [
    {
     "name": "stderr",
     "output_type": "stream",
     "text": [
      "\r",
      "  0%|          | 0/10 [00:00<?, ?it/s]"
     ]
    },
    {
     "name": "stdout",
     "output_type": "stream",
     "text": [
      "game1\n",
      "Clip1\n",
      "Clip10\n",
      "Clip11\n",
      "Clip12\n",
      "Clip13\n",
      "Clip2\n",
      "Clip3\n",
      "Clip4\n",
      "Clip5\n",
      "Clip6\n",
      "Clip7\n",
      "Clip8\n",
      "Clip9\n"
     ]
    },
    {
     "name": "stderr",
     "output_type": "stream",
     "text": [
      "\r",
      " 10%|█         | 1/10 [00:02<00:25,  2.84s/it]"
     ]
    },
    {
     "name": "stdout",
     "output_type": "stream",
     "text": [
      "game10\n",
      "Clip1\n",
      "Clip10\n",
      "Clip11\n",
      "Clip12\n",
      "Clip2\n",
      "Clip3\n",
      "Clip4\n",
      "Clip5\n",
      "Clip6\n",
      "Clip7\n"
     ]
    },
    {
     "name": "stderr",
     "output_type": "stream",
     "text": [
      "\r",
      " 20%|██        | 2/10 [00:05<00:23,  2.92s/it]"
     ]
    },
    {
     "name": "stdout",
     "output_type": "stream",
     "text": [
      "Clip8\n",
      "Clip9\n",
      "game2\n",
      "Clip1\n",
      "Clip2\n",
      "Clip3\n",
      "Clip4\n",
      "Clip5\n",
      "Clip6\n",
      "Clip7\n",
      "Clip8\n"
     ]
    },
    {
     "name": "stderr",
     "output_type": "stream",
     "text": [
      "\r",
      " 30%|███       | 3/10 [00:09<00:21,  3.02s/it]"
     ]
    },
    {
     "name": "stdout",
     "output_type": "stream",
     "text": [
      "game3\n",
      "Clip1\n",
      "Clip2\n",
      "Clip3\n",
      "Clip4\n",
      "Clip5\n",
      "Clip6\n",
      "Clip7\n",
      "Clip8\n",
      "Clip9\n"
     ]
    },
    {
     "name": "stderr",
     "output_type": "stream",
     "text": [
      "\r",
      " 40%|████      | 4/10 [00:11<00:17,  2.92s/it]"
     ]
    },
    {
     "name": "stdout",
     "output_type": "stream",
     "text": [
      "game4\n",
      "Clip1\n",
      "Clip2\n",
      "Clip3\n",
      "Clip4\n",
      "Clip5\n",
      "Clip6\n",
      "Clip7\n"
     ]
    },
    {
     "name": "stderr",
     "output_type": "stream",
     "text": [
      "\r",
      " 50%|█████     | 5/10 [00:15<00:15,  3.00s/it]"
     ]
    },
    {
     "name": "stdout",
     "output_type": "stream",
     "text": [
      "game5\n",
      "Clip1\n",
      "Clip10\n",
      "Clip11\n",
      "Clip12\n",
      "Clip13\n",
      "Clip14\n",
      "Clip15\n",
      "Clip2\n",
      "Clip3\n",
      "Clip4\n",
      "Clip5\n",
      "Clip6\n",
      "Clip7\n",
      "Clip8\n",
      "Clip9\n"
     ]
    },
    {
     "name": "stderr",
     "output_type": "stream",
     "text": [
      "\r",
      " 60%|██████    | 6/10 [00:17<00:11,  2.95s/it]"
     ]
    },
    {
     "name": "stdout",
     "output_type": "stream",
     "text": [
      "game6\n",
      "Clip1\n",
      "Clip2\n",
      "Clip3\n",
      "Clip4\n"
     ]
    },
    {
     "name": "stderr",
     "output_type": "stream",
     "text": [
      "\r",
      " 70%|███████   | 7/10 [00:20<00:08,  2.93s/it]"
     ]
    },
    {
     "name": "stdout",
     "output_type": "stream",
     "text": [
      "game7\n",
      "Clip1\n",
      "Clip2\n",
      "Clip3\n",
      "Clip4\n",
      "Clip5\n",
      "Clip6\n",
      "Clip8\n"
     ]
    },
    {
     "name": "stderr",
     "output_type": "stream",
     "text": [
      "\r",
      " 80%|████████  | 8/10 [00:23<00:05,  2.79s/it]"
     ]
    },
    {
     "name": "stdout",
     "output_type": "stream",
     "text": [
      "Clip9\n",
      "game8\n",
      "Clip1\n",
      "Clip2\n",
      "Clip3\n",
      "Clip4\n",
      "Clip5\n",
      "Clip6\n",
      "Clip7\n",
      "Clip8\n",
      "Clip9\n"
     ]
    },
    {
     "name": "stderr",
     "output_type": "stream",
     "text": [
      "\r",
      " 90%|█████████ | 9/10 [00:26<00:02,  2.80s/it]"
     ]
    },
    {
     "name": "stdout",
     "output_type": "stream",
     "text": [
      "game9\n",
      "Clip1\n",
      "Clip2\n",
      "Clip3\n",
      "Clip4\n",
      "Clip5\n",
      "Clip6\n",
      "Clip7\n",
      "Clip8\n",
      "Clip9\n"
     ]
    },
    {
     "name": "stderr",
     "output_type": "stream",
     "text": [
      "100%|██████████| 10/10 [00:28<00:00,  2.83s/it]\n"
     ]
    }
   ],
   "source": [
    "if games is None:\n",
    "    games = listdirs(input_dir, 'game')\n",
    "    \n",
    "columns = ['frame_index', 'tracking_id', 'xmin', 'ymin', 'xmax', 'ymax', 'confidence', 'image_name']\n",
    "for game in tqdm(games):\n",
    "    print(game)\n",
    "    game_dir = osp.join(input_dir, game)\n",
    "    if clips is None:\n",
    "        clips = listdirs(game_dir, 'Clip')\n",
    "    \n",
    "    track_pid_paths = glob(osp.join(reid_dir, game, '*.csv'))\n",
    "    \n",
    "    for clip in clips:\n",
    "        print(clip)\n",
    "        mot_pid_process_save_path = osp.join(mot_process_save_dir, game, '{}.csv'.format(clip))\n",
    "        mot_pid_df = pd.read_csv(mot_pid_process_save_path)\n",
    "        \n",
    "        frame_indexes = mot_pid_df.frame_index.unique()\n",
    "        for frame_index in frame_indexes:\n",
    "            image_name = '{:04}.jpg'.format(frame_index)\n",
    "            label_name = '{:04}.json'.format(frame_index)\n",
    "            \n",
    "            frame_mot_df = mot_pid_df[mot_pid_df.frame_index==frame_index]\n",
    "            template = copy(template_org)\n",
    "            template['imagePath'] = image_name\n",
    "            shapes = []\n",
    "            for idx, item in frame_mot_df.iterrows():\n",
    "                \n",
    "                template_shape = copy(template_org['shapes'][0])\n",
    "                xmin = item.xmin\n",
    "                ymin = item.ymin\n",
    "                xmax = item.xmax\n",
    "                ymax = item.ymax\n",
    "                person_name = item.person_name\n",
    "\n",
    "                template_shape['points'] = [[xmin, ymin],[xmax,ymax]]\n",
    "\n",
    "                template_shape['label'] = 'person'\n",
    "                template_shape['person_name'] = person_name\n",
    "                shapes.append(template_shape)\n",
    "\n",
    "            template['shapes'] = shapes\n",
    "            label_save_path = osp.join(input_dir, game, clip, label_name)\n",
    "            \n",
    "            if osp.exists(label_save_path):\n",
    "                os.remove(label_save_path)\n",
    "            save_json(template, label_save_path)\n",
    "                \n",
    "            # 0000.jpg is not labeled use 0001 label\n",
    "            if frame_index == 1:\n",
    "                image_name = '{:04}.jpg'.format(0)\n",
    "                label_name = '{:04}.json'.format(0)\n",
    "                label_save_path = osp.join(input_dir, game, clip, '0000.json')\n",
    "                if osp.exists(label_save_path):\n",
    "                    os.remove(label_save_path)\n",
    "                template['imagePath'] = '0000.jpg'\n",
    "                save_json(template, label_save_path)\n",
    "                \n",
    "            \n",
    "    clips = None"
   ]
  },
  {
   "cell_type": "code",
   "execution_count": null,
   "metadata": {},
   "outputs": [],
   "source": []
  },
  {
   "cell_type": "code",
   "execution_count": null,
   "metadata": {},
   "outputs": [],
   "source": []
  },
  {
   "cell_type": "code",
   "execution_count": null,
   "metadata": {},
   "outputs": [],
   "source": []
  },
  {
   "cell_type": "code",
   "execution_count": null,
   "metadata": {},
   "outputs": [],
   "source": []
  },
  {
   "cell_type": "code",
   "execution_count": null,
   "metadata": {},
   "outputs": [],
   "source": []
  }
 ],
 "metadata": {
  "kernelspec": {
   "display_name": "Python 3",
   "language": "python",
   "name": "python3"
  },
  "language_info": {
   "codemirror_mode": {
    "name": "ipython",
    "version": 3
   },
   "file_extension": ".py",
   "mimetype": "text/x-python",
   "name": "python",
   "nbconvert_exporter": "python",
   "pygments_lexer": "ipython3",
   "version": "3.6.8"
  }
 },
 "nbformat": 4,
 "nbformat_minor": 4
}
