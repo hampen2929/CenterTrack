{
 "cells": [
  {
   "cell_type": "markdown",
   "metadata": {},
   "source": [
    "アノテーションした点をBBOXに変換する"
   ]
  },
  {
   "cell_type": "code",
   "execution_count": 5,
   "metadata": {},
   "outputs": [],
   "source": [
    "import os\n",
    "import os.path as osp\n",
    "from glob import glob\n",
    "from util import load_json, save_json\n",
    "import shutil\n",
    "import numpy as np\n",
    "from tqdm import tqdm"
   ]
  },
  {
   "cell_type": "code",
   "execution_count": 6,
   "metadata": {},
   "outputs": [],
   "source": [
    "data_name = 'tennis'\n",
    "# data_name = 'ball'\n",
    "# length = 10\n",
    "length = 20"
   ]
  },
  {
   "cell_type": "code",
   "execution_count": 7,
   "metadata": {},
   "outputs": [],
   "source": [
    "base_dir = '/workspace/CenterTrack/'\n",
    "data_dir = os.path.join(base_dir, 'input/{}/'.format(data_name))\n",
    "save_dir = os.path.join(base_dir, 'output/{}/bbox/'.format(data_name))"
   ]
  },
  {
   "cell_type": "code",
   "execution_count": 8,
   "metadata": {},
   "outputs": [],
   "source": [
    "def listdirs(dir_path, name_condition=None):\n",
    "    dir_names = os.listdir(dir_path)\n",
    "    if name_condition is not None:\n",
    "        dir_names = [dir_name for dir_name in dir_names if dir_name.startswith(name_condition)]\n",
    "    dir_names.sort()\n",
    "    return dir_names"
   ]
  },
  {
   "cell_type": "code",
   "execution_count": 9,
   "metadata": {},
   "outputs": [
    {
     "name": "stderr",
     "output_type": "stream",
     "text": [
      "100%|██████████| 10/10 [00:28<00:00,  2.89s/it]\n"
     ]
    }
   ],
   "source": [
    "games = listdirs(data_dir, 'game')\n",
    "for game in tqdm(games):\n",
    "    game_dir = osp.join(data_dir, game)\n",
    "    clips = listdirs(game_dir, 'Clip')    \n",
    "    for clip in clips:\n",
    "        clip_dir = osp.join(game_dir, clip)\n",
    "        file_names = listdirs(clip_dir)\n",
    "        label_names = [label for label in file_names if osp.splitext(label)[1]=='.json']\n",
    "        image_names = [image for image in file_names if osp.splitext(image)[1]=='.jpg']\n",
    "        \n",
    "        label_names.sort()\n",
    "        image_names.sort()\n",
    "        \n",
    "        if len(label_names) != len(image_names):\n",
    "            print(game, '-', clip)\n",
    "            print('label_names {} and image_names {} are not different'.format(len(label_names), len(image_names)))\n",
    "            continue\n",
    "        \n",
    "        for image_name, label_name in zip(image_names, label_names):\n",
    "            assert osp.splitext(label_name)[0] == osp.splitext(image_name)[0]\n",
    "            \n",
    "            ##### path #####\n",
    "            frame_index, ext = osp.splitext(image_name)\n",
    "            save_name = '{}-{}-{}'.format(game, clip, frame_index)\n",
    "            label_path = osp.join(clip_dir, label_name)\n",
    "            image_path = osp.join(clip_dir, image_name)\n",
    "            \n",
    "            image_save_path = osp.join(save_dir, game, clip, '{}.jpg'.format(save_name))\n",
    "            label_save_path = osp.join(save_dir, game, clip, '{}.json'.format(save_name))\n",
    "            \n",
    "            os.makedirs(osp.dirname(image_save_path), exist_ok=True)\n",
    "            \n",
    "            ##### image #####\n",
    "            shutil.copy(image_path, image_save_path)\n",
    "            \n",
    "            ##### label #####\n",
    "            label = load_json(label_path)\n",
    "            label['imageData'] = None\n",
    "            \n",
    "            # bbox\n",
    "            label_shapes = label['shapes']\n",
    "            for label_num in range(len(label_shapes)):\n",
    "                data = label_shapes[label_num]\n",
    "                \n",
    "                label_name = data['label']\n",
    "                if label_name == 'person':\n",
    "                    xmin, ymin = data['points'][0]\n",
    "                    xmax, ymax = data['points'][1]\n",
    "                    \n",
    "                    xmin = float(np.maximum(xmin, 0))\n",
    "                    ymin = float(np.maximum(ymin, 0))\n",
    "                    xmax = float(np.minimum(xmax, label['imageWidth']))\n",
    "                    ymax = float(np.minimum(ymax, label['imageHeight']))\n",
    "                else:\n",
    "                    points = data['points']\n",
    "\n",
    "                    x, y = points[0]\n",
    "\n",
    "                    xmin = np.maximum(x - length / 2, 0)\n",
    "                    ymin = np.maximum(y - length / 2, 0)\n",
    "                    xmax = np.minimum(x + length / 2, label['imageWidth'])\n",
    "                    ymax = np.minimum(y + length / 2, label['imageHeight'])\n",
    "\n",
    "                bbox = [[xmin, ymin], [xmax, ymax]]\n",
    "\n",
    "                width = xmax - xmin\n",
    "                height = ymax - ymin\n",
    "\n",
    "                if (width > 0) and (height > 0):\n",
    "                    label['shapes'][label_num]['points'] = bbox\n",
    "                    label['shapes'][label_num]['shape_type'] = 'rectangle'\n",
    "                else:\n",
    "                    print('no bbox')\n",
    "                    del label['shapes'][label_num]\n",
    "            \n",
    "            # name\n",
    "            label['imagePath'] = osp.basename(image_save_path)\n",
    "            save_json(label, label_save_path)"
   ]
  },
  {
   "cell_type": "code",
   "execution_count": null,
   "metadata": {},
   "outputs": [],
   "source": []
  },
  {
   "cell_type": "code",
   "execution_count": null,
   "metadata": {},
   "outputs": [],
   "source": []
  }
 ],
 "metadata": {
  "kernelspec": {
   "display_name": "Python 3",
   "language": "python",
   "name": "python3"
  },
  "language_info": {
   "codemirror_mode": {
    "name": "ipython",
    "version": 3
   },
   "file_extension": ".py",
   "mimetype": "text/x-python",
   "name": "python",
   "nbconvert_exporter": "python",
   "pygments_lexer": "ipython3",
   "version": "3.6.8"
  }
 },
 "nbformat": 4,
 "nbformat_minor": 4
}
